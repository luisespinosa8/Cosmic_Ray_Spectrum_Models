{
 "cells": [
  {
   "cell_type": "markdown",
   "id": "295516cd",
   "metadata": {},
   "source": [
    "# Cosmic Ray Proton Spectrum Fitting"
   ]
  },
  {
   "cell_type": "code",
   "execution_count": 1,
   "id": "58eba51c",
   "metadata": {},
   "outputs": [],
   "source": [
    "from pylab import *\n",
    "from scipy.optimize import minimize \n",
    "from scipy import interpolate"
   ]
  },
  {
   "cell_type": "markdown",
   "id": "551a25cd",
   "metadata": {},
   "source": [
    "## PAMELA data from Adriani et al., Science 332, 69 (2011)\n",
    "### Data sets columns:\n",
    "#### [0] Quantity $\\quad$ [1] $<R>$ (GV) $\\quad$ [2] Bin range $\\quad$ [3] Flux (per R bin)  (GV m2 s sr)-1 $\\quad$ [4] Stat Err $\\quad$ [5] Syst Err"
   ]
  },
  {
   "cell_type": "markdown",
   "id": "d016b950",
   "metadata": {},
   "source": [
    "### * *More recent data in Adriani et al., ApJ 765, 91 (2013)*"
   ]
  },
  {
   "cell_type": "code",
   "execution_count": 2,
   "id": "4dd5eced",
   "metadata": {},
   "outputs": [],
   "source": [
    "Z = 1\n",
    "data_PAMELA_H = np.genfromtxt(\"Data/PAMELA_H_data.txt\")\n",
    "R_PAMELA = data_PAMELA_H[:,1]\n",
    "E_PAMELA = R_PAMELA * Z\n",
    "flux_R_PAMELA = data_PAMELA_H[:,3]\n",
    "flux_PAMELA = flux_R_PAMELA / Z\n",
    "error_PAMELA_stat = data_PAMELA_H[:,4]/Z; error_PAMELA_syst = data_PAMELA_H[:,5]/Z\n",
    "error_PAMELA = np.sqrt(error_PAMELA_stat**2 + error_PAMELA_syst**2)"
   ]
  },
  {
   "cell_type": "markdown",
   "id": "e8c7bf04",
   "metadata": {},
   "source": [
    "## AMS02 data from Aguilar et al., PRL 114, 171103 (2015)\n",
    "### Data sets columns:\n",
    "#### [0] Quantity $\\quad$ [1] $<R>$ (GV) $\\quad$ [2] Bin range $\\quad$ [3] Flux (per R bin)  (GV m2 s sr)-1 $\\quad$ [4] Stat Err $\\quad$ [5] Syst Err"
   ]
  },
  {
   "cell_type": "markdown",
   "id": "db360eed",
   "metadata": {},
   "source": [
    "### * *More recent data in Aguilar et al., PhR 894, 1 (2021)*"
   ]
  },
  {
   "cell_type": "code",
   "execution_count": 3,
   "id": "52d78ab2",
   "metadata": {},
   "outputs": [],
   "source": [
    "Z = 1\n",
    "data_AMS02_H = np.genfromtxt(\"Data/AMS02_H_data.txt\")\n",
    "R_AMS02 = data_AMS02_H[:,1]\n",
    "E_AMS02 = R_AMS02 * Z\n",
    "flux_R_AMS02 = data_AMS02_H[:,3]\n",
    "flux_AMS02 = flux_R_AMS02 / Z\n",
    "error_AMS02_stat = data_AMS02_H[:,4]/Z; error_AMS02_syst = data_AMS02_H[:,5]/Z\n",
    "error_AMS02 = np.sqrt(error_AMS02_stat**2 + error_AMS02_syst**2)"
   ]
  },
  {
   "cell_type": "markdown",
   "id": "872c2685",
   "metadata": {},
   "source": [
    "## DAMPE data from An et al., SciA 5, eaax3793 (2019)\n",
    "### Data sets columns:\n",
    "#### [0] Quantity $\\quad$ [1] $<Ek>$ (GeV) $\\quad$ [2] Bin range $\\quad$ [3] Flux (per Ek bin)  (GeV m2 s sr)-1 $\\quad$ [4] Stat Err $\\quad$ [5] Syst Err"
   ]
  },
  {
   "cell_type": "code",
   "execution_count": 4,
   "id": "6ef6c46f",
   "metadata": {},
   "outputs": [],
   "source": [
    "data_DAMPE_H = np.genfromtxt(\"Data/DAMPE_H_data.txt\")\n",
    "E_DAMPE = data_DAMPE_H[:,1]\n",
    "flux_DAMPE = data_DAMPE_H[:,3]\n",
    "error_DAMPE = data_DAMPE_H[:,4]"
   ]
  },
  {
   "cell_type": "markdown",
   "id": "953c6a8b",
   "metadata": {},
   "source": [
    "## CALET data from Adriani et al., PhRvL 122, 181102 (2019)\n",
    "### Data sets columns:\n",
    "#### [0] Quantity $\\quad$ [1] $<Ek>$ (GeV) $\\quad$ [2] Bin range $\\quad$ [3] Flux (per Ek bin)  (GeV m2 s sr)-1 $\\quad$ [4] Stat Err $\\quad$ [5] Syst Err (-) $\\quad$ [6] Syst Err (+)"
   ]
  },
  {
   "cell_type": "markdown",
   "id": "a9058cc1",
   "metadata": {},
   "source": [
    "### * *More recent data in Adriani et al., PhRvL 129, 101102 (2022)*"
   ]
  },
  {
   "cell_type": "code",
   "execution_count": 5,
   "id": "beceb4ce",
   "metadata": {},
   "outputs": [],
   "source": [
    "Z = 1\n",
    "data_CALET_H = np.genfromtxt(\"Data/CALET_H_data.txt\")\n",
    "R_CALET = data_CALET_H[:,1]\n",
    "E_CALET = R_CALET * Z\n",
    "flux_R_CALET = data_CALET_H[:,3]\n",
    "flux_CALET = flux_R_CALET / Z\n",
    "error_CALET = data_CALET_H[:,4]/Z"
   ]
  },
  {
   "cell_type": "markdown",
   "id": "c079b04b",
   "metadata": {},
   "source": [
    "## CREAM data from Yoon et al., ApJ 839, 5 (2017)\n",
    "### Data sets colums\n",
    "#### [0] Quantity $\\quad$ [1] $<Ek/n>$ (GeV) $\\quad$ [2] Bin range $\\quad$ [3] Flux (per Ek/n bin)  (GeV m2 s sr)-1 $\\quad$ [4] Stat Err (-) $\\quad$ [5] Stat Err (+) $\\quad$ [6] Syst Err"
   ]
  },
  {
   "cell_type": "code",
   "execution_count": 6,
   "id": "75738a8f",
   "metadata": {},
   "outputs": [],
   "source": [
    "n = 1\n",
    "data_CREAM_H = np.genfromtxt(\"Data/CREAM_H_data.txt\")\n",
    "E_CREAM = data_CREAM_H[:,1] * n\n",
    "flux_CREAM = data_CREAM_H[:,3] / n\n",
    "error_CREAM_low = data_CREAM_H[:,4]/n; error_CREAM_up = data_CREAM_H[:,5]/n"
   ]
  },
  {
   "cell_type": "markdown",
   "id": "30c8131b",
   "metadata": {},
   "source": [
    "## ATIC data from Panov et al., Bull. Russian Acad. Sci. 73, 564 (2009)\n",
    "### Data sets colums\n",
    "#### [0] Quantity $\\quad$ [1] $<Etot>$ (GeV) $\\quad$ [2] Bin range $\\quad$ [3] Flux (per Etot bin)  (GeV m2 s sr)-1 $\\quad$ [4] Stat Err $\\quad$ [5] Syst Err"
   ]
  },
  {
   "cell_type": "code",
   "execution_count": 7,
   "id": "4552c760",
   "metadata": {},
   "outputs": [],
   "source": [
    "data_ATIC_H = np.genfromtxt(\"Data/ATIC_H_data.txt\")\n",
    "E_ATIC = data_ATIC_H[:,1]\n",
    "flux_ATIC = data_ATIC_H[:,3]\n",
    "error_ATIC = data_ATIC_H[:,4]"
   ]
  },
  {
   "cell_type": "markdown",
   "id": "3615bf95",
   "metadata": {},
   "source": [
    "## NUCLEON data from Grebenyuk et al., AdSpR 64, 2546 (2019)\n",
    "### Data sets colums\n",
    "#### [0] Quantity $\\quad$ [1] $<Etot>$ (GeV) $\\quad$ [2] Bin range $\\quad$ [3] Flux (per Etot bin)  (GeV m2 s sr)-1 $\\quad$ [4] Stat Err $\\quad$ [5] Syst Err"
   ]
  },
  {
   "cell_type": "code",
   "execution_count": 8,
   "id": "de8b6a76",
   "metadata": {},
   "outputs": [],
   "source": [
    "data_NUCLEON_H = np.genfromtxt(\"Data/NUCLEON_H_data.txt\")\n",
    "E_NUCLEON = data_NUCLEON_H[:,1]\n",
    "flux_NUCLEON = data_NUCLEON_H[:,3]\n",
    "error_NUCLEON = data_NUCLEON_H[:,4]"
   ]
  },
  {
   "cell_type": "markdown",
   "id": "646af96f",
   "metadata": {},
   "source": [
    "## Model by (Lipari $\\&$ Vernetto, 2019) for hardening and softening of proton spectrum"
   ]
  },
  {
   "cell_type": "code",
   "execution_count": 9,
   "id": "c776922d",
   "metadata": {},
   "outputs": [],
   "source": [
    "def Phi_twobreaks(E, K, E0, alpha1, alpha2, alpha3, omega1, omega2, Eb1, Eb2):\n",
    "    delta1 = alpha2 - alpha1\n",
    "    delta2 = alpha3 - alpha2\n",
    "    return K * (E/E0)**(-alpha1) * (1 + (E/Eb1)**(1/omega1))**(-delta1 * omega1) * (1 + (E/Eb2)**(1/omega2))**(-delta2 * omega2)"
   ]
  },
  {
   "cell_type": "code",
   "execution_count": 10,
   "id": "79f0eace",
   "metadata": {},
   "outputs": [],
   "source": [
    "def Phi_onebreak(E, K, E0, alpha1, alpha2, omega1, Eb1):\n",
    "    delta1 = alpha2 - alpha1\n",
    "    phi = K * (E/E0)**(-alpha1) * (1 + (E/Eb1)**(1/omega1))**(-delta1 * omega1)\n",
    "    return phi"
   ]
  },
  {
   "cell_type": "markdown",
   "id": "b533903a",
   "metadata": {},
   "source": [
    "## $\\chi^2$-minimzation fit\n",
    "### For each experiment individually $\\chi^2_j(K, E_0, \\alpha_1, \\alpha_2, \\alpha_3, E_b, \\omega, E'_b, \\omega') = \\sum_i \\frac{\\left(\\phi_j(E_i)-\\phi(E_i; K, E_0, \\alpha_1, \\alpha_2, \\alpha_3, E_b, \\omega, E'_b, \\omega')\\right)^2}{\\sigma_{i,j}^2}$"
   ]
  },
  {
   "cell_type": "markdown",
   "id": "aeacd71e",
   "metadata": {},
   "source": [
    "### PAMELA"
   ]
  },
  {
   "cell_type": "code",
   "execution_count": 31,
   "id": "25bb0389",
   "metadata": {},
   "outputs": [
    {
     "name": "stdout",
     "output_type": "stream",
     "text": [
      "# data points used: 16\n",
      "# actual data points: 16\n"
     ]
    }
   ],
   "source": [
    "E = E_PAMELA\n",
    "Flux = flux_PAMELA\n",
    "Sigma = 2*error_PAMELA\n",
    "\n",
    "index = np.where(np.logical_and(E>=8e1, E<=1e5))\n",
    "E = E[index]; Flux = Flux[index]; Sigma = Sigma[index]\n",
    "\n",
    "# Check number of degrees of freedom\n",
    "print('# data points used:', 16)\n",
    "print('# actual data points:', len(Flux))\n",
    "\n",
    "def Chi_PAMELA(parameters):\n",
    "    K, alpha1, alpha2, omega1, Eb1 = parameters\n",
    "    Phi_model = Phi_onebreak(E, K, 0.1 * 1e3, alpha1, alpha2, omega1, Eb1)\n",
    "    return sum( (Phi_model - Flux)**2 / Sigma**2 )"
   ]
  },
  {
   "cell_type": "code",
   "execution_count": 32,
   "id": "690502a5",
   "metadata": {},
   "outputs": [
    {
     "name": "stdout",
     "output_type": "stream",
     "text": [
      "LIPARI & VERNETTO BEST FIT VALUES:\n",
      "K: 0.046\n",
      "alpha_1: 2.85\n",
      "alpha_2: 2.67\n",
      "omega: 0.25\n",
      "E_b: 232.0 GeV\n",
      "\n",
      "MY BEST FIT VALUES:\n",
      "K: 0.048\n",
      "alpha_1: 2.868\n",
      "alpha_2: 2.691\n",
      "omega: 0.002\n",
      "E_b: 232.002 GeV\n",
      "\n",
      "chi^2_min: 0.3728234\n"
     ]
    },
    {
     "name": "stderr",
     "output_type": "stream",
     "text": [
      "/var/folders/j4/1fvnmc755y74k9kgn5w7_s400000gn/T/ipykernel_31905/1974164448.py:3: RuntimeWarning: overflow encountered in power\n",
      "  phi = K * (E/E0)**(-alpha1) * (1 + (E/Eb1)**(1/omega1))**(-delta1 * omega1)\n"
     ]
    }
   ],
   "source": [
    "# Initial guess\n",
    "alpha1 = 2.85\n",
    "alpha2 = 2.67\n",
    "Eb1 = 0.232 * 1e3 #GeV\n",
    "omega1 = 0.25\n",
    "K = 4.60 * 10**(-2) #(GeV m2 s sr)-1\n",
    "E0 = 0.1 * 1e3 #GeV\n",
    "\n",
    "# Minimization of chi^2\n",
    "output = minimize(Chi_PAMELA, (K, alpha1, alpha2, omega1, Eb1), method='L-BFGS-B')\n",
    "best_fit_values = output['x']\n",
    "\n",
    "# Best fit values\n",
    "print('LIPARI & VERNETTO BEST FIT VALUES:')\n",
    "print('K:', round(K,3)); \n",
    "print('alpha_1:', round(alpha1,3)); print('alpha_2:', round(alpha2,3))\n",
    "print('omega:', round(omega1,3))\n",
    "print('E_b:', round(Eb1,3), 'GeV')\n",
    "print('')\n",
    "\n",
    "K, alpha1, alpha2, omega1, Eb1 = best_fit_values\n",
    "print('MY BEST FIT VALUES:')\n",
    "print('K:', round(best_fit_values[0],3))\n",
    "print('alpha_1:', round(best_fit_values[1],3)); print('alpha_2:', round(best_fit_values[2],3))\n",
    "print('omega:', round(best_fit_values[3],3))\n",
    "print('E_b:', round(best_fit_values[4],3), 'GeV')\n",
    "print('')\n",
    "\n",
    "min_chi = Chi_PAMELA(best_fit_values)\n",
    "print('chi^2_min:', round(min_chi,7))"
   ]
  },
  {
   "cell_type": "code",
   "execution_count": 33,
   "id": "02ab97ff",
   "metadata": {},
   "outputs": [
    {
     "name": "stdout",
     "output_type": "stream",
     "text": [
      "K\n",
      "Lower error: 0.0028824514578592725\n",
      "Upper error: 0.002831452861960501\n",
      "alpha1\n",
      "Lower error: 0.10045580721041825\n",
      "Upper error: 0.11677824552297\n",
      "alpha2\n",
      "Lower error: 0.19783649265008751\n",
      "Upper error: 0.2497818912167742\n",
      "Eb1\n"
     ]
    },
    {
     "name": "stderr",
     "output_type": "stream",
     "text": [
      "/var/folders/j4/1fvnmc755y74k9kgn5w7_s400000gn/T/ipykernel_31905/1974164448.py:3: RuntimeWarning: overflow encountered in power\n",
      "  phi = K * (E/E0)**(-alpha1) * (1 + (E/Eb1)**(1/omega1))**(-delta1 * omega1)\n"
     ]
    },
    {
     "ename": "IndexError",
     "evalue": "index 0 is out of bounds for axis 0 with size 0",
     "output_type": "error",
     "traceback": [
      "\u001b[0;31m---------------------------------------------------------------------------\u001b[0m",
      "\u001b[0;31mIndexError\u001b[0m                                Traceback (most recent call last)",
      "Cell \u001b[0;32mIn[33], line 53\u001b[0m\n\u001b[1;32m     51\u001b[0m freduced \u001b[38;5;241m=\u001b[39m interpolate\u001b[38;5;241m.\u001b[39mUnivariateSpline(scan, yreduced, s\u001b[38;5;241m=\u001b[39m\u001b[38;5;241m0\u001b[39m)\n\u001b[1;32m     52\u001b[0m scan_interval \u001b[38;5;241m=\u001b[39m freduced\u001b[38;5;241m.\u001b[39mroots()\n\u001b[0;32m---> 53\u001b[0m \u001b[38;5;28mprint\u001b[39m(\u001b[38;5;124m'\u001b[39m\u001b[38;5;124mEb1\u001b[39m\u001b[38;5;124m'\u001b[39m); \u001b[38;5;28mprint\u001b[39m(\u001b[38;5;124m'\u001b[39m\u001b[38;5;124mLower error:\u001b[39m\u001b[38;5;124m'\u001b[39m, fit \u001b[38;5;241m-\u001b[39m scan_interval[\u001b[38;5;241m0\u001b[39m]); \u001b[38;5;28mprint\u001b[39m(\u001b[38;5;124m'\u001b[39m\u001b[38;5;124mUpper error:\u001b[39m\u001b[38;5;124m'\u001b[39m, scan_interval[\u001b[38;5;241m1\u001b[39m] \u001b[38;5;241m-\u001b[39m fit)\n",
      "\u001b[0;31mIndexError\u001b[0m: index 0 is out of bounds for axis 0 with size 0"
     ]
    }
   ],
   "source": [
    "def Errors_PAMELA(n):\n",
    "    \n",
    "    alpha1 = 2.85\n",
    "    alpha2 = 2.67\n",
    "    Eb1 = 0.232 * 1e3 #GeV\n",
    "    omega1 = 0.25\n",
    "    K = 4.60 * 10**(-2) #(GeV m2 s sr)-1\n",
    "    E0 = 0.1 * 1e3 #GeV\n",
    "    output = minimize(Chi_PAMELA, (K, alpha1, alpha2, omega1, Eb1), method='L-BFGS-B')\n",
    "    best_fit_values = output['x']\n",
    "    \n",
    "    scan = np.zeros(500)\n",
    "    fit = best_fit_values[n]\n",
    "    for i in range(0, 250):\n",
    "        scan[i] = fit - (fit / 1000)*i\n",
    "    for j in range(250, 500):\n",
    "        scan[j] = fit + (fit / 1000)*j\n",
    "    scan = np.sort(scan)\n",
    "    \n",
    "    true_best_fit = Chi_PAMELA(best_fit_values)\n",
    "    chi_sqrd = np.zeros(500)\n",
    "    for k in range(0, 500):\n",
    "        best_fit_values[n] = scan[k]\n",
    "        scan_chi = Chi_PAMELA(best_fit_values)\n",
    "        chi_sqrd[k] = np.abs(true_best_fit - scan_chi)\n",
    "    return scan, fit, chi_sqrd\n",
    "\n",
    "# Find value for which chi^2 is equal to one\n",
    "yToFind = 5.89\n",
    "\n",
    "scan, fit, chi_sqrd = Errors_PAMELA(0)\n",
    "yreduced = np.array(chi_sqrd) - yToFind\n",
    "freduced = interpolate.UnivariateSpline(scan, yreduced, s=0)\n",
    "scan_interval = freduced.roots()\n",
    "print('K'); print('Lower error:', fit - scan_interval[0]); print('Upper error:', scan_interval[1] - fit)\n",
    "\n",
    "scan, fit, chi_sqrd = Errors_PAMELA(1)\n",
    "yreduced = np.array(chi_sqrd) - yToFind\n",
    "freduced = interpolate.UnivariateSpline(scan, yreduced, s=0)\n",
    "scan_interval = freduced.roots()\n",
    "print('alpha1'); print('Lower error:', fit - scan_interval[0]); print('Upper error:', scan_interval[1] - fit)\n",
    "\n",
    "scan, fit, chi_sqrd = Errors_PAMELA(2)\n",
    "yreduced = np.array(chi_sqrd) - yToFind\n",
    "freduced = interpolate.UnivariateSpline(scan, yreduced, s=0)\n",
    "scan_interval = freduced.roots()\n",
    "print('alpha2'); print('Lower error:', fit - scan_interval[0]); print('Upper error:', scan_interval[1] - fit)\n",
    "\n",
    "scan, fit, chi_sqrd = Errors_PAMELA(4)\n",
    "yreduced = np.array(chi_sqrd) - yToFind\n",
    "freduced = interpolate.UnivariateSpline(scan, yreduced, s=0)\n",
    "scan_interval = freduced.roots()\n",
    "print('Eb1'); print('Lower error:', fit - scan_interval[0]); print('Upper error:', scan_interval[1] - fit)"
   ]
  },
  {
   "cell_type": "markdown",
   "id": "ffd08142",
   "metadata": {},
   "source": [
    "### AMS02"
   ]
  },
  {
   "cell_type": "code",
   "execution_count": 34,
   "id": "6d48b5f2",
   "metadata": {},
   "outputs": [
    {
     "name": "stdout",
     "output_type": "stream",
     "text": [
      "# data points used: 31\n",
      "# actual data points: 31\n"
     ]
    }
   ],
   "source": [
    "E = E_AMS02\n",
    "Flux = flux_AMS02\n",
    "Sigma = 2*error_AMS02\n",
    "\n",
    "index = np.where(np.logical_and(E>=4.5e1, E<=1e5))\n",
    "E = E[index]; Flux = Flux[index]; Sigma = Sigma[index]\n",
    "\n",
    "# Check number of degrees of freedom\n",
    "print('# data points used:', 31)\n",
    "print('# actual data points:', len(Flux))\n",
    "\n",
    "def Chi_AMS02(parameters):\n",
    "    K, alpha1, alpha2, omega1, Eb1 = parameters\n",
    "    Phi_model = Phi_onebreak(E, K, 0.1 * 1e3, alpha1, alpha2, omega1, Eb1)\n",
    "    return sum( (Phi_model - Flux)**2 / Sigma**2 ) "
   ]
  },
  {
   "cell_type": "code",
   "execution_count": 35,
   "id": "e0aad9cd",
   "metadata": {},
   "outputs": [
    {
     "name": "stdout",
     "output_type": "stream",
     "text": [
      "LIPARI & VERNETTO BEST FIT VALUES:\n",
      "K: 0.0442\n",
      "alpha_1: 2.849\n",
      "alpha_2: 2.716\n",
      "omega: 0.04\n",
      "E_b: 336.0 GeV\n",
      "\n",
      "MY BEST FIT VALUES:\n",
      "K: 0.045\n",
      "alpha_1: 2.817\n",
      "alpha_2: 2.724\n",
      "omega: 0.003\n",
      "E_b: 336.001 GeV\n",
      "\n",
      "chi^2_min: 0.3997239\n"
     ]
    },
    {
     "name": "stderr",
     "output_type": "stream",
     "text": [
      "/var/folders/j4/1fvnmc755y74k9kgn5w7_s400000gn/T/ipykernel_31905/1974164448.py:3: RuntimeWarning: overflow encountered in power\n",
      "  phi = K * (E/E0)**(-alpha1) * (1 + (E/Eb1)**(1/omega1))**(-delta1 * omega1)\n"
     ]
    }
   ],
   "source": [
    "# Initial guess\n",
    "alpha1 = 2.849\n",
    "alpha2 = 2.716\n",
    "Eb1 = 0.336 * 1e3 #GeV\n",
    "omega1 = 0.04\n",
    "K = 4.42 * 10**(-2) #(GeV m2 s sr)-1\n",
    "E0 = 0.1 * 1e3 #GeV\n",
    "\n",
    "# Minimization of chi^2\n",
    "output = minimize(Chi_AMS02, (K, alpha1, alpha2, omega1, Eb1), method='L-BFGS-B')\n",
    "best_fit_values = output['x']\n",
    "\n",
    "# Best fit values\n",
    "print('LIPARI & VERNETTO BEST FIT VALUES:')\n",
    "print('K:', round(K,4)); \n",
    "print('alpha_1:', round(alpha1,3)); print('alpha_2:', round(alpha2,3))\n",
    "print('omega:', round(omega1,3))\n",
    "print('E_b:', round(Eb1,4), 'GeV')\n",
    "print('')\n",
    "\n",
    "K, alpha1, alpha2, omega1, Eb1 = best_fit_values\n",
    "print('MY BEST FIT VALUES:')\n",
    "print('K:', round(best_fit_values[0],3))\n",
    "print('alpha_1:', round(best_fit_values[1],3)); print('alpha_2:', round(best_fit_values[2],3))\n",
    "print('omega:', round(best_fit_values[3],3))\n",
    "print('E_b:', round(best_fit_values[4],3), 'GeV')\n",
    "print('')\n",
    "\n",
    "min_chi = Chi_AMS02(best_fit_values)\n",
    "print('chi^2_min:', round(min_chi,7))"
   ]
  },
  {
   "cell_type": "code",
   "execution_count": 36,
   "id": "60f221e2",
   "metadata": {},
   "outputs": [
    {
     "name": "stdout",
     "output_type": "stream",
     "text": [
      "K\n",
      "Lower error: 0.0006400049044795672\n",
      "Upper error: 0.0006400554115618823\n",
      "alpha1\n",
      "Lower error: 0.02345031566311606\n",
      "Upper error: 0.025980969401536047\n",
      "alpha2\n",
      "Lower error: 0.09426513188396379\n",
      "Upper error: 0.10940072154111702\n",
      "Eb1\n"
     ]
    },
    {
     "name": "stderr",
     "output_type": "stream",
     "text": [
      "/var/folders/j4/1fvnmc755y74k9kgn5w7_s400000gn/T/ipykernel_31905/1974164448.py:3: RuntimeWarning: overflow encountered in power\n",
      "  phi = K * (E/E0)**(-alpha1) * (1 + (E/Eb1)**(1/omega1))**(-delta1 * omega1)\n"
     ]
    },
    {
     "ename": "IndexError",
     "evalue": "index 0 is out of bounds for axis 0 with size 0",
     "output_type": "error",
     "traceback": [
      "\u001b[0;31m---------------------------------------------------------------------------\u001b[0m",
      "\u001b[0;31mIndexError\u001b[0m                                Traceback (most recent call last)",
      "Cell \u001b[0;32mIn[36], line 53\u001b[0m\n\u001b[1;32m     51\u001b[0m freduced \u001b[38;5;241m=\u001b[39m interpolate\u001b[38;5;241m.\u001b[39mUnivariateSpline(scan, yreduced, s\u001b[38;5;241m=\u001b[39m\u001b[38;5;241m0\u001b[39m)\n\u001b[1;32m     52\u001b[0m scan_interval \u001b[38;5;241m=\u001b[39m freduced\u001b[38;5;241m.\u001b[39mroots()\n\u001b[0;32m---> 53\u001b[0m \u001b[38;5;28mprint\u001b[39m(\u001b[38;5;124m'\u001b[39m\u001b[38;5;124mEb1\u001b[39m\u001b[38;5;124m'\u001b[39m); \u001b[38;5;28mprint\u001b[39m(\u001b[38;5;124m'\u001b[39m\u001b[38;5;124mLower error:\u001b[39m\u001b[38;5;124m'\u001b[39m, fit \u001b[38;5;241m-\u001b[39m scan_interval[\u001b[38;5;241m0\u001b[39m]); \u001b[38;5;28mprint\u001b[39m(\u001b[38;5;124m'\u001b[39m\u001b[38;5;124mUpper error:\u001b[39m\u001b[38;5;124m'\u001b[39m, scan_interval[\u001b[38;5;241m1\u001b[39m] \u001b[38;5;241m-\u001b[39m fit)\n",
      "\u001b[0;31mIndexError\u001b[0m: index 0 is out of bounds for axis 0 with size 0"
     ]
    }
   ],
   "source": [
    "def Errors_AMS02(n):\n",
    "    \n",
    "    alpha1 = 2.849\n",
    "    alpha2 = 2.716\n",
    "    Eb1 = 0.336 * 1e3 #GeV\n",
    "    omega1 = 0.04\n",
    "    K = 4.42 * 10**(-2) #(GeV m2 s sr)-1\n",
    "    E0 = 0.1 * 1e3 #GeV\n",
    "    output = minimize(Chi_AMS02, (K, alpha1, alpha2, omega1, Eb1), method='L-BFGS-B')\n",
    "    best_fit_values = output['x']\n",
    "    \n",
    "    scan = np.zeros(500)\n",
    "    fit = best_fit_values[n]\n",
    "    for i in range(0, 250):\n",
    "        scan[i] = fit - (fit / 1000)*i\n",
    "    for j in range(250, 500):\n",
    "        scan[j] = fit + (fit / 1000)*j\n",
    "    scan = np.sort(scan)\n",
    "    \n",
    "    true_best_fit = Chi_AMS02(best_fit_values)\n",
    "    chi_sqrd = np.zeros(500)\n",
    "    for k in range(0, 500):\n",
    "        best_fit_values[n] = scan[k]\n",
    "        scan_chi = Chi_AMS02(best_fit_values)\n",
    "        chi_sqrd[k] = np.abs(true_best_fit - scan_chi)\n",
    "    return scan, fit, chi_sqrd\n",
    "\n",
    "# Find value for which chi^2 is equal to one\n",
    "yToFind = 5.89\n",
    "\n",
    "scan, fit, chi_sqrd = Errors_AMS02(0)\n",
    "yreduced = np.array(chi_sqrd) - yToFind\n",
    "freduced = interpolate.UnivariateSpline(scan, yreduced, s=0)\n",
    "scan_interval = freduced.roots()\n",
    "print('K'); print('Lower error:', fit - scan_interval[0]); print('Upper error:', scan_interval[1] - fit)\n",
    "\n",
    "scan, fit, chi_sqrd = Errors_AMS02(1)\n",
    "yreduced = np.array(chi_sqrd) - yToFind\n",
    "freduced = interpolate.UnivariateSpline(scan, yreduced, s=0)\n",
    "scan_interval = freduced.roots()\n",
    "print('alpha1'); print('Lower error:', fit - scan_interval[0]); print('Upper error:', scan_interval[1] - fit)\n",
    "\n",
    "scan, fit, chi_sqrd = Errors_AMS02(2)\n",
    "yreduced = np.array(chi_sqrd) - yToFind\n",
    "freduced = interpolate.UnivariateSpline(scan, yreduced, s=0)\n",
    "scan_interval = freduced.roots()\n",
    "print('alpha2'); print('Lower error:', fit - scan_interval[0]); print('Upper error:', scan_interval[1] - fit)\n",
    "\n",
    "scan, fit, chi_sqrd = Errors_AMS02(4)\n",
    "yreduced = np.array(chi_sqrd) - yToFind\n",
    "freduced = interpolate.UnivariateSpline(scan, yreduced, s=0)\n",
    "scan_interval = freduced.roots()\n",
    "print('Eb1'); print('Lower error:', fit - scan_interval[0]); print('Upper error:', scan_interval[1] - fit)"
   ]
  },
  {
   "cell_type": "markdown",
   "id": "e6fd36eb",
   "metadata": {},
   "source": [
    "### ATIC"
   ]
  },
  {
   "cell_type": "code",
   "execution_count": 37,
   "id": "fbc465e3",
   "metadata": {},
   "outputs": [
    {
     "name": "stdout",
     "output_type": "stream",
     "text": [
      "# data points used: 15\n",
      "# actual data points: 15\n"
     ]
    }
   ],
   "source": [
    "E = E_ATIC\n",
    "Flux = flux_ATIC\n",
    "Sigma = 2*error_ATIC\n",
    "\n",
    "index = np.where(np.logical_and(E>=4.5e1, E<=1e5))\n",
    "E = E[index]; Flux = Flux[index]; Sigma = Sigma[index]\n",
    "\n",
    "# Check number of degrees of freedom\n",
    "print('# data points used:', 15)\n",
    "print('# actual data points:', len(Flux))\n",
    "\n",
    "def Chi_ATIC(parameters):\n",
    "    K, alpha1, alpha2, omega1, Eb1 = parameters\n",
    "    Phi_model = Phi_onebreak(E, K, 0.1 * 1e3, alpha1, alpha2, omega1, Eb1)\n",
    "    return sum( (Phi_model - Flux)**2 / Sigma**2 ) "
   ]
  },
  {
   "cell_type": "code",
   "execution_count": 38,
   "id": "16ea84ee",
   "metadata": {},
   "outputs": [
    {
     "name": "stdout",
     "output_type": "stream",
     "text": [
      "LIPARI & VERNETTO BEST FIT VALUES:\n",
      "K: 0.044\n",
      "alpha_1: 2.79\n",
      "alpha_2: 2.62\n",
      "omega: 0.34\n",
      "E_b: 275.0 GeV\n",
      "\n",
      "MY BEST FIT VALUES:\n",
      "K: 0.044\n",
      "alpha_1: 2.793\n",
      "alpha_2: 2.6\n",
      "omega: 0.544\n",
      "E_b: 274.999 GeV\n",
      "\n",
      "chi^2_min: 1.8145301\n"
     ]
    }
   ],
   "source": [
    "# Initial guess\n",
    "alpha1 = 2.79\n",
    "alpha2 = 2.62\n",
    "Eb1 = 0.275 * 1e3 #GeV\n",
    "omega1 = 0.34\n",
    "K = 4.4 * 10**(-2) #(GeV m2 s sr)-1\n",
    "E0 = 0.1 * 1e3 #GeV\n",
    "\n",
    "# Minimization of chi^2\n",
    "output = minimize(Chi_ATIC, (K, alpha1, alpha2, omega1, Eb1), method='L-BFGS-B')\n",
    "best_fit_values = output['x']\n",
    "\n",
    "# Best fit values\n",
    "print('LIPARI & VERNETTO BEST FIT VALUES:')\n",
    "print('K:', round(K,4)); \n",
    "print('alpha_1:', round(alpha1,3)); print('alpha_2:', round(alpha2,3))\n",
    "print('omega:', round(omega1,3))\n",
    "print('E_b:', round(Eb1,4), 'GeV')\n",
    "print('')\n",
    "\n",
    "K, alpha1, alpha2, omega1, Eb1 = best_fit_values\n",
    "print('MY BEST FIT VALUES:')\n",
    "print('K:', round(best_fit_values[0],3))\n",
    "print('alpha_1:', round(best_fit_values[1],3)); print('alpha_2:', round(best_fit_values[2],3))\n",
    "print('omega:', round(best_fit_values[3],3))\n",
    "print('E_b:', round(best_fit_values[4],3), 'GeV')\n",
    "print('')\n",
    "\n",
    "min_chi = Chi_ATIC(best_fit_values)\n",
    "print('chi^2_min:', round(min_chi,7))"
   ]
  },
  {
   "cell_type": "code",
   "execution_count": 39,
   "id": "504e12bb",
   "metadata": {},
   "outputs": [
    {
     "name": "stdout",
     "output_type": "stream",
     "text": [
      "K\n",
      "Lower error: 0.0005496671664499755\n",
      "Upper error: 0.0005496776352367921\n",
      "alpha1\n",
      "Lower error: 0.028105477997540262\n",
      "Upper error: 0.030341535682897103\n",
      "alpha2\n",
      "Lower error: 0.02855938181230888\n",
      "Upper error: 0.03538312858825554\n",
      "Eb1\n",
      "Lower error: 46.03974456691756\n",
      "Upper error: 59.86238734687362\n"
     ]
    }
   ],
   "source": [
    "def Errors_ATIC(n):\n",
    "    \n",
    "    alpha1 = 2.79\n",
    "    alpha2 = 2.62\n",
    "    Eb1 = 0.275 * 1e3 #GeV\n",
    "    omega1 = 0.34\n",
    "    K = 4.4 * 10**(-2) #(GeV m2 s sr)-1\n",
    "    E0 = 0.1 * 1e3 #GeV\n",
    "    output = minimize(Chi_ATIC, (K, alpha1, alpha2, omega1, Eb1), method='L-BFGS-B')\n",
    "    best_fit_values = output['x']\n",
    "    \n",
    "    scan = np.zeros(500)\n",
    "    fit = best_fit_values[n]\n",
    "    for i in range(0, 250):\n",
    "        scan[i] = fit - (fit / 1000)*i\n",
    "    for j in range(250, 500):\n",
    "        scan[j] = fit + (fit / 1000)*j\n",
    "    scan = np.sort(scan)\n",
    "    \n",
    "    true_best_fit = Chi_ATIC(best_fit_values)\n",
    "    chi_sqrd = np.zeros(500)\n",
    "    for k in range(0, 500):\n",
    "        best_fit_values[n] = scan[k]\n",
    "        scan_chi = Chi_ATIC(best_fit_values)\n",
    "        chi_sqrd[k] = np.abs(true_best_fit - scan_chi)\n",
    "    return scan, fit, chi_sqrd\n",
    "\n",
    "# Find value for which chi^2 is equal to one\n",
    "yToFind = 5.89\n",
    "\n",
    "scan, fit, chi_sqrd = Errors_ATIC(0)\n",
    "yreduced = np.array(chi_sqrd) - yToFind\n",
    "freduced = interpolate.UnivariateSpline(scan, yreduced, s=0)\n",
    "scan_interval = freduced.roots()\n",
    "print('K'); print('Lower error:', fit - scan_interval[0]); print('Upper error:', scan_interval[1] - fit)\n",
    "\n",
    "scan, fit, chi_sqrd = Errors_ATIC(1)\n",
    "yreduced = np.array(chi_sqrd) - yToFind\n",
    "freduced = interpolate.UnivariateSpline(scan, yreduced, s=0)\n",
    "scan_interval = freduced.roots()\n",
    "print('alpha1'); print('Lower error:', fit - scan_interval[0]); print('Upper error:', scan_interval[1] - fit)\n",
    "\n",
    "scan, fit, chi_sqrd = Errors_ATIC(2)\n",
    "yreduced = np.array(chi_sqrd) - yToFind\n",
    "freduced = interpolate.UnivariateSpline(scan, yreduced, s=0)\n",
    "scan_interval = freduced.roots()\n",
    "print('alpha2'); print('Lower error:', fit - scan_interval[0]); print('Upper error:', scan_interval[1] - fit)\n",
    "\n",
    "scan, fit, chi_sqrd = Errors_ATIC(4)\n",
    "yreduced = np.array(chi_sqrd) - yToFind\n",
    "freduced = interpolate.UnivariateSpline(scan, yreduced, s=0)\n",
    "scan_interval = freduced.roots()\n",
    "print('Eb1'); print('Lower error:', fit - scan_interval[0]); print('Upper error:', scan_interval[1] - fit)"
   ]
  },
  {
   "cell_type": "markdown",
   "id": "b2b31d48",
   "metadata": {},
   "source": [
    "### CREAM"
   ]
  },
  {
   "cell_type": "code",
   "execution_count": 40,
   "id": "3d5a9b51",
   "metadata": {},
   "outputs": [
    {
     "name": "stdout",
     "output_type": "stream",
     "text": [
      "# data points used: 12\n",
      "# actual data points: 12\n"
     ]
    }
   ],
   "source": [
    "E = E_CREAM\n",
    "Flux = flux_CREAM\n",
    "Sigma = error_CREAM_low + error_CREAM_up\n",
    "\n",
    "index = np.where(np.logical_and(E>=1e2, E<=3e5))\n",
    "E = E[index]; Flux = Flux[index]; Sigma = Sigma[index]\n",
    "\n",
    "# Check number of degrees of freedom\n",
    "print('# data points used:', 12)\n",
    "print('# actual data points:', len(Flux))\n",
    "\n",
    "def Chi_CREAM(parameters):\n",
    "    K, alpha2, alpha3, omega2, Eb2 = parameters\n",
    "    Phi_model = Phi_onebreak(E, K, 0.1 * 1e3, alpha2, alpha3, omega2, Eb2)\n",
    "    return sum( (Phi_model - Flux)**2 / Sigma**2 )"
   ]
  },
  {
   "cell_type": "code",
   "execution_count": 41,
   "id": "7168b14a",
   "metadata": {},
   "outputs": [
    {
     "name": "stdout",
     "output_type": "stream",
     "text": [
      "LIPARI & VERNETTO BEST FIT VALUES:\n",
      "K: 1.22e-05\n",
      "alpha_2: 2.58\n",
      "alpha_3: 2.84\n",
      "omega: 0.5\n",
      "E_b: 16000.0 GeV\n",
      "\n",
      "MY BEST FIT VALUES:\n",
      "K: 0.0278328\n",
      "alpha_2: 2.582\n",
      "alpha_3: 2.846\n",
      "omega: 0.11\n",
      "E_b2: 16000.0 GeV\n",
      "\n",
      "chi^2_min: 0.4101035\n"
     ]
    }
   ],
   "source": [
    "# Initial guess\n",
    "alpha2 = 2.58\n",
    "alpha3 = 2.84\n",
    "Eb2 = 16 * 1e3 #GeV\n",
    "omega2 = 0.5\n",
    "K = 1.22 * 10**(-5) #(GeV m2 s sr)-1\n",
    "E0 = 2 * 1e3 #GeV\n",
    "\n",
    "# Minimization of chi^2\n",
    "output = minimize(Chi_CREAM, (K, alpha2, alpha3, omega2, Eb2), method='L-BFGS-B')\n",
    "best_fit_values = output['x']\n",
    "\n",
    "# Best fit values\n",
    "print('LIPARI & VERNETTO BEST FIT VALUES:')\n",
    "print('K:', round(K,7)); \n",
    "print('alpha_2:', round(alpha2,3)); print('alpha_3:', round(alpha3,3))\n",
    "print('omega:', round(omega2,3))\n",
    "print('E_b:', round(Eb2,4), 'GeV')\n",
    "print('')\n",
    "\n",
    "K, alpha1, alpha2, omega1, Eb1 = best_fit_values\n",
    "print('MY BEST FIT VALUES:')\n",
    "print('K:', round(best_fit_values[0],7))\n",
    "print('alpha_2:', round(best_fit_values[1],3)); print('alpha_3:', round(best_fit_values[2],3))\n",
    "print('omega:', round(best_fit_values[3],3))\n",
    "print('E_b2:', round(best_fit_values[4],3), 'GeV')\n",
    "print('')\n",
    "\n",
    "min_chi = Chi_CREAM(best_fit_values)\n",
    "print('chi^2_min:', round(min_chi,7))"
   ]
  },
  {
   "cell_type": "code",
   "execution_count": 42,
   "id": "62c04323",
   "metadata": {},
   "outputs": [
    {
     "name": "stdout",
     "output_type": "stream",
     "text": [
      "K\n",
      "Lower error: 0.0007691748239075161\n",
      "Upper error: 0.0007691829367937053\n",
      "alpha1\n",
      "Lower error: 0.02236389097380842\n",
      "Upper error: 0.025021233605095006\n",
      "alpha2\n",
      "Lower error: 0.007513615465779111\n",
      "Upper error: 0.012650403116650555\n",
      "Eb1\n",
      "Lower error: 34.962520935534\n",
      "Upper error: 41.226892356752955\n"
     ]
    }
   ],
   "source": [
    "def Errors_CREAM(n):\n",
    "    \n",
    "    alpha1 = 2.79\n",
    "    alpha2 = 2.62\n",
    "    Eb1 = 0.275 * 1e3 #GeV\n",
    "    omega1 = 0.34\n",
    "    K = 4.4 * 10**(-2) #(GeV m2 s sr)-1\n",
    "    E0 = 0.1 * 1e3 #GeV\n",
    "    output = minimize(Chi_CREAM, (K, alpha1, alpha2, omega1, Eb1), method='L-BFGS-B')\n",
    "    best_fit_values = output['x']\n",
    "    \n",
    "    scan = np.zeros(500)\n",
    "    fit = best_fit_values[n]\n",
    "    for i in range(0, 250):\n",
    "        scan[i] = fit - (fit / 1000)*i\n",
    "    for j in range(250, 500):\n",
    "        scan[j] = fit + (fit / 1000)*j\n",
    "    scan = np.sort(scan)\n",
    "    \n",
    "    true_best_fit = Chi_CREAM(best_fit_values)\n",
    "    chi_sqrd = np.zeros(500)\n",
    "    for k in range(0, 500):\n",
    "        best_fit_values[n] = scan[k]\n",
    "        scan_chi = Chi_CREAM(best_fit_values)\n",
    "        chi_sqrd[k] = np.abs(true_best_fit - scan_chi)\n",
    "    return scan, fit, chi_sqrd\n",
    "\n",
    "# Find value for which chi^2 is equal to one\n",
    "yToFind = 5.89\n",
    "\n",
    "scan, fit, chi_sqrd = Errors_CREAM(0)\n",
    "yreduced = np.array(chi_sqrd) - yToFind\n",
    "freduced = interpolate.UnivariateSpline(scan, yreduced, s=0)\n",
    "scan_interval = freduced.roots()\n",
    "print('K'); print('Lower error:', fit - scan_interval[0]); print('Upper error:', scan_interval[1] - fit)\n",
    "\n",
    "scan, fit, chi_sqrd = Errors_CREAM(1)\n",
    "yreduced = np.array(chi_sqrd) - yToFind\n",
    "freduced = interpolate.UnivariateSpline(scan, yreduced, s=0)\n",
    "scan_interval = freduced.roots()\n",
    "print('alpha1'); print('Lower error:', fit - scan_interval[0]); print('Upper error:', scan_interval[1] - fit)\n",
    "\n",
    "scan, fit, chi_sqrd = Errors_CREAM(2)\n",
    "yreduced = np.array(chi_sqrd) - yToFind\n",
    "freduced = interpolate.UnivariateSpline(scan, yreduced, s=0)\n",
    "scan_interval = freduced.roots()\n",
    "print('alpha2'); print('Lower error:', fit - scan_interval[0]); print('Upper error:', scan_interval[1] - fit)\n",
    "\n",
    "scan, fit, chi_sqrd = Errors_CREAM(4)\n",
    "yreduced = np.array(chi_sqrd) - yToFind\n",
    "freduced = interpolate.UnivariateSpline(scan, yreduced, s=0)\n",
    "scan_interval = freduced.roots()\n",
    "print('Eb1'); print('Lower error:', fit - scan_interval[0]); print('Upper error:', scan_interval[1] - fit)"
   ]
  },
  {
   "cell_type": "markdown",
   "id": "39c13f5a",
   "metadata": {},
   "source": [
    "### CALET"
   ]
  },
  {
   "cell_type": "code",
   "execution_count": 43,
   "id": "fbdae017",
   "metadata": {},
   "outputs": [
    {
     "name": "stdout",
     "output_type": "stream",
     "text": [
      "# data points used: 23\n",
      "# actual data points: 23\n"
     ]
    }
   ],
   "source": [
    "E = E_CALET\n",
    "Flux = flux_CALET\n",
    "Sigma = 2*error_CALET\n",
    "\n",
    "index = np.where(np.logical_and(E>=4.5e1, E<=1e5))\n",
    "E = E[index]; Flux = Flux[index]; Sigma = Sigma[index]\n",
    "\n",
    "# Check number of degrees of freedom\n",
    "print('# data points used:', 23)\n",
    "print('# actual data points:', len(Flux))\n",
    "\n",
    "def Chi_CALET(parameters):\n",
    "    K, alpha1, alpha2, omega1, Eb1 = parameters\n",
    "    Phi_model = Phi_onebreak(E, K, 0.1 * 1e3, alpha1, alpha2, omega1, Eb1)\n",
    "    return sum( (Phi_model - Flux)**2 / Sigma**2 ) "
   ]
  },
  {
   "cell_type": "code",
   "execution_count": 44,
   "id": "1b261806",
   "metadata": {},
   "outputs": [
    {
     "name": "stdout",
     "output_type": "stream",
     "text": [
      "LIPARI & VERNETTO BEST FIT VALUES:\n",
      "K: 0.0434\n",
      "alpha_1: 2.81\n",
      "alpha_2: 2.55\n",
      "omega: 0.25\n",
      "E_b: 605.0 GeV\n",
      "\n",
      "MY BEST FIT VALUES:\n",
      "K: 0.043\n",
      "alpha_1: 2.812\n",
      "alpha_2: 2.552\n",
      "omega: 0.258\n",
      "E_b: 605.0 GeV\n",
      "\n",
      "chi^2_min: 4.3522024\n"
     ]
    }
   ],
   "source": [
    "# Initial guess\n",
    "alpha1 = 2.81\n",
    "alpha2 = 2.55\n",
    "Eb1 = 0.605 * 1e3 #GeV\n",
    "omega1 = 0.25\n",
    "K = 4.34 * 10**(-2) #(GeV m2 s sr)-1\n",
    "E0 = 0.1 * 1e3 #GeV\n",
    "\n",
    "# Minimization of chi^2\n",
    "output = minimize(Chi_CALET, (K, alpha1, alpha2, omega1, Eb1), method='L-BFGS-B')\n",
    "best_fit_values = output['x']\n",
    "\n",
    "# Best fit values\n",
    "print('LIPARI & VERNETTO BEST FIT VALUES:')\n",
    "print('K:', round(K,4)); \n",
    "print('alpha_1:', round(alpha1,3)); print('alpha_2:', round(alpha2,3))\n",
    "print('omega:', round(omega1,3))\n",
    "print('E_b:', round(Eb1,4), 'GeV')\n",
    "print('')\n",
    "\n",
    "K, alpha1, alpha2, omega1, Eb1 = best_fit_values\n",
    "print('MY BEST FIT VALUES:')\n",
    "print('K:', round(best_fit_values[0],3))\n",
    "print('alpha_1:', round(best_fit_values[1],3)); print('alpha_2:', round(best_fit_values[2],3))\n",
    "print('omega:', round(best_fit_values[3],3))\n",
    "print('E_b:', round(best_fit_values[4],3), 'GeV')\n",
    "print('')\n",
    "\n",
    "min_chi = Chi_CALET(best_fit_values)\n",
    "print('chi^2_min:', round(min_chi,7))"
   ]
  },
  {
   "cell_type": "code",
   "execution_count": 45,
   "id": "18af35fc",
   "metadata": {},
   "outputs": [
    {
     "name": "stdout",
     "output_type": "stream",
     "text": [
      "K\n",
      "Lower error: 0.00034671386744615507\n",
      "Upper error: 0.00034672395665480416\n",
      "alpha1\n",
      "Lower error: 0.00610646126788561\n",
      "Upper error: 0.0076233514291015325\n",
      "alpha2\n",
      "Lower error: 0.01809658113440271\n",
      "Upper error: 0.021577903275902255\n",
      "omega1\n",
      "Upper error: 0.07065775062112656\n",
      "Eb1\n",
      "Lower error: 40.059756220241866\n",
      "Upper error: 46.30319061784212\n"
     ]
    }
   ],
   "source": [
    "def Errors_CALET(n):\n",
    "    \n",
    "    alpha1 = 2.81\n",
    "    alpha2 = 2.55\n",
    "    Eb1 = 0.605 * 1e3 #GeV\n",
    "    omega1 = 0.25\n",
    "    K = 4.34 * 10**(-2) #(GeV m2 s sr)-1\n",
    "    E0 = 0.1 * 1e3 #GeV\n",
    "    output = minimize(Chi_CALET, (K, alpha1, alpha2, omega1, Eb1), method='L-BFGS-B')\n",
    "    best_fit_values = output['x']\n",
    "    \n",
    "    scan = np.zeros(500)\n",
    "    fit = best_fit_values[n]\n",
    "    for i in range(0, 250):\n",
    "        scan[i] = fit - (fit / 1000)*i\n",
    "    for j in range(250, 500):\n",
    "        scan[j] = fit + (fit / 1000)*j\n",
    "    scan = np.sort(scan)\n",
    "    \n",
    "    true_best_fit = Chi_CALET(best_fit_values)\n",
    "    chi_sqrd = np.zeros(500)\n",
    "    for k in range(0, 500):\n",
    "        best_fit_values[n] = scan[k]\n",
    "        scan_chi = Chi_CALET(best_fit_values)\n",
    "        chi_sqrd[k] = np.abs(true_best_fit - scan_chi)\n",
    "    return scan, fit, chi_sqrd\n",
    "\n",
    "# Find value for which chi^2 is equal to one\n",
    "yToFind = 5.89\n",
    "\n",
    "scan, fit, chi_sqrd = Errors_CALET(0)\n",
    "yreduced = np.array(chi_sqrd) - yToFind\n",
    "freduced = interpolate.UnivariateSpline(scan, yreduced, s=0)\n",
    "scan_interval = freduced.roots()\n",
    "print('K'); print('Lower error:', fit - scan_interval[0]); print('Upper error:', scan_interval[1] - fit)\n",
    "\n",
    "scan, fit, chi_sqrd = Errors_CALET(1)\n",
    "yreduced = np.array(chi_sqrd) - yToFind\n",
    "freduced = interpolate.UnivariateSpline(scan, yreduced, s=0)\n",
    "scan_interval = freduced.roots()\n",
    "print('alpha1'); print('Lower error:', fit - scan_interval[0]); print('Upper error:', scan_interval[1] - fit)\n",
    "\n",
    "scan, fit, chi_sqrd = Errors_CALET(2)\n",
    "yreduced = np.array(chi_sqrd) - yToFind\n",
    "freduced = interpolate.UnivariateSpline(scan, yreduced, s=0)\n",
    "scan_interval = freduced.roots()\n",
    "print('alpha2'); print('Lower error:', fit - scan_interval[0]); print('Upper error:', scan_interval[1] - fit)\n",
    "\n",
    "scan, fit, chi_sqrd = Errors_CALET(3)\n",
    "yreduced = np.array(chi_sqrd) - yToFind\n",
    "freduced = interpolate.UnivariateSpline(scan, yreduced, s=0)\n",
    "scan_interval = freduced.roots()\n",
    "print('omega1'); print('Upper error:', scan_interval[0] - fit)\n",
    "\n",
    "scan, fit, chi_sqrd = Errors_CALET(4)\n",
    "yreduced = np.array(chi_sqrd) - yToFind\n",
    "freduced = interpolate.UnivariateSpline(scan, yreduced, s=0)\n",
    "scan_interval = freduced.roots()\n",
    "print('Eb1'); print('Lower error:', fit - scan_interval[0]); print('Upper error:', scan_interval[1] - fit)"
   ]
  },
  {
   "cell_type": "markdown",
   "id": "0343bad7",
   "metadata": {},
   "source": [
    "### DAMPE"
   ]
  },
  {
   "cell_type": "code",
   "execution_count": 46,
   "id": "1e42b828",
   "metadata": {},
   "outputs": [
    {
     "name": "stdout",
     "output_type": "stream",
     "text": [
      "# data points used: 17\n",
      "# actual data points: 17\n"
     ]
    }
   ],
   "source": [
    "E = E_DAMPE\n",
    "Flux = flux_DAMPE\n",
    "Sigma = 2*error_DAMPE\n",
    "\n",
    "index = np.where(np.logical_and(E>=4.5e1, E<=1e5))\n",
    "E = E[index]; Flux = Flux[index]; Sigma = Sigma[index]\n",
    "\n",
    "# Check number of degrees of freedom\n",
    "print('# data points used:', 17)\n",
    "print('# actual data points:', len(Flux))\n",
    "\n",
    "def Chi_DAMPE(parameters):\n",
    "    K, alpha1, alpha2, alpha3, omega1, omega2, Eb1, Eb2 = parameters\n",
    "    Phi_model = Phi_twobreaks(E, K, 2 * 1e3, alpha1, alpha2, alpha3, omega1, omega2, Eb1, Eb2)\n",
    "    return sum( (Phi_model - Flux)**2 / Sigma**2 ) "
   ]
  },
  {
   "cell_type": "code",
   "execution_count": 47,
   "id": "e55d6fe8",
   "metadata": {},
   "outputs": [
    {
     "name": "stdout",
     "output_type": "stream",
     "text": [
      "LIPARI & VERNETTO BEST FIT VALUES:\n",
      "K: 1.15e-05\n",
      "alpha_1: 2.75\n",
      "alpha_2: 2.58\n",
      "alpha_3: 2.86\n",
      "omega: 0.35\n",
      "omega2: 0.37\n",
      "E_b: 605.0 GeV\n",
      "E_b2: 12800.0 GeV\n",
      "\n",
      "MY BEST FIT VALUES:\n",
      "K: 1.15e-05\n",
      "alpha_1: 2.75\n",
      "alpha_2: 2.58\n",
      "alpha_3: 2.86\n",
      "omega1: 0.35\n",
      "omega2: 0.37\n",
      "E_b1: 605.0 GeV\n",
      "E_b2: 12800.0 GeV\n",
      "\n",
      "chi^2_min: inf\n"
     ]
    },
    {
     "name": "stderr",
     "output_type": "stream",
     "text": [
      "/var/folders/j4/1fvnmc755y74k9kgn5w7_s400000gn/T/ipykernel_31905/3710235381.py:15: RuntimeWarning: divide by zero encountered in divide\n",
      "  return sum( (Phi_model - Flux)**2 / Sigma**2 )\n"
     ]
    }
   ],
   "source": [
    "# Initial guess\n",
    "alpha1 = 2.75\n",
    "alpha2 = 2.58\n",
    "alpha3 = 2.86\n",
    "Eb2 = 0.574 * 1e3 #GeV\n",
    "Eb2 = 12.8 * 1e3 #GeV\n",
    "omega1 = 0.35\n",
    "omega2 = 0.37\n",
    "K = 1.15 * 10**(-5) #(GeV m2 s sr)-1\n",
    "E0 = 2 * 1e3 #GeV\n",
    "\n",
    "# Minimization of chi^2\n",
    "output = minimize(Chi_DAMPE, (K, alpha1, alpha2, alpha3, omega1, omega2, Eb1, Eb2), method='L-BFGS-B')\n",
    "best_fit_values = output['x']\n",
    "\n",
    "# Best fit values\n",
    "print('LIPARI & VERNETTO BEST FIT VALUES:')\n",
    "print('K:', round(K,7)); \n",
    "print('alpha_1:', round(alpha1,3)); print('alpha_2:', round(alpha2,3)); print('alpha_3:', round(alpha3,3))\n",
    "print('omega:', round(omega1,3)); print('omega2:', round(omega2,3))\n",
    "print('E_b:', round(Eb1,4), 'GeV'), print('E_b2:', round(Eb2,4), 'GeV')\n",
    "print('')\n",
    "\n",
    "K, alpha1, alpha2, alpha3, omega1, omega2, Eb1, Eb2 = best_fit_values\n",
    "print('MY BEST FIT VALUES:')\n",
    "print('K:', round(best_fit_values[0],7))\n",
    "print('alpha_1:', round(best_fit_values[1],3)); print('alpha_2:', round(best_fit_values[2],3)); print('alpha_3:', round(best_fit_values[3],3))\n",
    "print('omega1:', round(best_fit_values[4],3)); print('omega2:', round(best_fit_values[5],3))\n",
    "print('E_b1:', round(best_fit_values[6],3), 'GeV'); print('E_b2:', round(best_fit_values[7],3), 'GeV')\n",
    "print('')\n",
    "\n",
    "min_chi = Chi_DAMPE(best_fit_values)\n",
    "print('chi^2_min:', round(min_chi,7))"
   ]
  },
  {
   "cell_type": "markdown",
   "id": "53010abb",
   "metadata": {},
   "source": [
    "### NUCLEON"
   ]
  },
  {
   "cell_type": "code",
   "execution_count": 48,
   "id": "3ca221e1",
   "metadata": {},
   "outputs": [
    {
     "name": "stdout",
     "output_type": "stream",
     "text": [
      "# data points used: 11\n",
      "# actual data points: 6\n"
     ]
    }
   ],
   "source": [
    "E = E_NUCLEON\n",
    "Flux = flux_NUCLEON\n",
    "Sigma = 2*error_NUCLEON\n",
    "\n",
    "index = np.where(np.logical_and(E>=1e2, E<=1e5))\n",
    "E = E[index]; Flux = Flux[index]; Sigma = Sigma[index]\n",
    "\n",
    "# Check number of degrees of freedom\n",
    "print('# data points used:', 11)\n",
    "print('# actual data points:', len(Flux))\n",
    "\n",
    "def Chi_NUCLEON(parameters):\n",
    "    K, alpha2, alpha3, omega2, Eb2 = parameters\n",
    "    Phi_model = Phi_onebreak(E, K, 2 * 1e3, alpha2, alpha3, omega2, Eb2)\n",
    "    return sum( (Phi_model - Flux)**2 / Sigma**2 ) "
   ]
  },
  {
   "cell_type": "code",
   "execution_count": 49,
   "id": "d8665c29",
   "metadata": {},
   "outputs": [
    {
     "name": "stdout",
     "output_type": "stream",
     "text": [
      "LIPARI & VERNETTO BEST FIT VALUES:\n",
      "K: 1.26e-05\n",
      "alpha_1: 2.44\n",
      "alpha_2: 2.86\n",
      "omega: 0.24\n",
      "E_b: 9500.0 GeV\n",
      "\n",
      "MY BEST FIT VALUES:\n",
      "K: 0.0\n",
      "alpha_1: 2.416\n",
      "alpha_2: 2.628\n",
      "omega: 0.296\n",
      "E_b: 9500.0 GeV\n",
      "\n",
      "chi^2_min: 0.3089686\n"
     ]
    }
   ],
   "source": [
    "# Initial guess\n",
    "alpha2 = 2.44\n",
    "alpha3 = 2.86\n",
    "Eb2 = 9.5 * 1e3 #GeV\n",
    "omega2 = 0.24\n",
    "K = 1.26 * 10**(-5) #(GeV m2 s sr)-1\n",
    "E0 = 2 * 1e3 #GeV\n",
    "\n",
    "# Minimization of chi^2\n",
    "output = minimize(Chi_NUCLEON, (K, alpha2, alpha3, omega2, Eb2), method='L-BFGS-B')\n",
    "best_fit_values = output['x']\n",
    "\n",
    "# Best fit values\n",
    "print('LIPARI & VERNETTO BEST FIT VALUES:')\n",
    "print('K:', round(K,7)); \n",
    "print('alpha_1:', round(alpha2,3)); print('alpha_2:', round(alpha3,3))\n",
    "print('omega:', round(omega2,3))\n",
    "print('E_b:', round(Eb2,4), 'GeV')\n",
    "print('')\n",
    "\n",
    "K, alpha2, alpha3, omega2, Eb2 = best_fit_values\n",
    "print('MY BEST FIT VALUES:')\n",
    "print('K:', round(best_fit_values[0],3))\n",
    "print('alpha_1:', round(best_fit_values[1],3)); print('alpha_2:', round(best_fit_values[2],3))\n",
    "print('omega:', round(best_fit_values[3],3))\n",
    "print('E_b:', round(best_fit_values[4],3), 'GeV')\n",
    "print('')\n",
    "\n",
    "min_chi = Chi_NUCLEON(best_fit_values)\n",
    "print('chi^2_min:', round(min_chi,7))"
   ]
  },
  {
   "cell_type": "markdown",
   "id": "018eddaa",
   "metadata": {},
   "source": [
    "## Combined fit using all detectors"
   ]
  },
  {
   "cell_type": "code",
   "execution_count": 282,
   "id": "b8a558dd",
   "metadata": {},
   "outputs": [],
   "source": [
    "E = np.append(np.append(np.append(np.append(np.append(np.append(E_PAMELA, E_AMS02), E_DAMPE), E_CALET), E_CREAM), E_ATIC), E_NUCLEON)\n",
    "Flux = np.append(np.append(np.append(np.append(np.append(np.append(flux_PAMELA, flux_AMS02), flux_DAMPE), flux_CALET), flux_CREAM), flux_ATIC), flux_NUCLEON)\n",
    "Sigma = np.append(np.append(np.append(np.append(np.append(np.append(2*error_PAMELA, 2*error_AMS02), 2*error_DAMPE), error_CALET_low+error_CALET_up), error_CREAM_low+error_CREAM_up), 2*error_ATIC), 2*error_NUCLEON)\n",
    "\n",
    "index = np.where(np.logical_and(E>=1e2, E<=1e5))\n",
    "\n",
    "E = E[index]\n",
    "Flux = Flux[index]\n",
    "Sigma = Sigma[index]\n",
    "\n",
    "def Chi(parameters):\n",
    "    K, E0, alpha1, alpha2, alpha3, omega1, omega2, Eb1, Eb2 = parameters\n",
    "    Phi_model = Phi_Lipari(E, K, E0, alpha1, alpha2, alpha3, omega1, omega2, Eb1, Eb2)\n",
    "    return sum( (Phi_model - Flux)**2 / Sigma**2) / (len(Flux) - len(parameters))"
   ]
  },
  {
   "cell_type": "code",
   "execution_count": 283,
   "id": "471bfb93",
   "metadata": {},
   "outputs": [
    {
     "data": {
      "text/plain": [
       "1.368925749049401"
      ]
     },
     "execution_count": 283,
     "metadata": {},
     "output_type": "execute_result"
    }
   ],
   "source": [
    "# Best fit value \n",
    "\n",
    "parameters = 4.40 * 10**(-2), 0.1 * 1e3, 2.80, 2.57, 2.87, 0.27, 0.35, 0.67 * 1e3, 16 * 1e3\n",
    "Chi(parameters)"
   ]
  },
  {
   "cell_type": "code",
   "execution_count": 310,
   "id": "6df0cace",
   "metadata": {},
   "outputs": [
    {
     "name": "stdout",
     "output_type": "stream",
     "text": [
      "LIPARI & VERNETTO BEST FIT VALUES:\n",
      "K: 0.044\n",
      "E_0: 100.0 GeV\n",
      "alpha_1: 2.8\n",
      "alpha_2: 2.57\n",
      "alpha_3: 2.87\n",
      "omega: 0.27\n",
      "omega_primed: 0.35\n",
      "E_b: 670.0 GeV\n",
      "E_b_primed: 16000.0 GeV\n",
      "\n",
      "MY BEST FIT VALUES:\n",
      "K: 0.033\n",
      "E_0: 100.001 GeV\n",
      "alpha_1: 2.916\n",
      "alpha_2: 2.466\n",
      "alpha_3: 2.781\n",
      "omega: 2.038\n",
      "omega_primed: 0.016\n",
      "E_b: 669.999 GeV\n",
      "E_b_primed: 16000.0 GeV\n"
     ]
    },
    {
     "name": "stderr",
     "output_type": "stream",
     "text": [
      "/var/folders/j4/1fvnmc755y74k9kgn5w7_s400000gn/T/ipykernel_94199/2483709905.py:4: RuntimeWarning: overflow encountered in power\n",
      "  return K * (E/E0)**(-alpha1) * (1 + (E/Eb1)**(1/omega1))**(-delta1 * omega1) * (1 + (E/Eb2)**(1/omega2))**(-delta2 * omega2)\n"
     ]
    }
   ],
   "source": [
    "# Initial guess\n",
    "alpha1 = 2.80\n",
    "alpha2 = 2.57\n",
    "alpha3 = 2.87\n",
    "Eb1 = 0.67 * 1e3\n",
    "omega1 = 0.27\n",
    "Eb2 = 16 * 1e3\n",
    "omega2 = 0.35\n",
    "K = 4.40 * 10**(-2)\n",
    "E0 = 0.1 * 1e3\n",
    "\n",
    "print('LIPARI & VERNETTO BEST FIT VALUES:')\n",
    "print('K:', round(K,3)); print('E_0:', round(E0,3), 'GeV'); print('alpha_1:', round(alpha1,3))\n",
    "print('alpha_2:', round(alpha2,3)); print('alpha_3:', round(alpha3,3)); print('omega:', round(omega1,3))\n",
    "print('omega_primed:', round(omega2,3)); print('E_b:', round(Eb1,3), 'GeV'); print('E_b_primed:', round(Eb2,3), 'GeV')\n",
    "print('')\n",
    "\n",
    "# Minimization of chi^2\n",
    "output = minimize(Chi, (K, E0, alpha1, alpha2, alpha3, omega1, omega2, Eb1, Eb2), method='L-BFGS-B')\n",
    "best_fit_values = output['x']\n",
    "\n",
    "# Best fit values\n",
    "K, E0, alpha1, alpha2, alpha3, omega1, omega2, Eb1, Eb2 = best_fit_values\n",
    "print('MY BEST FIT VALUES:')\n",
    "print('K:', round(best_fit_values[0],3)); print('E_0:', round(best_fit_values[1],3), 'GeV'); print('alpha_1:', round(best_fit_values[2],3))\n",
    "print('alpha_2:', round(best_fit_values[3],3)); print('alpha_3:', round(best_fit_values[4],3)); print('omega:', round(best_fit_values[5],3))\n",
    "print('omega_primed:', round(best_fit_values[6],3)); print('E_b:', round(best_fit_values[7],3), 'GeV'); print('E_b_primed:', round(best_fit_values[8],3), 'GeV')"
   ]
  },
  {
   "cell_type": "code",
   "execution_count": 280,
   "id": "ddb502b5",
   "metadata": {},
   "outputs": [
    {
     "data": {
      "text/plain": [
       "Text(0.5, 1.0, 'All detectors')"
      ]
     },
     "execution_count": 280,
     "metadata": {},
     "output_type": "execute_result"
    },
    {
     "data": {
      "image/png": "[encoded data removed]",
      "text/plain": [
       "<Figure size 1000x700 with 1 Axes>"
      ]
     },
     "metadata": {},
     "output_type": "display_data"
    }
   ],
   "source": [
    "logE = np.arange(0,6,0.1)\n",
    "E = 10**logE\n",
    "Phi_us = Phi_Lipari(E, K, E0, alpha1, alpha2, alpha3, omega1, omega2, Eb1, Eb2)\n",
    "\n",
    "plt.figure(figsize=(10, 7))\n",
    "plt.plot(E, Phi_us* E**2.7, color='black', label='Best fit (here)')\n",
    "plt.plot(E, Phi_all* E**2.7, '--', color='black', label='Best fit (Lipari & Vernetto)')\n",
    "plt.errorbar(E_PAMELA, flux_PAMELA * E_PAMELA**2.7, yerr=error_PAMELA * E_PAMELA**2.7, fmt='o', color='red', label='PAMELA')\n",
    "plt.errorbar(E_AMS02, flux_AMS02 * E_AMS02**2.7, yerr=error_AMS02 * E_AMS02**2.7, fmt='s', color='orange', label='AMS02')\n",
    "plt.errorbar(E_DAMPE, flux_DAMPE * E_DAMPE**2.7, yerr=error_DAMPE * E_DAMPE**2.7, fmt='^', color='gold', label='DAMPE')\n",
    "plt.errorbar(E_CALET, flux_CALET * E_CALET**2.7, yerr=(error_CALET_low,error_CALET_up) * E_CALET**2.7, fmt='v', color='green', label='CALET')\n",
    "plt.errorbar(E_CREAM, flux_CREAM * E_CREAM**2.7, yerr=(error_CREAM_low,error_CREAM_low) * E_CREAM**2.7, fmt='d', color='cyan', label='CREAM')\n",
    "plt.errorbar(E_ATIC, flux_ATIC * E_ATIC**2.7, yerr=error_ATIC * E_ATIC**2.7, fmt='*', color='blue', label='ATIC')\n",
    "plt.errorbar(E_NUCLEON, flux_NUCLEON * E_NUCLEON**2.7, yerr=error_NUCLEON * E_NUCLEON**2.7, fmt='p', color='purple', label='NUCLEON')\n",
    "plt.loglog()\n",
    "plt.xlabel('E [GeV]', fontsize=17)\n",
    "plt.ylabel(r'$E^{2.7}\\phi(E)$ [GeV$^{1.7}$ (m$^2$ s sr)$^{-1}$]', fontsize=17)\n",
    "plt.legend(ncol=2, fontsize=14)\n",
    "plt.title('All detectors', fontsize=17)"
   ]
  },
  {
   "cell_type": "code",
   "execution_count": null,
   "id": "1ca956f7",
   "metadata": {},
   "outputs": [],
   "source": []
  }
 ],
 "metadata": {
  "kernelspec": {
   "display_name": "Python 3 (ipykernel)",
   "language": "python",
   "name": "python3"
  },
  "language_info": {
   "codemirror_mode": {
    "name": "ipython",
    "version": 3
   },
   "file_extension": ".py",
   "mimetype": "text/x-python",
   "name": "python",
   "nbconvert_exporter": "python",
   "pygments_lexer": "ipython3",
   "version": "3.11.5"
  }
 },
 "nbformat": 4,
 "nbformat_minor": 5
}
