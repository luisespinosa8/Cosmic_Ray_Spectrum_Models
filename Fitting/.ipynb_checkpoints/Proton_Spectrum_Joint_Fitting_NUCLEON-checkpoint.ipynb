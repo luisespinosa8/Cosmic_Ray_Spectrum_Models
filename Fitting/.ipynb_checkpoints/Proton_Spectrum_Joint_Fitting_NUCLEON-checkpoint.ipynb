{
 "cells": [
  {
   "cell_type": "markdown",
   "id": "5296252a",
   "metadata": {},
   "source": [
    "# Cosmic Ray Proton Spectrum Fitting\n",
    "## NUCLEON"
   ]
  },
  {
   "cell_type": "code",
   "execution_count": 1,
   "id": "f965094b",
   "metadata": {},
   "outputs": [],
   "source": [
    "from pylab import *\n",
    "from scipy.optimize import minimize \n",
    "from scipy import interpolate"
   ]
  },
  {
   "cell_type": "code",
   "execution_count": 6,
   "id": "4da10120",
   "metadata": {},
   "outputs": [],
   "source": [
    "def Phi_onebreak(E, K, E0, alpha1, alpha2, omega1, Eb1):\n",
    "    delta1 = alpha2 - alpha1\n",
    "    return K * (E/E0)**(-alpha1) * (1 + (E/Eb1)**(1/omega1))**(-delta1 * omega1)"
   ]
  },
  {
   "cell_type": "code",
   "execution_count": 7,
   "id": "b88bdb5d",
   "metadata": {},
   "outputs": [],
   "source": [
    "data_NUCLEON_H = np.genfromtxt(\"Data/NUCLEON_H_data.txt\")\n",
    "E_NUCLEON = data_NUCLEON_H[:,1]\n",
    "flux_NUCLEON = data_NUCLEON_H[:,3]\n",
    "error_NUCLEON = data_NUCLEON_H[:,4]"
   ]
  },
  {
   "cell_type": "code",
   "execution_count": 8,
   "id": "c8cf2d9f",
   "metadata": {},
   "outputs": [
    {
     "name": "stdout",
     "output_type": "stream",
     "text": [
      "# data points used: 11\n",
      "# actual data points: 6\n"
     ]
    }
   ],
   "source": [
    "E = E_NUCLEON\n",
    "Flux = flux_NUCLEON\n",
    "Sigma = 2*error_NUCLEON\n",
    "\n",
    "index = np.where(np.logical_and(E>=1e2, E<=1e5))\n",
    "E = E[index]; Flux = Flux[index]; Sigma = Sigma[index]\n",
    "\n",
    "# Check number of degrees of freedom\n",
    "print('# data points used:', 11)\n",
    "print('# actual data points:', len(Flux))\n",
    "\n",
    "def Chi_NUCLEON(parameters):\n",
    "    K, alpha2, alpha3, omega2, Eb2 = parameters\n",
    "    Phi_model = Phi_onebreak(E, K, 2 * 1e3, alpha2, alpha3, omega2, Eb2)\n",
    "    return sum( (Phi_model - Flux)**2 / Sigma**2 ) "
   ]
  },
  {
   "cell_type": "code",
   "execution_count": 9,
   "id": "b252ef72",
   "metadata": {},
   "outputs": [
    {
     "name": "stdout",
     "output_type": "stream",
     "text": [
      "Min chi^2 from Lipari & Vernetto: 3.4\n",
      "Computed chi^2: 1.854200132715965\n"
     ]
    }
   ],
   "source": [
    "# Check of chi^2 with reported value\n",
    "alpha2_bestfit_NUCLEON = 2.44\n",
    "alpha3_bestfit_NUCLEON = 2.86\n",
    "Eb2_bestfit_NUCLEON = 9.5 * 1e3 #GeV\n",
    "omega2_bestfit_NUCLEON = 0.24\n",
    "K_bestfit_NUCLEON = 1.26 * 10**(-5) #(GeV m2 s sr)-1\n",
    "\n",
    "parameters_bestfit_NUCLEON = K_bestfit_NUCLEON, alpha2_bestfit_NUCLEON, alpha3_bestfit_NUCLEON, omega2_bestfit_NUCLEON, Eb2_bestfit_NUCLEON\n",
    "print('Min chi^2 from Lipari & Vernetto:', 3.4)\n",
    "print('Computed chi^2:', Chi_NUCLEON(parameters_bestfit_NUCLEON) )"
   ]
  },
  {
   "cell_type": "code",
   "execution_count": 12,
   "id": "e939385e",
   "metadata": {},
   "outputs": [
    {
     "name": "stdout",
     "output_type": "stream",
     "text": [
      "LIPARI & VERNETTO BEST FIT VALUES:\n",
      "K: 1.26e-05\n",
      "alpha_1: 2.44\n",
      "alpha_2: 2.86\n",
      "omega: 0.24\n",
      "E_b: 9500.0 GeV\n",
      "\n",
      "MY BEST FIT VALUES:\n",
      "K: 1.18e-05\n",
      "alpha_1: 2.416\n",
      "alpha_2: 2.628\n",
      "omega: 0.296\n",
      "E_b: 9500.0 GeV\n",
      "\n",
      "chi^2_min: 0.3089686\n"
     ]
    }
   ],
   "source": [
    "# Minimization of chi^2\n",
    "#bounds_range = ((9e-6,2e-5),(2,3),(2,3),(0.0001,1),(1e2,1e5))\n",
    "output = minimize(Chi_NUCLEON, (K_bestfit_NUCLEON, alpha2_bestfit_NUCLEON, alpha3_bestfit_NUCLEON, omega2_bestfit_NUCLEON, Eb2_bestfit_NUCLEON), method='L-BFGS-B')\n",
    "best_fit_values = output['x']\n",
    "\n",
    "# Best fit values\n",
    "print('LIPARI & VERNETTO BEST FIT VALUES:')\n",
    "print('K:', round(K_bestfit_NUCLEON,7)); \n",
    "print('alpha_1:', round(alpha2_bestfit_NUCLEON,3)); print('alpha_2:', round(alpha3_bestfit_NUCLEON,3))\n",
    "print('omega:', round(omega2_bestfit_NUCLEON,3))\n",
    "print('E_b:', round(Eb2_bestfit_NUCLEON,4), 'GeV')\n",
    "print('')\n",
    "\n",
    "print('MY BEST FIT VALUES:')\n",
    "print('K:', round(best_fit_values[0],7))\n",
    "print('alpha_1:', round(best_fit_values[1],3)); print('alpha_2:', round(best_fit_values[2],3))\n",
    "print('omega:', round(best_fit_values[3],3))\n",
    "print('E_b:', round(best_fit_values[4],3), 'GeV')\n",
    "print('')\n",
    "\n",
    "min_chi = Chi_NUCLEON(best_fit_values)\n",
    "print('chi^2_min:', round(min_chi,7))"
   ]
  },
  {
   "cell_type": "code",
   "execution_count": 13,
   "id": "2c062b65",
   "metadata": {},
   "outputs": [
    {
     "name": "stdout",
     "output_type": "stream",
     "text": [
      "K\n",
      "Lower error: 1.6942803166871032e-06\n",
      "Upper error: 1.7001732439185791e-06\n",
      "alpha2\n",
      "Lower error: 0.1624855816244435\n",
      "Upper error: 0.20947642183559934\n",
      "alpha3\n",
      "Lower error: 0.3475610435997387\n",
      "Upper error: 0.7088273861259058\n",
      "omega2\n"
     ]
    },
    {
     "ename": "IndexError",
     "evalue": "index 0 is out of bounds for axis 0 with size 0",
     "output_type": "error",
     "traceback": [
      "\u001b[0;31m---------------------------------------------------------------------------\u001b[0m",
      "\u001b[0;31mIndexError\u001b[0m                                Traceback (most recent call last)",
      "Cell \u001b[0;32mIn[13], line 52\u001b[0m\n\u001b[1;32m     50\u001b[0m freduced \u001b[38;5;241m=\u001b[39m interpolate\u001b[38;5;241m.\u001b[39mUnivariateSpline(scan, yreduced, s\u001b[38;5;241m=\u001b[39m\u001b[38;5;241m0\u001b[39m)\n\u001b[1;32m     51\u001b[0m scan_interval \u001b[38;5;241m=\u001b[39m freduced\u001b[38;5;241m.\u001b[39mroots()\n\u001b[0;32m---> 52\u001b[0m \u001b[38;5;28mprint\u001b[39m(\u001b[38;5;124m'\u001b[39m\u001b[38;5;124momega2\u001b[39m\u001b[38;5;124m'\u001b[39m); \u001b[38;5;28mprint\u001b[39m(\u001b[38;5;124m'\u001b[39m\u001b[38;5;124mLower error:\u001b[39m\u001b[38;5;124m'\u001b[39m, fit \u001b[38;5;241m-\u001b[39m scan_interval[\u001b[38;5;241m0\u001b[39m]); \u001b[38;5;28mprint\u001b[39m(\u001b[38;5;124m'\u001b[39m\u001b[38;5;124mUpper error:\u001b[39m\u001b[38;5;124m'\u001b[39m, scan_interval[\u001b[38;5;241m1\u001b[39m] \u001b[38;5;241m-\u001b[39m fit)\n\u001b[1;32m     54\u001b[0m scan, fit, chi_sqrd \u001b[38;5;241m=\u001b[39m Errors_NUCLEON(\u001b[38;5;241m4\u001b[39m)\n\u001b[1;32m     55\u001b[0m yreduced \u001b[38;5;241m=\u001b[39m np\u001b[38;5;241m.\u001b[39marray(chi_sqrd) \u001b[38;5;241m-\u001b[39m yToFind\n",
      "\u001b[0;31mIndexError\u001b[0m: index 0 is out of bounds for axis 0 with size 0"
     ]
    }
   ],
   "source": [
    "def Errors_NUCLEON(n):\n",
    "    \n",
    "    alpha2 = 2.44\n",
    "    alpha3 = 2.86\n",
    "    Eb2 = 9.5 * 1e3 #GeV\n",
    "    omega2 = 0.24\n",
    "    K = 1.26 * 10**(-5) #(GeV m2 s sr)-1\n",
    "    output = minimize(Chi_NUCLEON, (K, alpha2, alpha3, omega2, Eb2), method='L-BFGS-B')\n",
    "    best_fit_values = output['x']\n",
    "    \n",
    "    scan = np.zeros(500)\n",
    "    fit = best_fit_values[n]\n",
    "    for i in range(0, 250):\n",
    "        scan[i] = fit - (fit / 1000)*i\n",
    "    for j in range(250, 500):\n",
    "        scan[j] = fit + (fit / 1000)*j\n",
    "    scan = np.sort(scan)\n",
    "    \n",
    "    true_best_fit = Chi_NUCLEON(best_fit_values)\n",
    "    chi_sqrd = np.zeros(500)\n",
    "    for k in range(0, 500):\n",
    "        best_fit_values[n] = scan[k]\n",
    "        scan_chi = Chi_NUCLEON(best_fit_values)\n",
    "        chi_sqrd[k] = np.abs(true_best_fit - scan_chi)\n",
    "    return scan, fit, chi_sqrd\n",
    "\n",
    "# Find value for which chi^2 is equal to one\n",
    "yToFind = 5.89\n",
    "\n",
    "scan, fit, chi_sqrd = Errors_NUCLEON(0)\n",
    "yreduced = np.array(chi_sqrd) - yToFind\n",
    "freduced = interpolate.UnivariateSpline(scan, yreduced, s=0)\n",
    "scan_interval = freduced.roots()\n",
    "print('K'); print('Lower error:', fit - scan_interval[0]); print('Upper error:', scan_interval[1] - fit)\n",
    "\n",
    "scan, fit, chi_sqrd = Errors_NUCLEON(1)\n",
    "yreduced = np.array(chi_sqrd) - yToFind\n",
    "freduced = interpolate.UnivariateSpline(scan, yreduced, s=0)\n",
    "scan_interval = freduced.roots()\n",
    "print('alpha2'); print('Lower error:', fit - scan_interval[0]); print('Upper error:', scan_interval[1] - fit)\n",
    "\n",
    "scan, fit, chi_sqrd = Errors_NUCLEON(2)\n",
    "yreduced = np.array(chi_sqrd) - yToFind\n",
    "freduced = interpolate.UnivariateSpline(scan, yreduced, s=0)\n",
    "scan_interval = freduced.roots()\n",
    "print('alpha3'); print('Lower error:', fit - scan_interval[0]); print('Upper error:', scan_interval[1] - fit)\n",
    "\n",
    "scan, fit, chi_sqrd = Errors_NUCLEON(3)\n",
    "yreduced = np.array(chi_sqrd) - yToFind\n",
    "freduced = interpolate.UnivariateSpline(scan, yreduced, s=0)\n",
    "scan_interval = freduced.roots()\n",
    "print('omega2'); print('Lower error:', fit - scan_interval[0]); print('Upper error:', scan_interval[1] - fit)\n",
    "\n",
    "scan, fit, chi_sqrd = Errors_NUCLEON(4)\n",
    "yreduced = np.array(chi_sqrd) - yToFind\n",
    "freduced = interpolate.UnivariateSpline(scan, yreduced, s=0)\n",
    "scan_interval = freduced.roots()\n",
    "print('Eb2'); print('Lower error:', fit - scan_interval[0]); print('Upper error:', scan_interval[1] - fit)"
   ]
  },
  {
   "cell_type": "code",
   "execution_count": 16,
   "id": "6174550a",
   "metadata": {},
   "outputs": [
    {
     "data": {
      "text/plain": [
       "<matplotlib.legend.Legend at 0x13140e910>"
      ]
     },
     "execution_count": 16,
     "metadata": {},
     "output_type": "execute_result"
    },
    {
     "data": {
      "image/png": "[encoded data removed]",
      "text/plain": [
       "<Figure size 640x480 with 1 Axes>"
      ]
     },
     "metadata": {},
     "output_type": "display_data"
    }
   ],
   "source": [
    "# Lipari & Vernetto\n",
    "Phi_model = Phi_onebreak(E, K_bestfit_NUCLEON, 2 * 1e3, alpha2_bestfit_NUCLEON, alpha3_bestfit_NUCLEON, omega2_bestfit_NUCLEON, Eb2_bestfit_NUCLEON)\n",
    "# Me\n",
    "Phi_fit = Phi_onebreak(E, best_fit_values[0], 2 * 1e3, best_fit_values[1], best_fit_values[2], best_fit_values[3], best_fit_values[4])\n",
    "\n",
    "plt.plot(E, Phi_model * E**2.7, linestyle='--', color='black', label='Lipari & Vernetto fit')\n",
    "plt.plot(E, Phi_fit * E**2.7, color='black', label='My fit')\n",
    "plt.errorbar(E_NUCLEON[index], flux_NUCLEON[index] * E_NUCLEON[index]**2.7, yerr=error_NUCLEON[index] * E_NUCLEON[index]**2.7, fmt='o')\n",
    "plt.loglog()\n",
    "plt.ylabel(r'$E^{2.7}\\phi(E)$ [GeV$^{1.7}$ (m$^2$ s sr)$^{-1}$]', fontsize=15)\n",
    "plt.xlabel('E [GeV]', fontsize=15)\n",
    "plt.title('PAMELA', fontsize=17)\n",
    "plt.legend(fontsize=15)"
   ]
  },
  {
   "cell_type": "code",
   "execution_count": null,
   "id": "f764187f",
   "metadata": {},
   "outputs": [],
   "source": []
  }
 ],
 "metadata": {
  "kernelspec": {
   "display_name": "Python 3 (ipykernel)",
   "language": "python",
   "name": "python3"
  },
  "language_info": {
   "codemirror_mode": {
    "name": "ipython",
    "version": 3
   },
   "file_extension": ".py",
   "mimetype": "text/x-python",
   "name": "python",
   "nbconvert_exporter": "python",
   "pygments_lexer": "ipython3",
   "version": "3.11.5"
  }
 },
 "nbformat": 4,
 "nbformat_minor": 5
}
