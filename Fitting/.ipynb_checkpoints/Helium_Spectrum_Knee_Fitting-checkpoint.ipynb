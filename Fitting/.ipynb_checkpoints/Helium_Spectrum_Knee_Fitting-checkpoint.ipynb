{
 "cells": [
  {
   "cell_type": "markdown",
   "id": "c75965fd",
   "metadata": {},
   "source": [
    "# Cosmic Ray Helium Spectrum up to the Knee"
   ]
  },
  {
   "cell_type": "code",
   "execution_count": 247,
   "id": "ccd9a429",
   "metadata": {},
   "outputs": [],
   "source": [
    "from pylab import *\n",
    "from scipy.optimize import minimize\n",
    "from scipy import interpolate"
   ]
  },
  {
   "cell_type": "code",
   "execution_count": 248,
   "id": "73eb8d1c",
   "metadata": {},
   "outputs": [],
   "source": [
    "m_p = 0.938 # Proton mass\n",
    "Z = 2 # Atomic number\n",
    "A = 4 # Mass number\n",
    "n = 4 # Number of nucleons in H"
   ]
  },
  {
   "cell_type": "markdown",
   "id": "8af36849",
   "metadata": {},
   "source": [
    "## PAMELA data from Adriani et al., Science 332, 69 (2011)\n",
    "### Data sets columns:\n",
    "#### [0] Quantity $\\quad$ [1] $<R>$ (GV) $\\quad$ [2] Bin range $\\quad$ [3] Flux (per R bin)  (GV m2 s sr)-1 $\\quad$ [4] Stat Err $\\quad$ [5] Syst Err"
   ]
  },
  {
   "cell_type": "code",
   "execution_count": 253,
   "id": "71e1d6a2",
   "metadata": {},
   "outputs": [
    {
     "name": "stdout",
     "output_type": "stream",
     "text": [
      "PAMELA\n",
      "Number of data points: 29\n"
     ]
    }
   ],
   "source": [
    "data_PAMELA_He = np.genfromtxt(\"Data/Helium/PAMELA_He_data.txt\")\n",
    "R_PAMELA = data_PAMELA_He[:,1]\n",
    "E_PAMELA = (R_PAMELA * Z) - (A * m_p)\n",
    "flux_R_PAMELA = data_PAMELA_He[:,3]\n",
    "flux_PAMELA = flux_R_PAMELA * (R_PAMELA / ((Z * R_PAMELA) - (A * m_p))) # Normalize to Ek\n",
    "error_PAMELA_stat = data_PAMELA_He[:,4] * (R_PAMELA / ((Z * R_PAMELA) - (A * m_p))) # Normalize to Ek\n",
    "error_PAMELA_syst = data_PAMELA_He[:,5] * (R_PAMELA / ((Z * R_PAMELA) - (A * m_p))) # Normalize to Ek\n",
    "error_PAMELA = np.sqrt(error_PAMELA_stat**2 + error_PAMELA_syst**2) \n",
    "\n",
    "# Consider E > 50 GeV\n",
    "index_PAMELA = np.where(np.logical_and(E_PAMELA>=5e1, E_PAMELA<=1e5))\n",
    "E_PAMELA = E_PAMELA[index_PAMELA]; flux_PAMELA = flux_PAMELA[index_PAMELA]; error_PAMELA = error_PAMELA[index_PAMELA]\n",
    "print('PAMELA')\n",
    "print('Number of data points:', len(E_PAMELA))"
   ]
  },
  {
   "cell_type": "markdown",
   "id": "c5f9231f",
   "metadata": {},
   "source": [
    "## AMS02 data from Aguilar et al., PRL 114, 171103 (2015)\n",
    "### Data sets columns:\n",
    "#### [0] Quantity $\\quad$ [1] $<R>$ (GV) $\\quad$ [2] Bin range $\\quad$ [3] Flux (per R bin)  (GV m2 s sr)-1 $\\quad$ [4] Stat Err $\\quad$ [5] Syst Err "
   ]
  },
  {
   "cell_type": "code",
   "execution_count": 254,
   "id": "756e8502",
   "metadata": {},
   "outputs": [
    {
     "name": "stdout",
     "output_type": "stream",
     "text": [
      "AMS02\n",
      "Number of data points: 39\n"
     ]
    }
   ],
   "source": [
    "data_AMS02_He = np.genfromtxt(\"Data/Helium/AMS02_He_data.txt\")\n",
    "R_AMS02 = data_AMS02_He[:,1]\n",
    "E_AMS02 = (R_AMS02 * Z) - (A * m_p)\n",
    "flux_R_AMS02 = data_AMS02_He[:,3]\n",
    "flux_AMS02 = flux_R_AMS02 * (R_AMS02 / ((Z * R_AMS02) - (A * m_p))) # Normalize to Ek\n",
    "error_AMS02_stat = data_AMS02_He[:,4] * (R_AMS02 / ((Z * R_AMS02) - (A * m_p))) # Normalize to Ek\n",
    "error_AMS02_syst = data_AMS02_He[:,5] * (R_AMS02 / ((Z * R_AMS02) - (A * m_p))) # Normalize to Ek\n",
    "error_AMS02 = np.sqrt(error_AMS02_stat**2 + error_AMS02_syst**2)\n",
    "\n",
    "# Consider E > 50 GeV\n",
    "index_AMS02 = np.where(np.logical_and(E_AMS02>=5e1, E_AMS02<=1e5))\n",
    "E_AMS02 = E_AMS02[index_AMS02]; flux_AMS02 = flux_AMS02[index_AMS02]; error_AMS02 = error_AMS02[index_AMS02]\n",
    "print('AMS02')\n",
    "print('Number of data points:', len(E_AMS02))"
   ]
  },
  {
   "cell_type": "markdown",
   "id": "ed962f2f",
   "metadata": {},
   "source": [
    "## DAMPE data from Alemanno et al., PhRvL 126, 201102 (2021)\n",
    "### Data sets columns:\n",
    "#### [0] Quantity $\\quad$ [1] $<Ek>$ (GeV) $\\quad$ [2] Bin range $\\quad$ [3] Flux (per Ek bin)  (GeV m2 s sr)-1 $\\quad$ [4] Stat Err $\\quad$ [5] Syst Err"
   ]
  },
  {
   "cell_type": "code",
   "execution_count": 255,
   "id": "a40590a2",
   "metadata": {},
   "outputs": [
    {
     "name": "stdout",
     "output_type": "stream",
     "text": [
      "DAMPE\n",
      "Number of data points: 23\n"
     ]
    }
   ],
   "source": [
    "data_DAMPE_He = np.genfromtxt(\"Data/Helium/DAMPE_He_data.txt\")\n",
    "E_DAMPE = data_DAMPE_He[:,1]\n",
    "flux_DAMPE = data_DAMPE_He[:,3]\n",
    "error_DAMPE_stat = data_DAMPE_He[:,4]\n",
    "error_DAMPE_syst = data_DAMPE_He[:,5]\n",
    "error_DAMPE = np.sqrt(error_DAMPE_stat**2 + error_DAMPE_syst**2)\n",
    "\n",
    "# Consider E > 50 GeV\n",
    "index_DAMPE = np.where(np.logical_and(E_DAMPE>=5e1, E_DAMPE<=1e5))\n",
    "E_DAMPE = E_DAMPE[index_DAMPE]; flux_DAMPE = flux_DAMPE[index_DAMPE]; error_DAMPE = error_DAMPE[index_DAMPE]\n",
    "print('DAMPE')\n",
    "print('Number of data points:', len(E_DAMPE))"
   ]
  },
  {
   "cell_type": "markdown",
   "id": "b7a19a31",
   "metadata": {},
   "source": [
    "## CALET data from Adriani et al., PhRvL 130, 171002 (2023)\n",
    "### Data sets columns:\n",
    "#### [0] Quantity $\\quad$ [1] $<Ek>$ (GeV) $\\quad$ [2] Bin range $\\quad$ [3] Flux (per Ek bin)  (GeV m2 s sr)-1 $\\quad$ [4] Stat Err $\\quad$ [5] Syst Err (-) $\\quad$ [6] Syst Err (+)"
   ]
  },
  {
   "cell_type": "code",
   "execution_count": 256,
   "id": "b43df197",
   "metadata": {},
   "outputs": [
    {
     "name": "stdout",
     "output_type": "stream",
     "text": [
      "CALET\n",
      "Number of data points: 17\n"
     ]
    }
   ],
   "source": [
    "data_CALET_He = np.genfromtxt(\"Data/Helium/CALET_He_data.txt\")\n",
    "E_CALET = data_CALET_He[:,1]\n",
    "flux_CALET = data_CALET_He[:,3]\n",
    "error_CALET_stat = data_CALET_He[:,4]\n",
    "error_CALET_syst_low = data_CALET_He[:,5]\n",
    "error_CALET_syst_up = data_CALET_He[:,6]\n",
    "error_CALET_low = np.sqrt(error_CALET_stat**2 + error_CALET_syst_low**2)\n",
    "error_CALET_up = np.sqrt(error_CALET_stat**2 + error_CALET_syst_up**2)\n",
    "\n",
    "# Consider E > 50 GeV\n",
    "index_CALET = np.where(np.logical_and(E_CALET>=5e1, E_CALET<=1e5))\n",
    "E_CALET = E_CALET[index_CALET]; flux_CALET = flux_CALET[index_CALET]; error_CALET_low = error_CALET_low[index_CALET]; error_CALET_up = error_CALET_up[index_CALET]\n",
    "print('CALET')\n",
    "print('Number of data points:', len(E_CALET))"
   ]
  },
  {
   "cell_type": "markdown",
   "id": "972bcaed",
   "metadata": {},
   "source": [
    "## CREAM data from Yoon et al., ApJ 839, 5 (2017)\n",
    "### Data sets colums\n",
    "#### [0] Quantity $\\quad$ [1] $<Ek/n>$ (GeV) $\\quad$ [2] Bin range $\\quad$ [3] Flux (per Ek/n bin)  (GeV m2 s sr)-1 $\\quad$ [4] Stat Err (-) $\\quad$ [5] Stat Err (+) $\\quad$ [6] Syst Err"
   ]
  },
  {
   "cell_type": "code",
   "execution_count": 257,
   "id": "3e04ed4a",
   "metadata": {},
   "outputs": [
    {
     "name": "stdout",
     "output_type": "stream",
     "text": [
      "CREAM\n",
      "Number of data points: 12\n"
     ]
    }
   ],
   "source": [
    "data_CREAM_He = np.genfromtxt(\"Data/Helium/CREAM_He_data.txt\")\n",
    "E_CREAM = data_CREAM_He[:,1] * n\n",
    "flux_CREAM = data_CREAM_He[:,3] / n\n",
    "error_CREAM_stat_low = data_CREAM_He[:,4] / n\n",
    "error_CREAM_stat_up = data_CREAM_He[:,5] / n\n",
    "error_CREAM_syst = data_CREAM_He[:,6] / n\n",
    "error_CREAM_low = np.sqrt(error_CREAM_stat_low**2 + error_CREAM_syst**2)\n",
    "error_CREAM_up = np.sqrt(error_CREAM_stat_up**2 + error_CREAM_syst**2)\n",
    "\n",
    "# Consider E > 50 GeV\n",
    "index_CREAM = np.where(np.logical_and(E_CREAM>=5e1, E_CREAM<=5e5))\n",
    "E_CREAM = E_CREAM[index_CREAM]; flux_CREAM = flux_CREAM[index_CREAM]; error_CREAM_low = error_CREAM_low[index_CREAM]; error_CREAM_up = error_CREAM_up[index_CREAM]\n",
    "print('CREAM')\n",
    "print('Number of data points:', len(E_CREAM))"
   ]
  },
  {
   "cell_type": "markdown",
   "id": "4f4b9fcf",
   "metadata": {},
   "source": [
    "## ATIC data from Panov et al., Bull. Russian Acad. Sci. 73, 564 (2009)\n",
    "### Data sets colums\n",
    "#### [0] Quantity $\\quad$ [1] $<Etot>$ (GeV) $\\quad$ [2] Bin range $\\quad$ [3] Flux (per Etot bin)  (GeV m2 s sr)-1 $\\quad$ [4] Stat Err $\\quad$ [5] Syst Err "
   ]
  },
  {
   "cell_type": "code",
   "execution_count": 258,
   "id": "7bb6393c",
   "metadata": {},
   "outputs": [
    {
     "name": "stdout",
     "output_type": "stream",
     "text": [
      "ATIC\n",
      "Number of data points: 14\n"
     ]
    }
   ],
   "source": [
    "data_ATIC_He = np.genfromtxt(\"Data/Helium/ATIC_He_data.txt\")\n",
    "E_ATIC = data_ATIC_He[:,1] - (A * m_p)\n",
    "flux_ATIC = data_ATIC_He[:,3] * (E_ATIC / (E_ATIC - (A * m_p))) # Normalize to Ek\n",
    "error_ATIC_stat = data_ATIC_He[:,4] * (E_ATIC / (E_ATIC - (A * m_p))) # Normalize to Ek\n",
    "error_ATIC_syst = data_ATIC_He[:,3]*0.2 * (E_ATIC / (E_ATIC - (A * m_p))) # Estimated systemtaic error of 20%\n",
    "error_ATIC = np.sqrt(error_ATIC_stat**2 + error_ATIC_syst**2)\n",
    "\n",
    "# Consider E > 50 GeV\n",
    "index_ATIC = np.where(np.logical_and(E_ATIC>=5e1, E_ATIC<=1e5))\n",
    "E_ATIC = E_ATIC[index_ATIC]; flux_ATIC = flux_ATIC[index_ATIC]; error_ATIC = error_ATIC[index_ATIC]\n",
    "print('ATIC')\n",
    "print('Number of data points:', len(E_ATIC))"
   ]
  },
  {
   "cell_type": "markdown",
   "id": "905ff1b1",
   "metadata": {},
   "source": [
    "## IceCube data from Aartsen et al., PhRvD 100, 082002 (2019)\n",
    "#### *Using SIBYLL2.1*\n",
    "### Data sets columns:\n",
    "#### [0] Quantity $\\quad$ [1] $<Etot>$ (GeV) $\\quad$ [2] Bin range $\\quad$ [3] Flux (per Etot bin)  (GeV m2 s sr)-1 $\\quad$ [4] Stat Err (-)$\\quad$ [5] Stat Err (+) $\\quad$ [6] Syst Err (-) $\\quad$ [7] Syst Err (+)"
   ]
  },
  {
   "cell_type": "code",
   "execution_count": 259,
   "id": "bf2fdf96",
   "metadata": {},
   "outputs": [
    {
     "name": "stdout",
     "output_type": "stream",
     "text": [
      "IceTop\n",
      "Number of data points: 19\n"
     ]
    }
   ],
   "source": [
    "data_ICECUBE_He = np.genfromtxt(\"Data/Helium/ICECUBE_He_data.txt\")\n",
    "E_ICECUBE = data_ICECUBE_He[:,1]\n",
    "flux_ICECUBE = data_ICECUBE_He[:,3]\n",
    "error_ICECUBE_stat_low = data_ICECUBE_He[:,4]\n",
    "error_ICECUBE_stat_up = data_ICECUBE_He[:,5]\n",
    "error_ICECUBE_syst_low = data_ICECUBE_He[:,6]\n",
    "error_ICECUBE_syst_up = data_ICECUBE_He[:,7]\n",
    "error_ICECUBE_low = np.sqrt(error_ICECUBE_stat_low**2 + error_ICECUBE_syst_low**2)\n",
    "error_ICECUBE_up = np.sqrt(error_ICECUBE_stat_up**2 + error_ICECUBE_syst_up**2)\n",
    "\n",
    "# Consider E > 50 GeV\n",
    "index_ICECUBE = np.where(np.logical_and(E_ICECUBE>=5e1, E_ICECUBE<=1e9))\n",
    "E_ICECUBE = E_ICECUBE[index_ICECUBE]; flux_ICECUBE = flux_ICECUBE[index_ICECUBE]; error_ICECUBE_low = error_ICECUBE_low[index_ICECUBE]; error_ICECUBE_up = error_ICECUBE_up[index_ICECUBE]\n",
    "print('IceTop')\n",
    "print('Number of data points:', len(E_ICECUBE))"
   ]
  },
  {
   "cell_type": "markdown",
   "id": "1357f433",
   "metadata": {},
   "source": [
    "## KASCADE-Grande data from M. Finger (2011) Thesis (DOI:10.5445/IR/1000023830)\n",
    "#### *Using QGSJet-II-2*\n",
    "### Data sets columns:\n",
    "#### [0] $<Etot>$ (GeV) $\\quad$ [1] Flux (per Etot bin)  (GeV m2 s sr)-1 $\\quad$ [2] Stat Err (-) $\\quad$  [3] Stat Err (+) $\\quad$ [4] Syst Err (-) $\\quad$ [5] Syst Err (+)"
   ]
  },
  {
   "cell_type": "code",
   "execution_count": 260,
   "id": "11ca9f20",
   "metadata": {},
   "outputs": [
    {
     "name": "stdout",
     "output_type": "stream",
     "text": [
      "KASCADE\n",
      "Number of data points: 9\n"
     ]
    }
   ],
   "source": [
    "data_KASCADE_He = np.genfromtxt(\"Data/Helium/KASCADE_He_data_QGSJet2.txt\")\n",
    "E_KASCADE = (data_KASCADE_He[:,0] / 1e9)\n",
    "flux_KASCADE = (data_KASCADE_He[:,1] * 1e9) \n",
    "error_KASCADE_low = (data_KASCADE_He[:,2] * 1e9) \n",
    "error_KASCADE_up = (data_KASCADE_He[:,3]* 1e9) \n",
    "\n",
    "# Consider E > 50 GeV\n",
    "index_KASCADE = np.where(np.logical_and(E_KASCADE>=5e1, E_KASCADE<=1e9))\n",
    "E_KASCADE = E_KASCADE[index_KASCADE]; flux_KASCADE = flux_KASCADE[index_KASCADE]\n",
    "error_KASCADE_low = error_KASCADE_low[index_KASCADE]; error_KASCADE_up = error_KASCADE_up[index_KASCADE]\n",
    "index_KASCADE_chi = np.where(np.logical_and(error_KASCADE_low!=0, error_KASCADE_low!=0))\n",
    "E_KASCADE = E_KASCADE[index_KASCADE_chi]; flux_KASCADE = flux_KASCADE[index_KASCADE_chi]\n",
    "error_KASCADE_low = error_KASCADE_low[index_KASCADE_chi]; error_KASCADE_up = error_KASCADE_up[index_KASCADE_chi]\n",
    "print('KASCADE')\n",
    "print('Number of data points:', len(E_KASCADE))"
   ]
  },
  {
   "cell_type": "markdown",
   "id": "890aeb64",
   "metadata": {},
   "source": [
    "## MODEL A: Four spectral breaks"
   ]
  },
  {
   "cell_type": "code",
   "execution_count": 261,
   "id": "b2c62867",
   "metadata": {},
   "outputs": [],
   "source": [
    "# MODEL A\n",
    "def Phi_A(E, K, E0, alpha1, alpha2, alpha3, alpha4, alpha5, omega1, omega2, omega3, omega4, Eb1, Eb2, Eb3, Eb4):\n",
    "    delta1 = alpha2 - alpha1\n",
    "    delta2 = alpha3 - alpha2\n",
    "    delta3 = alpha4 - alpha3\n",
    "    delta4 = alpha5 - alpha4\n",
    "    return K * (E / E0)**(-alpha3) * (1 + ((E/1e3) / Eb1)**(1 / omega1))**(-delta1 * omega1) * (1 + ((E/1e3) / Eb2)**(1 / omega2))**(-delta2 * omega2) * (1 + ((E/1e6) / Eb3)**(1 / omega3))**(-delta3 * omega3) * (1 + ((E/1e6) / Eb4)**(1 / omega4))**(-delta4 * omega4)"
   ]
  },
  {
   "cell_type": "code",
   "execution_count": 262,
   "id": "080ec0fe",
   "metadata": {},
   "outputs": [],
   "source": [
    "# Joint chi^2\n",
    "def Chi_A(parameters):\n",
    "    K, alpha1, alpha2, alpha3, alpha4, alpha5, omega1, omega2, omega3, omega4, Eb1, Eb2, Eb3, Eb4 = parameters\n",
    "    \n",
    "    E = np.append( np.append( np.append( np.append( np.append( np.append( np.append(E_PAMELA, E_AMS02), E_ATIC ), E_CREAM), E_CALET), E_DAMPE), E_ICECUBE), E_KASCADE)\n",
    "    Flux = np.append( np.append( np.append( np.append( np.append( np.append( np.append(flux_PAMELA, flux_AMS02), flux_ATIC ), flux_CREAM), flux_CALET), flux_DAMPE), flux_ICECUBE), flux_KASCADE)\n",
    "    Sigma = np.append( np.append( np.append( np.append( np.append( np.append( np.append(2*error_PAMELA, 2*error_AMS02), 2*error_ATIC ), error_CREAM_low+error_CREAM_up), error_CALET_low+error_CALET_up), 2*error_DAMPE), error_ICECUBE_low+error_ICECUBE_up), error_KASCADE_low + error_KASCADE_up)\n",
    "    \n",
    "    E0 = 0.1 * 1e3 #GeV\n",
    "    \n",
    "    Phi_model = Phi_A(E, K, E0, alpha1, alpha2, alpha3, alpha4, alpha5, omega1, omega2, omega3, omega4, Eb1, Eb2, Eb3, Eb4)\n",
    "    \n",
    "    return sum( (Phi_model - Flux)**2 / Sigma**2 ) "
   ]
  },
  {
   "cell_type": "code",
   "execution_count": 263,
   "id": "6352c834",
   "metadata": {},
   "outputs": [
    {
     "name": "stdout",
     "output_type": "stream",
     "text": [
      "Success: True\n"
     ]
    },
    {
     "name": "stderr",
     "output_type": "stream",
     "text": [
      "/var/folders/j4/1fvnmc755y74k9kgn5w7_s400000gn/T/ipykernel_75573/4020406368.py:13: RuntimeWarning: overflow encountered in square\n",
      "  return sum( (Phi_model - Flux)**2 / Sigma**2 )\n",
      "/var/folders/j4/1fvnmc755y74k9kgn5w7_s400000gn/T/ipykernel_75573/4020406368.py:13: RuntimeWarning: overflow encountered in divide\n",
      "  return sum( (Phi_model - Flux)**2 / Sigma**2 )\n"
     ]
    }
   ],
   "source": [
    "# Initial guesses\n",
    "K_bestfit = 3 * 10**(-2) #(GeV m2 s sr)-1\n",
    "alpha1_bestfit = 2.805\n",
    "alpha2_bestfit = 2.56\n",
    "alpha3_bestfit = 2.874\n",
    "alpha4_bestfit = 2.7\n",
    "alpha5_bestfit = 3.1\n",
    "omega1_bestfit = 0.28\n",
    "omega2_bestfit = 0.163\n",
    "omega3_bestfit = 0.1\n",
    "omega4_bestfit = 0.1\n",
    "Eb1_bestfit = 2 * 0.670 #TeV\n",
    "Eb2_bestfit = 2 * 16 #TeV\n",
    "Eb3_bestfit = 2 * 0.2  #PeV\n",
    "Eb4_bestfit = 2 * 3 #PeV\n",
    "\n",
    "# Minimization of chi^2\n",
    "output = minimize(Chi_A, (K_bestfit, alpha1_bestfit, alpha2_bestfit, alpha3_bestfit, alpha4_bestfit, alpha5_bestfit, omega1_bestfit, omega2_bestfit, omega3_bestfit, omega4_bestfit, Eb1_bestfit, Eb2_bestfit, Eb3_bestfit, Eb4_bestfit), method='L-BFGS-B')\n",
    "best_fit_values = output['x']\n",
    "print('Success:', output['success'])"
   ]
  },
  {
   "cell_type": "code",
   "execution_count": 264,
   "id": "6cfa238a",
   "metadata": {},
   "outputs": [
    {
     "name": "stdout",
     "output_type": "stream",
     "text": [
      "MY BEST FIT VALUES (Model with 4 breaks):\n",
      "K: 0.031046\n",
      "alpha_1: 2.619\n",
      "alpha_2: 2.422\n",
      "alpha_3: 2.69\n",
      "alpha_4: 2.586\n",
      "alpha_5: 3.713\n",
      "omega1: 0.037\n",
      "omega2: 0.141\n",
      "omega3: 0.1\n",
      "omega4: 0.094\n",
      "E1: 1.467 TeV\n",
      "E2: 32.002 TeV\n",
      "E3: 0.435 PeV\n",
      "E4: 6.001 PeV\n",
      "\n",
      "chi^2_min: 26.9026951\n",
      "N_dof: 153\n",
      "Reduced chi^2_min: 0.1758346\n"
     ]
    }
   ],
   "source": [
    "# Best fit values\n",
    "\n",
    "print('MY BEST FIT VALUES (Model with 4 breaks):')\n",
    "# Normalization\n",
    "print('K:', round(best_fit_values[0],7)); \n",
    "# Spectral indices\n",
    "print('alpha_1:', round(best_fit_values[1],3)); print('alpha_2:', round(best_fit_values[2],3));\n",
    "print('alpha_3:', round(best_fit_values[3],3)); print('alpha_4:', round(best_fit_values[4],3));\n",
    "print('alpha_5:', round(best_fit_values[5],3))\n",
    "# Widths\n",
    "print('omega1:', round(best_fit_values[6],3)); print('omega2:', round(best_fit_values[7],3));\n",
    "print('omega3:', round(best_fit_values[8],3)); print('omega4:', round(best_fit_values[9],3)); \n",
    "# Energies\n",
    "print('E1:', round(best_fit_values[10],3), 'TeV'); print('E2:', round(best_fit_values[11],3), 'TeV')\n",
    "print('E3:', round(best_fit_values[12],3), 'PeV'); print('E4:', round(best_fit_values[13],3), 'PeV')\n",
    "\n",
    "print('')\n",
    "\n",
    "# Chi^2 and N_dof\n",
    "min_chi = Chi_A(best_fit_values)\n",
    "n_dof = len(E_PAMELA) + len(E_AMS02) + len(E_ATIC) + len(E_CREAM) + len(E_CALET) + len(E_DAMPE) + len(E_ICECUBE)\n",
    "print('chi^2_min:', round(min_chi,7))\n",
    "print('N_dof:', n_dof)\n",
    "print('Reduced chi^2_min:', round(min_chi / n_dof, 7))\n",
    "\n",
    "# Phi function \n",
    "logE = np.arange(0,9,0.1)\n",
    "E = 10**logE\n",
    "Phi_model_A = Phi_A(E, best_fit_values[0], 0.1 * 1e3, best_fit_values[1], best_fit_values[2], best_fit_values[3], best_fit_values[4], best_fit_values[5], best_fit_values[6], best_fit_values[7], best_fit_values[8], best_fit_values[9], best_fit_values[10], best_fit_values[11], best_fit_values[12], best_fit_values[13])"
   ]
  },
  {
   "cell_type": "code",
   "execution_count": 265,
   "id": "e11929d4",
   "metadata": {},
   "outputs": [
    {
     "name": "stderr",
     "output_type": "stream",
     "text": [
      "/var/folders/j4/1fvnmc755y74k9kgn5w7_s400000gn/T/ipykernel_75573/4020406368.py:13: RuntimeWarning: overflow encountered in square\n",
      "  return sum( (Phi_model - Flux)**2 / Sigma**2 )\n",
      "/var/folders/j4/1fvnmc755y74k9kgn5w7_s400000gn/T/ipykernel_75573/4020406368.py:13: RuntimeWarning: overflow encountered in divide\n",
      "  return sum( (Phi_model - Flux)**2 / Sigma**2 )\n"
     ]
    },
    {
     "name": "stdout",
     "output_type": "stream",
     "text": [
      "K\n",
      "Lower error: 0.0006288249102095675\n",
      "Upper error: 0.0005830815979877071\n",
      "alpha1\n",
      "Lower error: 0.05238917381630692\n",
      "Upper error: 1.2702966685888257\n",
      "alpha2\n",
      "Lower error: 0.06091767792280134\n",
      "Upper error: 0.15405842993983798\n",
      "alpha3\n",
      "Lower error: 0.05372880364574062\n",
      "Upper error: 1.0515027502044916e-05\n",
      "alpha4\n",
      "Lower error: 0.18779804053310745\n",
      "Upper error: 0.6311571276157495\n",
      "alpha5\n",
      "Lower error: 0.4064698120994561\n",
      "Upper error: 1.3525122957892823\n"
     ]
    }
   ],
   "source": [
    "def Errors_A_1(n):\n",
    "    \n",
    "    K_bestfit = 3 * 10**(-2) #(GeV m2 s sr)-1\n",
    "    alpha1_bestfit = 2.805\n",
    "    alpha2_bestfit = 2.56\n",
    "    alpha3_bestfit = 2.874\n",
    "    alpha4_bestfit = 2.7\n",
    "    alpha5_bestfit = 3.1\n",
    "    omega1_bestfit = 0.28\n",
    "    omega2_bestfit = 0.163\n",
    "    omega3_bestfit = 0.1\n",
    "    omega4_bestfit = 0.1\n",
    "    Eb1_bestfit = 2 * 0.670 #TeV\n",
    "    Eb2_bestfit = 2 * 16 #TeV\n",
    "    Eb3_bestfit = 2 * 0.2  #PeV\n",
    "    Eb4_bestfit = 2 * 3 #PeV\n",
    "\n",
    "    output = minimize(Chi_A, (K_bestfit, alpha1_bestfit, alpha2_bestfit, alpha3_bestfit, alpha4_bestfit, alpha5_bestfit, omega1_bestfit, omega2_bestfit, omega3_bestfit, omega4_bestfit, Eb1_bestfit, Eb2_bestfit, Eb3_bestfit, Eb4_bestfit), method='L-BFGS-B')\n",
    "    best_fit_values = output['x']\n",
    "    \n",
    "    scan = np.zeros(50)\n",
    "    fit = best_fit_values[n]\n",
    "    for i in range(0, 25):\n",
    "        scan[i] = fit - (fit / 50)*i\n",
    "    for j in range(25, 50):\n",
    "        scan[j] = fit + (fit / 50)*j\n",
    "    scan = np.sort(scan)\n",
    "    \n",
    "    true_best_fit = Chi_A(best_fit_values)\n",
    "    chi_sqrd = np.zeros(50)\n",
    "    for k in range(0, 50):\n",
    "        best_fit_values[n] = scan[k]\n",
    "        scan_chi = Chi_A(best_fit_values)\n",
    "        chi_sqrd[k] = np.abs(true_best_fit - scan_chi)\n",
    "    return scan, fit, chi_sqrd\n",
    "\n",
    "# Find value for which chi^2 is equal to one\n",
    "yToFind = 15.9408\n",
    "\n",
    "# Error of normilization\n",
    "scan, fit, chi_sqrd = Errors_A_1(0)\n",
    "yreduced = np.array(chi_sqrd) - yToFind\n",
    "freduced = interpolate.UnivariateSpline(scan, yreduced, s=0)\n",
    "scan_interval = freduced.roots()\n",
    "print('K'); print('Lower error:', fit - scan_interval[0]); print('Upper error:', scan_interval[1] - fit)\n",
    "\n",
    "# Error of first index\n",
    "scan, fit, chi_sqrd = Errors_A_1(1)\n",
    "yreduced = np.array(chi_sqrd) - yToFind\n",
    "freduced = interpolate.UnivariateSpline(scan, yreduced, s=0)\n",
    "scan_interval = freduced.roots()\n",
    "print('alpha1'); print('Lower error:', fit - scan_interval[13]); print('Upper error:', scan_interval[15] - fit)\n",
    "\n",
    "# Error of second index\n",
    "scan, fit, chi_sqrd = Errors_A_1(2)\n",
    "yreduced = np.array(chi_sqrd) - yToFind\n",
    "freduced = interpolate.UnivariateSpline(scan, yreduced, s=0)\n",
    "scan_interval = freduced.roots()\n",
    "print('alpha2'); print('Lower error:', fit - scan_interval[0]); print('Upper error:', scan_interval[1] - fit)\n",
    "\n",
    "# Error of third index\n",
    "scan, fit, chi_sqrd = Errors_A_1(3)\n",
    "yreduced = np.array(chi_sqrd) - yToFind\n",
    "freduced = interpolate.UnivariateSpline(scan, yreduced, s=0)\n",
    "scan_interval = freduced.roots()\n",
    "print('alpha3'); print('Lower error:', fit - scan_interval[18]); print('Upper error:', scan_interval[19] - fit)\n",
    "\n",
    "#print(scan_interval)\n",
    "\n",
    "# Error of fourth index\n",
    "scan, fit, chi_sqrd = Errors_A_1(4)\n",
    "yreduced = np.array(chi_sqrd) - yToFind\n",
    "freduced = interpolate.UnivariateSpline(scan, yreduced, s=0)\n",
    "scan_interval = freduced.roots()\n",
    "print('alpha4'); print('Lower error:', fit - scan_interval[0]); print('Upper error:', scan_interval[1] - fit)\n",
    "\n",
    "# Error of fifth index\n",
    "scan, fit, chi_sqrd = Errors_A_1(5)\n",
    "yreduced = np.array(chi_sqrd) - yToFind\n",
    "freduced = interpolate.UnivariateSpline(scan, yreduced, s=0)\n",
    "scan_interval = freduced.roots()\n",
    "print('alpha5'); print('Lower error:', fit - scan_interval[0]); print('Upper error:', scan_interval[1] - fit)"
   ]
  },
  {
   "cell_type": "code",
   "execution_count": 266,
   "id": "520f5b9f",
   "metadata": {},
   "outputs": [
    {
     "name": "stdout",
     "output_type": "stream",
     "text": [
      "omega1\n",
      "Upper error: 0.6144693296150843\n",
      "omega2\n",
      "Upper error: 1.2057613910063285\n"
     ]
    },
    {
     "name": "stderr",
     "output_type": "stream",
     "text": [
      "/var/folders/j4/1fvnmc755y74k9kgn5w7_s400000gn/T/ipykernel_75573/4020406368.py:13: RuntimeWarning: overflow encountered in square\n",
      "  return sum( (Phi_model - Flux)**2 / Sigma**2 )\n",
      "/var/folders/j4/1fvnmc755y74k9kgn5w7_s400000gn/T/ipykernel_75573/4020406368.py:13: RuntimeWarning: overflow encountered in divide\n",
      "  return sum( (Phi_model - Flux)**2 / Sigma**2 )\n"
     ]
    },
    {
     "name": "stdout",
     "output_type": "stream",
     "text": [
      "omega3\n",
      "Upper error: 2.5645938117024274\n",
      "omega4\n",
      "Upper error: 1.5337974608768288\n"
     ]
    }
   ],
   "source": [
    "def Errors_A_2(n):\n",
    "    \n",
    "    K_bestfit = 3 * 10**(-2) #(GeV m2 s sr)-1\n",
    "    alpha1_bestfit = 2.805\n",
    "    alpha2_bestfit = 2.56\n",
    "    alpha3_bestfit = 2.874\n",
    "    alpha4_bestfit = 2.7\n",
    "    alpha5_bestfit = 3.1\n",
    "    omega1_bestfit = 0.28\n",
    "    omega2_bestfit = 0.163\n",
    "    omega3_bestfit = 0.1\n",
    "    omega4_bestfit = 0.1\n",
    "    Eb1_bestfit = 2 * 0.670 #TeV\n",
    "    Eb2_bestfit = 2 * 16 #TeV\n",
    "    Eb3_bestfit = 2 * 0.2  #PeV\n",
    "    Eb4_bestfit = 2 * 3 #PeV\n",
    "\n",
    "    output = minimize(Chi_A, (K_bestfit, alpha1_bestfit, alpha2_bestfit, alpha3_bestfit, alpha4_bestfit, alpha5_bestfit, omega1_bestfit, omega2_bestfit, omega3_bestfit, omega4_bestfit, Eb1_bestfit, Eb2_bestfit, Eb3_bestfit, Eb4_bestfit), method='L-BFGS-B')\n",
    "    best_fit_values = output['x']\n",
    "    \n",
    "    scan = np.zeros(500)\n",
    "    fit = best_fit_values[n]\n",
    "    for i in range(0, 25):\n",
    "        scan[i] = fit - (fit / 100)*i\n",
    "    for j in range(25, 500):\n",
    "        scan[j] = fit + (fit / 10)*j\n",
    "    scan = np.sort(scan)\n",
    "    \n",
    "    true_best_fit = Chi_A(best_fit_values)\n",
    "    chi_sqrd = np.zeros(500)\n",
    "    for k in range(0, 500):\n",
    "        best_fit_values[n] = scan[k]\n",
    "        scan_chi = Chi_A(best_fit_values)\n",
    "        chi_sqrd[k] = np.abs(true_best_fit - scan_chi)\n",
    "    return scan, fit, chi_sqrd\n",
    "\n",
    "# Find value for which chi^2 is equal to one\n",
    "yToFind = 15.9408\n",
    "\n",
    "# Error of second width\n",
    "scan, fit, chi_sqrd = Errors_A_2(6)\n",
    "yreduced = np.array(chi_sqrd) - yToFind\n",
    "freduced = interpolate.UnivariateSpline(scan, yreduced, s=0)\n",
    "scan_interval = freduced.roots()\n",
    "print('omega1'); #print('Lower error:', fit - scan_interval[0]); \n",
    "print('Upper error:', scan_interval[0] - fit)\n",
    "\n",
    "# Error of third width\n",
    "scan, fit, chi_sqrd = Errors_A_2(7)\n",
    "yreduced = np.array(chi_sqrd) - yToFind\n",
    "freduced = interpolate.UnivariateSpline(scan, yreduced, s=0)\n",
    "scan_interval = freduced.roots()\n",
    "print('omega2'); #print('Lower error:', fit - scan_interval[0]); \n",
    "print('Upper error:', scan_interval[0] - fit)\n",
    "\n",
    "# Error of fourth width\n",
    "scan, fit, chi_sqrd = Errors_A_2(8)\n",
    "yreduced = np.array(chi_sqrd) - yToFind\n",
    "freduced = interpolate.UnivariateSpline(scan, yreduced, s=0)\n",
    "scan_interval = freduced.roots()\n",
    "print('omega3'); #print('Lower error:', fit - scan_interval[0]); \n",
    "print('Upper error:', scan_interval[0] - fit)\n",
    "\n",
    "# Error of fourth width\n",
    "scan, fit, chi_sqrd = Errors_A_2(9)\n",
    "yreduced = np.array(chi_sqrd) - yToFind\n",
    "freduced = interpolate.UnivariateSpline(scan, yreduced, s=0)\n",
    "scan_interval = freduced.roots()\n",
    "print('omega4'); #print('Lower error:', fit - scan_interval[0]); \n",
    "print('Upper error:', scan_interval[0] - fit)\n",
    "\n",
    "#print(scan_interval)\n",
    "\n",
    "# Check chi^2 - chi^2_min distribution\n",
    "#plt.plot(scan, scan_chi_all)\n",
    "#plt.plot(scan, chi_sqrd)\n",
    "#plt.ylim(0,yToFind)\n",
    "#plt.axvline(x = fit, color='black')\n",
    "#plt.axvline(x = scan_interval[0], linestyle='--', color='black')"
   ]
  },
  {
   "cell_type": "code",
   "execution_count": 275,
   "id": "57f3c807",
   "metadata": {},
   "outputs": [
    {
     "name": "stderr",
     "output_type": "stream",
     "text": [
      "/var/folders/j4/1fvnmc755y74k9kgn5w7_s400000gn/T/ipykernel_75573/4020406368.py:13: RuntimeWarning: overflow encountered in square\n",
      "  return sum( (Phi_model - Flux)**2 / Sigma**2 )\n",
      "/var/folders/j4/1fvnmc755y74k9kgn5w7_s400000gn/T/ipykernel_75573/4020406368.py:13: RuntimeWarning: overflow encountered in divide\n",
      "  return sum( (Phi_model - Flux)**2 / Sigma**2 )\n"
     ]
    },
    {
     "name": "stdout",
     "output_type": "stream",
     "text": [
      "E1\n",
      "Lower error: 0.5542734342452291\n",
      "Upper error: 4.8158379535104014\n",
      "E2\n",
      "Lower error: 22.252278689220113\n",
      "Upper error: 175.7416458795634\n",
      "E3\n",
      "Lower error: 0.42595532564651045\n",
      "E4\n",
      "Lower error: 3.5656436083001286\n",
      "Upper error: 8.025935191523704\n"
     ]
    },
    {
     "data": {
      "image/png": "[encoded data removed]",
      "text/plain": [
       "<Figure size 640x480 with 1 Axes>"
      ]
     },
     "metadata": {},
     "output_type": "display_data"
    }
   ],
   "source": [
    "def Errors_A_3(n):\n",
    "    \n",
    "    K_bestfit = 3 * 10**(-2) #(GeV m2 s sr)-1\n",
    "    alpha1_bestfit = 2.805\n",
    "    alpha2_bestfit = 2.56\n",
    "    alpha3_bestfit = 2.874\n",
    "    alpha4_bestfit = 2.7\n",
    "    alpha5_bestfit = 3.1\n",
    "    omega1_bestfit = 0.28\n",
    "    omega2_bestfit = 0.163\n",
    "    omega3_bestfit = 0.1\n",
    "    omega4_bestfit = 0.1\n",
    "    Eb1_bestfit = 2 * 0.670 #TeV\n",
    "    Eb2_bestfit = 2 * 16 #TeV\n",
    "    Eb3_bestfit = 2 * 0.2  #PeV\n",
    "    Eb4_bestfit = 2 * 3 #PeV\n",
    "\n",
    "    output = minimize(Chi_A, (K_bestfit, alpha1_bestfit, alpha2_bestfit, alpha3_bestfit, alpha4_bestfit, alpha5_bestfit, omega1_bestfit, omega2_bestfit, omega3_bestfit, omega4_bestfit, Eb1_bestfit, Eb2_bestfit, Eb3_bestfit, Eb4_bestfit), method='L-BFGS-B')\n",
    "    best_fit_values = output['x']\n",
    "    \n",
    "    scan = np.zeros(1000)\n",
    "    fit = best_fit_values[n]\n",
    "    for i in range(0, 100):\n",
    "        scan[i] = fit - (fit / 100)*i\n",
    "    for j in range(100, 1000):\n",
    "        scan[j] = fit + (fit / 10)*j\n",
    "    scan = np.sort(scan)\n",
    "    \n",
    "    true_best_fit = Chi_A(best_fit_values)\n",
    "    chi_sqrd = np.zeros(1000)\n",
    "    for k in range(0, 1000):\n",
    "        best_fit_values[n] = scan[k]\n",
    "        scan_chi = Chi_A(best_fit_values)\n",
    "        chi_sqrd[k] = np.abs(true_best_fit - scan_chi)\n",
    "    return scan, fit, chi_sqrd\n",
    "\n",
    "# Find value for which chi^2 is equal to one\n",
    "yToFind = 15.9408\n",
    "\n",
    "# Error of first energy\n",
    "scan, fit, chi_sqrd = Errors_A_3(10)\n",
    "yreduced = np.array(chi_sqrd) - yToFind\n",
    "freduced = interpolate.UnivariateSpline(scan, yreduced, s=0)\n",
    "scan_interval = freduced.roots()\n",
    "print('E1'); print('Lower error:', fit - scan_interval[0]); print('Upper error:', scan_interval[1] - fit)\n",
    "\n",
    "# Error of second energy\n",
    "scan, fit, chi_sqrd = Errors_A_3(11)\n",
    "yreduced = np.array(chi_sqrd) - yToFind\n",
    "freduced = interpolate.UnivariateSpline(scan, yreduced, s=0)\n",
    "scan_interval = freduced.roots()\n",
    "print('E2'); print('Lower error:', fit - scan_interval[0]); print('Upper error:', scan_interval[1] - fit)\n",
    "\n",
    "# Error of third energy\n",
    "scan, fit, chi_sqrd = Errors_A_3(12)\n",
    "yreduced = np.array(chi_sqrd) - yToFind\n",
    "freduced = interpolate.UnivariateSpline(scan, yreduced, s=0)\n",
    "scan_interval = freduced.roots()\n",
    "print('E3'); print('Lower error:', fit - scan_interval[0]); #print('Upper error:', scan_interval[1] - fit)\n",
    "\n",
    "#print(scan_interval)\n",
    "\n",
    "# Check chi^2 - chi^2_min distribution\n",
    "#plt.plot(scan, scan_chi_all)\n",
    "plt.plot(scan, chi_sqrd)\n",
    "#plt.ylim(0,yToFind)\n",
    "#plt.axvline(x = fit, color='black')\n",
    "#plt.axvline(x = scan_interval[0], linestyle='--', color='black')\n",
    "\n",
    "# Error of foruth energy\n",
    "scan, fit, chi_sqrd = Errors_A_3(13)\n",
    "yreduced = np.array(chi_sqrd) - yToFind\n",
    "freduced = interpolate.UnivariateSpline(scan, yreduced, s=0)\n",
    "scan_interval = freduced.roots()\n",
    "print('E4'); print('Lower error:', fit - scan_interval[0]); print('Upper error:', scan_interval[1] - fit)"
   ]
  },
  {
   "cell_type": "markdown",
   "id": "41b8a5ef",
   "metadata": {},
   "source": [
    "## MODEL B: Three spectral breaks"
   ]
  },
  {
   "cell_type": "code",
   "execution_count": 286,
   "id": "c6312c7b",
   "metadata": {},
   "outputs": [],
   "source": [
    "# MODEL B\n",
    "def Phi_B(E, K, E0, alpha1, alpha2, alpha3, alpha4, omega1, omega2, omega3, Eb1, Eb2, Eb3):\n",
    "    delta1 = alpha2 - alpha1\n",
    "    delta2 = alpha3 - alpha2\n",
    "    delta3 = alpha4 - alpha3\n",
    "    return K * (E / E0)**(-alpha3) * (1 + ((E/1e3) / Eb1)**(1 / omega1))**(-delta1 * omega1) * (1 + ((E/1e3) / Eb2)**(1 / omega2))**(-delta2 * omega2) * (1 + ((E/1e6) / Eb3)**(1 / omega3))**(-delta3 * omega3) "
   ]
  },
  {
   "cell_type": "code",
   "execution_count": 287,
   "id": "a9272902",
   "metadata": {},
   "outputs": [],
   "source": [
    "# Joint chi^2\n",
    "def Chi_B(parameters):\n",
    "    K, alpha1, alpha2, alpha3, alpha4, omega1, omega2, omega3, Eb1, Eb2, Eb3 = parameters\n",
    "    \n",
    "    E = np.append( np.append( np.append( np.append( np.append( np.append( np.append(E_PAMELA, E_AMS02), E_ATIC ), E_CREAM), E_CALET), E_DAMPE), E_ICECUBE), E_KASCADE)\n",
    "    Flux = np.append( np.append( np.append( np.append( np.append( np.append( np.append(flux_PAMELA, flux_AMS02), flux_ATIC ), flux_CREAM), flux_CALET), flux_DAMPE), flux_ICECUBE), flux_KASCADE)\n",
    "    Sigma = np.append( np.append( np.append( np.append( np.append( np.append( np.append(2*error_PAMELA, 2*error_AMS02), 2*error_ATIC ), error_CREAM_low+error_CREAM_up), error_CALET_low+error_CALET_up), 2*error_DAMPE), error_ICECUBE_low+error_ICECUBE_up), error_KASCADE_low + error_KASCADE_up)\n",
    "    \n",
    "    E0 = 0.1 * 1e3 #GeV\n",
    "    \n",
    "    Phi_model = Phi_B(E, K, E0, alpha1, alpha2, alpha3, alpha4, omega1, omega2, omega3, Eb1, Eb2, Eb3)\n",
    "    \n",
    "    return sum( (Phi_model - Flux)**2 / Sigma**2 ) "
   ]
  },
  {
   "cell_type": "code",
   "execution_count": 288,
   "id": "20bc07f9",
   "metadata": {},
   "outputs": [
    {
     "name": "stdout",
     "output_type": "stream",
     "text": [
      "Success: True\n"
     ]
    },
    {
     "name": "stderr",
     "output_type": "stream",
     "text": [
      "/var/folders/j4/1fvnmc755y74k9kgn5w7_s400000gn/T/ipykernel_75573/3169196810.py:6: RuntimeWarning: overflow encountered in power\n",
      "  return K * (E / E0)**(-alpha3) * (1 + ((E/1e3) / Eb1)**(1 / omega1))**(-delta1 * omega1) * (1 + ((E/1e3) / Eb2)**(1 / omega2))**(-delta2 * omega2) * (1 + ((E/1e6) / Eb3)**(1 / omega3))**(-delta3 * omega3)\n"
     ]
    }
   ],
   "source": [
    "# Initial guesses\n",
    "K_bestfit = 3 * 10**(-2) #(GeV m2 s sr)-1\n",
    "alpha1_bestfit = 2.805\n",
    "alpha2_bestfit = 2.56\n",
    "alpha3_bestfit = 2.874\n",
    "alpha4_bestfit = 2.7\n",
    "omega1_bestfit = 0.28\n",
    "omega2_bestfit = 0.163\n",
    "omega3_bestfit = 0.1\n",
    "Eb1_bestfit = 2 * 0.670   #GeV\n",
    "Eb2_bestfit = 2 * 16 #GeV\n",
    "Eb3_bestfit = 2 * 3  #TeV\n",
    "\n",
    "# Minimization of chi^2\n",
    "output = minimize(Chi_B, (K_bestfit, alpha1_bestfit, alpha2_bestfit, alpha3_bestfit, alpha4_bestfit, omega1_bestfit, omega2_bestfit, omega3_bestfit, Eb1_bestfit, Eb2_bestfit, Eb3_bestfit), method='L-BFGS-B')\n",
    "best_fit_values = output['x']\n",
    "print('Success:', output['success'])"
   ]
  },
  {
   "cell_type": "code",
   "execution_count": 289,
   "id": "68fcecf4",
   "metadata": {},
   "outputs": [
    {
     "name": "stdout",
     "output_type": "stream",
     "text": [
      "MY BEST FIT VALUES (Model with 3 breaks):\n",
      "K: 0.0308735\n",
      "alpha_1: 2.631\n",
      "alpha_2: 2.447\n",
      "alpha_3: 2.686\n",
      "alpha_4: 3.503\n",
      "omega1: 0.019\n",
      "omega2: 0.139\n",
      "omega3: 0.095\n",
      "E1: 1.518 PeV\n",
      "E2: 32.005 PeV\n",
      "E3: 6.004 PeV\n",
      "\n",
      "chi^2_min: 29.2301906\n",
      "N_dof: 153\n",
      "Reduced chi^2_min: 0.191047\n"
     ]
    }
   ],
   "source": [
    "# Best fit values\n",
    "\n",
    "print('MY BEST FIT VALUES (Model with 3 breaks):')\n",
    "# Normalization\n",
    "print('K:', round(best_fit_values[0],7)); \n",
    "# Spectral indices\n",
    "print('alpha_1:', round(best_fit_values[1],3)); print('alpha_2:', round(best_fit_values[2],3));\n",
    "print('alpha_3:', round(best_fit_values[3],3)); print('alpha_4:', round(best_fit_values[4],3));\n",
    "# Widths\n",
    "print('omega1:', round(best_fit_values[5],3)); print('omega2:', round(best_fit_values[6],3));\n",
    "print('omega3:', round(best_fit_values[7],3))\n",
    "# Energies\n",
    "print('E1:', round(best_fit_values[8],3), 'PeV'); print('E2:', round(best_fit_values[9],3), 'PeV')\n",
    "print('E3:', round(best_fit_values[10],3), 'PeV')\n",
    "\n",
    "print('')\n",
    "\n",
    "# Chi^2 and N_dof\n",
    "min_chi = Chi_B(best_fit_values)\n",
    "n_dof = len(E_PAMELA) + len(E_AMS02) + len(E_ATIC) + len(E_CREAM) + len(E_CALET) + len(E_DAMPE) + len(E_ICECUBE)\n",
    "print('chi^2_min:', round(min_chi,7))\n",
    "print('N_dof:', n_dof)\n",
    "print('Reduced chi^2_min:', round(min_chi / n_dof, 7))\n",
    "\n",
    "# Phi function \n",
    "logE = np.arange(0,9,0.1)\n",
    "E = 10**logE\n",
    "Phi_model_B = Phi_B(E, best_fit_values[0], 0.1 * 1e3, best_fit_values[1], best_fit_values[2], best_fit_values[3], best_fit_values[4], best_fit_values[5], best_fit_values[6], best_fit_values[7], best_fit_values[8], best_fit_values[9], best_fit_values[10])"
   ]
  },
  {
   "cell_type": "code",
   "execution_count": 326,
   "id": "dfa64138",
   "metadata": {},
   "outputs": [
    {
     "name": "stderr",
     "output_type": "stream",
     "text": [
      "/var/folders/j4/1fvnmc755y74k9kgn5w7_s400000gn/T/ipykernel_75573/3169196810.py:6: RuntimeWarning: overflow encountered in power\n",
      "  return K * (E / E0)**(-alpha3) * (1 + ((E/1e3) / Eb1)**(1 / omega1))**(-delta1 * omega1) * (1 + ((E/1e3) / Eb2)**(1 / omega2))**(-delta2 * omega2) * (1 + ((E/1e6) / Eb3)**(1 / omega3))**(-delta3 * omega3)\n"
     ]
    },
    {
     "name": "stdout",
     "output_type": "stream",
     "text": [
      "K\n",
      "Lower error: 0.0004559605247889398\n",
      "Upper error: 0.0006355721497416159\n",
      "alpha1\n",
      "Lower error: 0.05262776746677211\n",
      "Upper error: 1.2762171478843833\n",
      "alpha2\n",
      "Lower error: 0.0613983325004166\n",
      "Upper error: 0.12403864952143007\n",
      "alpha3\n",
      "Lower error: 0.05372057994659185\n",
      "Upper error: 1.3431888594789427\n",
      "alpha5\n",
      "Lower error: 0.26840757087003553\n",
      "Upper error: 1.2655207531855197\n"
     ]
    }
   ],
   "source": [
    "def Errors_B_1(n):\n",
    "    \n",
    "    K_bestfit = 3 * 10**(-2) #(GeV m2 s sr)-1\n",
    "    alpha1_bestfit = 2.805\n",
    "    alpha2_bestfit = 2.56\n",
    "    alpha3_bestfit = 2.874\n",
    "    alpha4_bestfit = 2.7\n",
    "    omega1_bestfit = 0.28\n",
    "    omega2_bestfit = 0.163\n",
    "    omega3_bestfit = 0.1\n",
    "    Eb1_bestfit = 2 * 0.670   #TeV\n",
    "    Eb2_bestfit = 2 * 16 #TeV\n",
    "    Eb3_bestfit = 2 * 3  #PeV\n",
    "\n",
    "    output = minimize(Chi_B, (K_bestfit, alpha1_bestfit, alpha2_bestfit, alpha3_bestfit, alpha4_bestfit, omega1_bestfit, omega2_bestfit, omega3_bestfit, Eb1_bestfit, Eb2_bestfit, Eb3_bestfit), method='L-BFGS-B')\n",
    "    best_fit_values = output['x']\n",
    "    \n",
    "    scan = np.zeros(50)\n",
    "    fit = best_fit_values[n]\n",
    "    for i in range(0, 25):\n",
    "        scan[i] = fit - (fit / 50)*i\n",
    "    for j in range(25, 50):\n",
    "        scan[j] = fit + (fit / 50)*j\n",
    "    scan = np.sort(scan)\n",
    "    \n",
    "    true_best_fit = Chi_B(best_fit_values)\n",
    "    chi_sqrd = np.zeros(50)\n",
    "    for k in range(0, 50):\n",
    "        best_fit_values[n] = scan[k]\n",
    "        scan_chi = Chi_B(best_fit_values)\n",
    "        chi_sqrd[k] = np.abs(true_best_fit - scan_chi)\n",
    "    return scan, fit, chi_sqrd\n",
    "\n",
    "# Find value for which chi^2 is equal to one\n",
    "yToFind = 12.6473\n",
    "\n",
    "# Error of normilization\n",
    "scan, fit, chi_sqrd = Errors_B_1(0)\n",
    "yreduced = np.array(chi_sqrd) - yToFind\n",
    "freduced = interpolate.UnivariateSpline(scan, yreduced, s=0)\n",
    "scan_interval = freduced.roots()\n",
    "print('K'); print('Lower error:', fit - scan_interval[0]); print('Upper error:', scan_interval[1] - fit)\n",
    "\n",
    "# Error of first index\n",
    "scan, fit, chi_sqrd = Errors_B_1(1)\n",
    "yreduced = np.array(chi_sqrd) - yToFind\n",
    "freduced = interpolate.UnivariateSpline(scan, yreduced, s=0)\n",
    "scan_interval = freduced.roots()\n",
    "print('alpha1'); print('Lower error:', fit - scan_interval[15]); print('Upper error:', scan_interval[17] - fit)\n",
    "\n",
    "#print(scan_interval)\n",
    "\n",
    "# Error of second index\n",
    "scan, fit, chi_sqrd = Errors_B_1(2)\n",
    "yreduced = np.array(chi_sqrd) - yToFind\n",
    "freduced = interpolate.UnivariateSpline(scan, yreduced, s=0)\n",
    "scan_interval = freduced.roots()\n",
    "print('alpha2'); print('Lower error:', fit - scan_interval[0]); print('Upper error:', scan_interval[1] - fit)\n",
    "\n",
    "# Error of third index\n",
    "scan, fit, chi_sqrd = Errors_B_1(3)\n",
    "yreduced = np.array(chi_sqrd) - yToFind\n",
    "freduced = interpolate.UnivariateSpline(scan, yreduced, s=0)\n",
    "scan_interval = freduced.roots()\n",
    "print('alpha3'); print('Lower error:', fit - scan_interval[20]); print('Upper error:', scan_interval[22] - fit)\n",
    "\n",
    "#print(scan_interval)\n",
    "\n",
    "# Error of fifth index\n",
    "scan, fit, chi_sqrd = Errors_B_1(4)\n",
    "yreduced = np.array(chi_sqrd) - yToFind\n",
    "freduced = interpolate.UnivariateSpline(scan, yreduced, s=0)\n",
    "scan_interval = freduced.roots()\n",
    "print('alpha5'); print('Lower error:', fit - scan_interval[0]); print('Upper error:', scan_interval[1] - fit)"
   ]
  },
  {
   "cell_type": "code",
   "execution_count": 343,
   "id": "50916a44",
   "metadata": {},
   "outputs": [
    {
     "name": "stderr",
     "output_type": "stream",
     "text": [
      "/var/folders/j4/1fvnmc755y74k9kgn5w7_s400000gn/T/ipykernel_75573/3169196810.py:6: RuntimeWarning: overflow encountered in power\n",
      "  return K * (E / E0)**(-alpha3) * (1 + ((E/1e3) / Eb1)**(1 / omega1))**(-delta1 * omega1) * (1 + ((E/1e3) / Eb2)**(1 / omega2))**(-delta2 * omega2) * (1 + ((E/1e6) / Eb3)**(1 / omega3))**(-delta3 * omega3)\n"
     ]
    },
    {
     "name": "stdout",
     "output_type": "stream",
     "text": [
      "omeag2\n",
      "Lower error: 0.13076063766633847\n",
      "Upper error: 1.1630305197111537\n",
      "omeag4\n",
      "Lower error: 0.09426790865080437\n",
      "Upper error: 1.6173487877454247\n",
      "E2\n",
      "Lower error: 21.638451137674313\n",
      "Upper error: 174.7068333046825\n",
      "E4\n",
      "Lower error: 3.9927767077303513\n",
      "Upper error: 10.562404160205357\n"
     ]
    }
   ],
   "source": [
    "def Errors_B_2(n):\n",
    "    \n",
    "    K_bestfit = 3 * 10**(-2) #(GeV m2 s sr)-1\n",
    "    alpha1_bestfit = 2.805\n",
    "    alpha2_bestfit = 2.56\n",
    "    alpha3_bestfit = 2.874\n",
    "    alpha4_bestfit = 2.7\n",
    "    omega1_bestfit = 0.28\n",
    "    omega2_bestfit = 0.163\n",
    "    omega3_bestfit = 0.1\n",
    "    Eb1_bestfit = 2 * 0.670   #TeV\n",
    "    Eb2_bestfit = 2 * 16 #TeV\n",
    "    Eb3_bestfit = 2 * 3  #PeV\n",
    "\n",
    "    output = minimize(Chi_B, (K_bestfit, alpha1_bestfit, alpha2_bestfit, alpha3_bestfit, alpha4_bestfit, omega1_bestfit, omega2_bestfit, omega3_bestfit, Eb1_bestfit, Eb2_bestfit, Eb3_bestfit), method='L-BFGS-B')\n",
    "    best_fit_values = output['x']\n",
    "    \n",
    "    scan = np.zeros(500)\n",
    "    fit = best_fit_values[n]\n",
    "    for i in range(0, 100):\n",
    "        scan[i] = fit - (fit / 100)*i\n",
    "    for j in range(100, 500):\n",
    "        scan[j] = fit + (fit / 10)*j\n",
    "    scan = np.sort(scan)\n",
    "    \n",
    "    true_best_fit = Chi_B(best_fit_values)\n",
    "    chi_sqrd = np.zeros(500)\n",
    "    for k in range(0, 500):\n",
    "        best_fit_values[n] = scan[k]\n",
    "        scan_chi = Chi_B(best_fit_values)\n",
    "        chi_sqrd[k] = np.abs(true_best_fit - scan_chi)\n",
    "    return scan, fit, chi_sqrd\n",
    "\n",
    "# Find value for which chi^2 is equal to one\n",
    "yToFind = 12.6473\n",
    "\n",
    "# Error of second width\n",
    "scan, fit, chi_sqrd = Errors_B_2(6)\n",
    "yreduced = np.array(chi_sqrd) - yToFind\n",
    "freduced = interpolate.UnivariateSpline(scan, yreduced, s=0)\n",
    "scan_interval = freduced.roots()\n",
    "print('omeag2'); print('Lower error:', fit - scan_interval[0]); print('Upper error:', scan_interval[1] - fit)\n",
    "\n",
    "# Error of fourth width\n",
    "scan, fit, chi_sqrd = Errors_B_2(7)\n",
    "yreduced = np.array(chi_sqrd) - yToFind\n",
    "freduced = interpolate.UnivariateSpline(scan, yreduced, s=0)\n",
    "scan_interval = freduced.roots()\n",
    "print('omeag4'); print('Lower error:', fit - scan_interval[0]); print('Upper error:', scan_interval[1] - fit)\n",
    "\n",
    "# Error of second energy\n",
    "scan, fit, chi_sqrd = Errors_B_2(9)\n",
    "yreduced = np.array(chi_sqrd) - yToFind\n",
    "freduced = interpolate.UnivariateSpline(scan, yreduced, s=0)\n",
    "scan_interval = freduced.roots()\n",
    "print('E2'); print('Lower error:', fit - scan_interval[0]); print('Upper error:', scan_interval[1] - fit)\n",
    "\n",
    "# Error of fourth energy\n",
    "scan, fit, chi_sqrd = Errors_B_2(10)\n",
    "yreduced = np.array(chi_sqrd) - yToFind\n",
    "freduced = interpolate.UnivariateSpline(scan, yreduced, s=0)\n",
    "scan_interval = freduced.roots()\n",
    "print('E4'); print('Lower error:', fit - scan_interval[0]); print('Upper error:', scan_interval[1] - fit)\n",
    "\n",
    "#print(chi_sqrd)\n",
    "\n",
    "# Check chi^2 - chi^2_min distribution\n",
    "#plt.plot(scan, scan_chi_all)\n",
    "#plt.plot(scan, chi_sqrd)\n",
    "#plt.ylim(0,yToFind)\n",
    "#plt.axvline(x = fit, color='black')\n",
    "#plt.axvline(x = scan_interval[0], linestyle='--', color='black')"
   ]
  },
  {
   "cell_type": "code",
   "execution_count": 346,
   "id": "17dc3176",
   "metadata": {},
   "outputs": [
    {
     "name": "stderr",
     "output_type": "stream",
     "text": [
      "/var/folders/j4/1fvnmc755y74k9kgn5w7_s400000gn/T/ipykernel_75573/3169196810.py:6: RuntimeWarning: overflow encountered in power\n",
      "  return K * (E / E0)**(-alpha3) * (1 + ((E/1e3) / Eb1)**(1 / omega1))**(-delta1 * omega1) * (1 + ((E/1e3) / Eb2)**(1 / omega2))**(-delta2 * omega2) * (1 + ((E/1e6) / Eb3)**(1 / omega3))**(-delta3 * omega3)\n"
     ]
    },
    {
     "name": "stdout",
     "output_type": "stream",
     "text": [
      "omega1\n",
      "Upper error: 0.6211707603511657\n",
      "E1\n",
      "Upper error: 1.2429990064375842\n"
     ]
    }
   ],
   "source": [
    "def Errors_B_3(n):\n",
    "    \n",
    "    K_bestfit = 3 * 10**(-2) #(GeV m2 s sr)-1\n",
    "    alpha1_bestfit = 2.805\n",
    "    alpha2_bestfit = 2.56\n",
    "    alpha3_bestfit = 2.874\n",
    "    alpha4_bestfit = 2.7\n",
    "    omega1_bestfit = 0.28\n",
    "    omega2_bestfit = 0.163\n",
    "    omega3_bestfit = 0.1\n",
    "    Eb1_bestfit = 2 * 0.670   #TeV\n",
    "    Eb2_bestfit = 2 * 16 #TeV\n",
    "    Eb3_bestfit = 2 * 3  #PeV\n",
    "\n",
    "    output = minimize(Chi_B, (K_bestfit, alpha1_bestfit, alpha2_bestfit, alpha3_bestfit, alpha4_bestfit, omega1_bestfit, omega2_bestfit, omega3_bestfit, Eb1_bestfit, Eb2_bestfit, Eb3_bestfit), method='L-BFGS-B')\n",
    "    best_fit_values = output['x']\n",
    "    \n",
    "    scan = np.zeros(500)\n",
    "    fit = best_fit_values[n]\n",
    "    #for i in range(0, 100):\n",
    "        #scan[i] = fit - (fit / 100)*i\n",
    "    for j in range(0, 500):\n",
    "        scan[j] = fit + (fit / 10)*j\n",
    "    scan = np.sort(scan)\n",
    "    \n",
    "    true_best_fit = Chi_B(best_fit_values)\n",
    "    chi_sqrd = np.zeros(500)\n",
    "    for k in range(0, 500):\n",
    "        best_fit_values[n] = scan[k]\n",
    "        scan_chi = Chi_B(best_fit_values)\n",
    "        chi_sqrd[k] = np.abs(true_best_fit - scan_chi)\n",
    "    return scan, fit, chi_sqrd\n",
    "\n",
    "# Find value for which chi^2 is equal to one\n",
    "yToFind = 12.6473\n",
    "\n",
    "# Error of first width\n",
    "scan, fit, chi_sqrd = Errors_B_3(5)\n",
    "yreduced = np.array(chi_sqrd) - yToFind\n",
    "freduced = interpolate.UnivariateSpline(scan, yreduced, s=0)\n",
    "scan_interval = freduced.roots()\n",
    "print('omega1'); #print('Lower error:', fit - scan_interval[0]); \n",
    "print('Upper error:', scan_interval[0] - fit)\n",
    "\n",
    "# Error of first energy\n",
    "scan, fit, chi_sqrd = Errors_B_3(8)\n",
    "yreduced = np.array(chi_sqrd) - yToFind\n",
    "freduced = interpolate.UnivariateSpline(scan, yreduced, s=0)\n",
    "scan_interval = freduced.roots()\n",
    "print('E1'); #print('Lower error:', fit - scan_interval[0]); \n",
    "print('Upper error:', scan_interval[0] - fit)"
   ]
  },
  {
   "cell_type": "markdown",
   "id": "a83cb1d8",
   "metadata": {},
   "source": [
    "## Plotting"
   ]
  },
  {
   "cell_type": "code",
   "execution_count": 347,
   "id": "f9c8c44b",
   "metadata": {},
   "outputs": [
    {
     "data": {
      "image/png": "[encoded data removed]",
      "text/plain": [
       "<Figure size 1500x700 with 1 Axes>"
      ]
     },
     "metadata": {},
     "output_type": "display_data"
    }
   ],
   "source": [
    "plt.figure(figsize=(15, 7))\n",
    "# Models\n",
    "plt.plot(E, Phi_model_A * E**2.7, '--', color='black', label=r'Model A ($\\chi^2 / n_{dof} = 0.18$)')\n",
    "plt.plot(E, Phi_model_B * E**2.7, ':', color='black', label=r'Model B ($\\chi^2 / n_{dof} = 0.19$)')\n",
    "# Low energy\n",
    "plt.errorbar(E_PAMELA, flux_PAMELA * E_PAMELA**2.7, yerr=error_PAMELA * E_PAMELA**2.7, fmt='o', color='red', label='PAMELA')\n",
    "plt.errorbar(E_AMS02, flux_AMS02 * E_AMS02**2.7, yerr=error_AMS02 * E_AMS02**2.7, fmt='s', color='orange', label='AMS02')\n",
    "plt.errorbar(E_DAMPE, flux_DAMPE * E_DAMPE**2.7, yerr=error_DAMPE * E_DAMPE**2.7, fmt='^', color='gold', label='DAMPE')\n",
    "plt.errorbar(E_CALET, flux_CALET * E_CALET**2.7, yerr=(error_CALET_low, error_CALET_low) * E_CALET**2.7, fmt='v', color='green', label='CALET')\n",
    "plt.errorbar(E_CREAM, flux_CREAM * E_CREAM**2.7, yerr=(error_CREAM_low, error_CREAM_low) * E_CREAM**2.7, fmt='d', color='cyan', label='CREAM')\n",
    "plt.errorbar(E_ATIC, flux_ATIC * E_ATIC**2.7, yerr=error_ATIC * E_ATIC**2.7, fmt='*', color='blue', label='ATIC')\n",
    "# High energy\n",
    "plt.errorbar(E_ICECUBE, flux_ICECUBE * E_ICECUBE**2.7, yerr=(error_ICECUBE_low, error_ICECUBE_up) * E_ICECUBE**2.7, fmt='s', color='purple', label='IceTop (Sibyll 2.1)')\n",
    "plt.errorbar(E_KASCADE, flux_KASCADE * E_KASCADE**2.7, yerr=(error_KASCADE_low, error_KASCADE_up)  * E_KASCADE**2.7, fmt='o', color='pink', label='KASCADE-Grande (QGSJet-II-04)')\n",
    "plt.loglog()\n",
    "plt.xlim(5e1,5e8)\n",
    "plt.ylim(2e2,5e5)\n",
    "plt.xlabel('E [GeV]', fontsize=17)\n",
    "plt.ylabel(r'$E^{2.7}\\phi(E)$ [GeV$^{1.7}$ (m$^2$ s sr)$^{-1}$]', fontsize=17)\n",
    "plt.legend(ncol=3, fontsize=14, loc='upper left')\n",
    "plt.title('All detectors', fontsize=17)\n",
    "plt.savefig('/Users/luisenriqueespinosacastro/Documents/PhD/Research/Cosmic ray spectrum/Cosmic_Ray_Spectrum_Models/Plots/spectrum_high_energy_Helium.png')"
   ]
  },
  {
   "cell_type": "code",
   "execution_count": null,
   "id": "adc7cac5",
   "metadata": {},
   "outputs": [],
   "source": []
  }
 ],
 "metadata": {
  "kernelspec": {
   "display_name": "Python 3 (ipykernel)",
   "language": "python",
   "name": "python3"
  },
  "language_info": {
   "codemirror_mode": {
    "name": "ipython",
    "version": 3
   },
   "file_extension": ".py",
   "mimetype": "text/x-python",
   "name": "python",
   "nbconvert_exporter": "python",
   "pygments_lexer": "ipython3",
   "version": "3.11.5"
  }
 },
 "nbformat": 4,
 "nbformat_minor": 5
}
