{
 "cells": [
  {
   "cell_type": "markdown",
   "id": "295516cd",
   "metadata": {},
   "source": [
    "# Cosmic Ray Proton Spectrum Joint Fitting"
   ]
  },
  {
   "cell_type": "code",
   "execution_count": 285,
   "id": "58eba51c",
   "metadata": {},
   "outputs": [],
   "source": [
    "from pylab import *\n",
    "from scipy.optimize import minimize \n",
    "from scipy import interpolate"
   ]
  },
  {
   "cell_type": "code",
   "execution_count": 286,
   "id": "a16cb9c3",
   "metadata": {},
   "outputs": [],
   "source": [
    "m_p = 0.938 # Proton mass\n",
    "Z = 1 # Proton charge\n",
    "n = 1 # Number of nucleons in H"
   ]
  },
  {
   "cell_type": "markdown",
   "id": "64a3f720",
   "metadata": {},
   "source": [
    "### PAMELA"
   ]
  },
  {
   "cell_type": "code",
   "execution_count": 305,
   "id": "4dd5eced",
   "metadata": {},
   "outputs": [
    {
     "name": "stdout",
     "output_type": "stream",
     "text": [
      "Number of data points: 21\n"
     ]
    }
   ],
   "source": [
    "data_PAMELA_H = np.genfromtxt(\"Data/Proton/PAMELA_H_data.txt\")\n",
    "R_PAMELA = data_PAMELA_H[:,1]\n",
    "E_PAMELA = (R_PAMELA * Z) - m_p\n",
    "flux_R_PAMELA = data_PAMELA_H[:,3]\n",
    "flux_PAMELA = flux_R_PAMELA * (R_PAMELA / ((Z * R_PAMELA) - m_p)) # Normalize to Ek\n",
    "error_PAMELA_stat = data_PAMELA_H[:,4] * (R_PAMELA / ((Z * R_PAMELA) - m_p)) # Normalize to Ek\n",
    "error_PAMELA_syst = data_PAMELA_H[:,5] * (R_PAMELA / ((Z * R_PAMELA) - m_p)) # Normalize to Ek\n",
    "error_PAMELA = np.sqrt(error_PAMELA_stat**2 + error_PAMELA_syst**2) \n",
    "\n",
    "# Consider E > 50 GeV\n",
    "index_PAMELA = np.where(np.logical_and(E_PAMELA>=5e1, E_PAMELA<=1e5))\n",
    "E_PAMELA = E_PAMELA[index_PAMELA]; flux_PAMELA = flux_PAMELA[index_PAMELA]; error_PAMELA = error_PAMELA[index_PAMELA]\n",
    "print('Number of data points:', len(E_PAMELA))"
   ]
  },
  {
   "cell_type": "markdown",
   "id": "e8c7bf04",
   "metadata": {},
   "source": [
    "### AMS02"
   ]
  },
  {
   "cell_type": "code",
   "execution_count": 306,
   "id": "52d78ab2",
   "metadata": {},
   "outputs": [
    {
     "name": "stdout",
     "output_type": "stream",
     "text": [
      "Number of data points: 29\n"
     ]
    }
   ],
   "source": [
    "data_AMS02_H = np.genfromtxt(\"Data/Proton/AMS02_H_data.txt\")\n",
    "R_AMS02 = data_AMS02_H[:,1]\n",
    "E_AMS02 = (R_AMS02 * Z) - m_p\n",
    "flux_R_AMS02 = data_AMS02_H[:,3]\n",
    "flux_AMS02 = flux_R_AMS02 * (R_AMS02 / ((Z * R_AMS02) - m_p)) # Normalize to Ek\n",
    "error_AMS02_stat = data_AMS02_H[:,4] * (R_AMS02 / ((Z * R_AMS02) - m_p)) # Normalize to Ek\n",
    "error_AMS02_syst = data_AMS02_H[:,5] * (R_AMS02 / ((Z * R_AMS02) - m_p)) # Normalize to Ek\n",
    "error_AMS02 = np.sqrt(error_AMS02_stat**2 + error_AMS02_syst**2)\n",
    "\n",
    "# Consider E > 50 GeV\n",
    "index_AMS02 = np.where(np.logical_and(E_AMS02>=5e1, E_AMS02<=1e5))\n",
    "E_AMS02 = E_AMS02[index_AMS02]; flux_AMS02 = flux_AMS02[index_AMS02]; error_AMS02 = error_AMS02[index_AMS02]\n",
    "print('Number of data points:', len(E_AMS02))"
   ]
  },
  {
   "cell_type": "markdown",
   "id": "872c2685",
   "metadata": {},
   "source": [
    "### DAMPE "
   ]
  },
  {
   "cell_type": "code",
   "execution_count": 307,
   "id": "6ef6c46f",
   "metadata": {},
   "outputs": [
    {
     "name": "stdout",
     "output_type": "stream",
     "text": [
      "Number of data points: 16\n"
     ]
    }
   ],
   "source": [
    "data_DAMPE_H = np.genfromtxt(\"Data/Proton/DAMPE_H_data.txt\")\n",
    "E_DAMPE = data_DAMPE_H[:,1]\n",
    "flux_DAMPE = data_DAMPE_H[:,3]\n",
    "error_DAMPE_stat = data_DAMPE_H[:,4]\n",
    "error_DAMPE_syst = data_DAMPE_H[:,5]\n",
    "error_DAMPE = np.sqrt(error_DAMPE_stat**2 + error_DAMPE_syst**2)\n",
    "\n",
    "# Consider E > 50 GeV\n",
    "index_DAMPE = np.where(np.logical_and(E_DAMPE>=5e1, E_DAMPE<=1e5))\n",
    "E_DAMPE = E_DAMPE[index_DAMPE]; flux_DAMPE = flux_DAMPE[index_DAMPE]; error_DAMPE = error_DAMPE[index_DAMPE]\n",
    "print('Number of data points:', len(E_DAMPE))"
   ]
  },
  {
   "cell_type": "markdown",
   "id": "953c6a8b",
   "metadata": {},
   "source": [
    "### CALET "
   ]
  },
  {
   "cell_type": "code",
   "execution_count": 308,
   "id": "beceb4ce",
   "metadata": {},
   "outputs": [
    {
     "name": "stdout",
     "output_type": "stream",
     "text": [
      "Number of data points: 23\n"
     ]
    }
   ],
   "source": [
    "data_CALET_H = np.genfromtxt(\"Data/Proton/CALET_H_data.txt\")\n",
    "E_CALET = data_CALET_H[:,1]\n",
    "flux_CALET = data_CALET_H[:,3]\n",
    "error_CALET_stat = data_CALET_H[:,4]\n",
    "error_CALET_syst_low = data_CALET_H[:,5]\n",
    "error_CALET_syst_up = data_CALET_H[:,6]\n",
    "error_CALET_low = np.sqrt(error_CALET_stat**2 + error_CALET_syst_low**2)\n",
    "error_CALET_up = np.sqrt(error_CALET_stat**2 + error_CALET_syst_up**2)\n",
    "\n",
    "# Consider E > 50 GeV\n",
    "index_CALET = np.where(np.logical_and(E_CALET>=5e1, E_CALET<=1e5))\n",
    "E_CALET = E_CALET[index_CALET]; flux_CALET = flux_CALET[index_CALET]; error_CALET_low = error_CALET_low[index_CALET]; error_CALET_up = error_CALET_up[index_CALET]\n",
    "print('Number of data points:', len(E_CALET))"
   ]
  },
  {
   "cell_type": "markdown",
   "id": "c079b04b",
   "metadata": {},
   "source": [
    "### CREAM "
   ]
  },
  {
   "cell_type": "code",
   "execution_count": 309,
   "id": "75738a8f",
   "metadata": {},
   "outputs": [
    {
     "name": "stdout",
     "output_type": "stream",
     "text": [
      "Number of data points: 12\n"
     ]
    }
   ],
   "source": [
    "data_CREAM_H = np.genfromtxt(\"Data/Proton/CREAM_H_data.txt\")\n",
    "E_CREAM = data_CREAM_H[:,1] * n\n",
    "flux_CREAM = data_CREAM_H[:,3] / n\n",
    "error_CREAM_stat_low = data_CREAM_H[:,4] / n\n",
    "error_CREAM_stat_up = data_CREAM_H[:,5] / n\n",
    "error_CREAM_syst = data_CREAM_H[:,6] / n\n",
    "error_CREAM_low = np.sqrt(error_CREAM_stat_low**2 + error_CREAM_syst**2)\n",
    "error_CREAM_up = np.sqrt(error_CREAM_stat_up**2 + error_CREAM_syst**2)\n",
    "\n",
    "# Consider E > 50 GeV\n",
    "index_CREAM = np.where(np.logical_and(E_CREAM>=5e1, E_CREAM<=5e5))\n",
    "E_CREAM = E_CREAM[index_CREAM]; flux_CREAM = flux_CREAM[index_CREAM]; error_CREAM_low = error_CREAM_low[index_CREAM]; error_CREAM_up = error_CREAM_up[index_CREAM]\n",
    "print('Number of data points:', len(E_CREAM))"
   ]
  },
  {
   "cell_type": "markdown",
   "id": "30c8131b",
   "metadata": {},
   "source": [
    "### ATIC"
   ]
  },
  {
   "cell_type": "code",
   "execution_count": 310,
   "id": "4552c760",
   "metadata": {},
   "outputs": [
    {
     "name": "stdout",
     "output_type": "stream",
     "text": [
      "Number of data points: 14\n"
     ]
    }
   ],
   "source": [
    "data_ATIC_H = np.genfromtxt(\"Data/Proton/ATIC_H_data.txt\")\n",
    "E_ATIC = data_ATIC_H[:,1] - m_p\n",
    "flux_ATIC = data_ATIC_H[:,3] * (E_ATIC / (E_ATIC - m_p)) # Normalize to Ek\n",
    "error_ATIC_stat = data_ATIC_H[:,4] * (E_ATIC / (E_ATIC - m_p)) # Normalize to Ek\n",
    "error_ATIC_syst = data_ATIC_H[:,3]*0.2 * (E_ATIC / (E_ATIC - m_p)) # Estimated systemtaic error of 20%\n",
    "error_ATIC = np.sqrt(error_ATIC_stat**2 + error_ATIC_syst**2)\n",
    "\n",
    "# Consider E > 50 GeV\n",
    "index_ATIC = np.where(np.logical_and(E_ATIC>=5e1, E_ATIC<=1e5))\n",
    "E_ATIC = E_ATIC[index_ATIC]; flux_ATIC = flux_ATIC[index_ATIC]; error_ATIC = error_ATIC[index_ATIC]\n",
    "print('Number of data points:', len(E_ATIC))"
   ]
  },
  {
   "cell_type": "markdown",
   "id": "3615bf95",
   "metadata": {},
   "source": [
    "### NUCLEON"
   ]
  },
  {
   "cell_type": "code",
   "execution_count": 311,
   "id": "de8b6a76",
   "metadata": {},
   "outputs": [
    {
     "name": "stdout",
     "output_type": "stream",
     "text": [
      "Number of data points: 10\n"
     ]
    }
   ],
   "source": [
    "data_NUCLEON_H = np.genfromtxt(\"Data/Proton/NUCLEON_H_data.txt\")\n",
    "E_NUCLEON = data_NUCLEON_H[:,1] #- m_p\n",
    "flux_NUCLEON = data_NUCLEON_H[:,3] * (E_NUCLEON / (E_NUCLEON - m_p)) # Normalize to Ek\n",
    "error_NUCLEON_stat = data_NUCLEON_H[:,4] * (E_NUCLEON / (E_NUCLEON - m_p)) # Normalize to Ek\n",
    "error_NUCLEON_syst = data_NUCLEON_H[:,3]*0.25 * (E_NUCLEON / (E_NUCLEON - m_p)) # Estimated systemtaic error of 25%\n",
    "error_NUCLEON = np.sqrt(error_NUCLEON_stat**2 + error_NUCLEON_syst**2)\n",
    "\n",
    "# Consider E > 50 GeV\n",
    "index_NUCLEON = np.where(np.logical_and(E_NUCLEON>=5e1, E_NUCLEON<=5e5))\n",
    "E_NUCLEON = E_NUCLEON[index_NUCLEON]; flux_NUCLEON = flux_NUCLEON[index_NUCLEON]; error_NUCLEON = error_NUCLEON[index_NUCLEON]\n",
    "print('Number of data points:', len(E_NUCLEON))"
   ]
  },
  {
   "cell_type": "markdown",
   "id": "dd9fd1d8",
   "metadata": {},
   "source": [
    "### *Check number of degrees of freedom*"
   ]
  },
  {
   "cell_type": "code",
   "execution_count": 312,
   "id": "fb37fc15",
   "metadata": {},
   "outputs": [
    {
     "name": "stdout",
     "output_type": "stream",
     "text": [
      "Reported d.o.f: 120\n",
      "Real d.o.f: 117\n"
     ]
    }
   ],
   "source": [
    "print('Reported d.o.f:', 128 - 8)\n",
    "print('Real d.o.f:', (len(E_PAMELA) + len(E_AMS02) + len(E_DAMPE) + len(E_CALET) + len(E_CREAM) + len(E_ATIC) + len(E_NUCLEON)) - 8)"
   ]
  },
  {
   "cell_type": "markdown",
   "id": "646af96f",
   "metadata": {},
   "source": [
    "## Model by (Lipari $\\&$ Vernetto, 2019) for hardening and softening of proton spectrum"
   ]
  },
  {
   "cell_type": "code",
   "execution_count": 313,
   "id": "c776922d",
   "metadata": {},
   "outputs": [],
   "source": [
    "def Phi_twobreaks(E, K, E0, alpha1, alpha2, alpha3, omega1, omega2, Eb1, Eb2):\n",
    "    delta1 = alpha2 - alpha1\n",
    "    delta2 = alpha3 - alpha2\n",
    "    return K * (E/E0)**(-alpha1) * (1 + (E/Eb1)**(1/omega1))**(-delta1 * omega1) * (1 + (E/Eb2)**(1/omega2))**(-delta2 * omega2)"
   ]
  },
  {
   "cell_type": "code",
   "execution_count": 314,
   "id": "79f0eace",
   "metadata": {},
   "outputs": [],
   "source": [
    "def Phi_onebreak(E, K, E0, alpha1, alpha2, omega1, Eb1):\n",
    "    delta1 = alpha2 - alpha1\n",
    "    return K * (E/E0)**(-alpha1) * (1 + (E/Eb1)**(1/omega1))**(-delta1 * omega1)"
   ]
  },
  {
   "cell_type": "markdown",
   "id": "b533903a",
   "metadata": {},
   "source": [
    "## $\\chi^2$-minimzation fit\n",
    "### For each experiment individually $\\chi^2_j(K, E_0, \\alpha_1, \\alpha_2, \\alpha_3, E_b, \\omega, E'_b, \\omega') = \\sum_i \\frac{\\left(\\phi_j(E_i)-\\phi(E_i; K, E_0, \\alpha_1, \\alpha_2, \\alpha_3, E_b, \\omega, E'_b, \\omega')\\right)^2}{\\sigma_{i,j}^2}$"
   ]
  },
  {
   "cell_type": "markdown",
   "id": "018eddaa",
   "metadata": {},
   "source": [
    "## Combined fit using all detectors"
   ]
  },
  {
   "cell_type": "code",
   "execution_count": 316,
   "id": "1f1556b6",
   "metadata": {},
   "outputs": [],
   "source": [
    "def Chi_PAMELA(parameters):\n",
    "    E = E_PAMELA\n",
    "    Flux = flux_PAMELA\n",
    "    Sigma = 2*error_PAMELA\n",
    "    K, alpha1, alpha2, omega1, Eb1 = parameters\n",
    "    Phi_model = Phi_onebreak(E, K, 0.1 * 1e3, alpha1, alpha2, omega1, Eb1)\n",
    "    return sum( (Phi_model - Flux)**2 / Sigma**2 )"
   ]
  },
  {
   "cell_type": "code",
   "execution_count": 317,
   "id": "432d7422",
   "metadata": {},
   "outputs": [],
   "source": [
    "def Chi_AMS02(parameters):\n",
    "    E = E_AMS02\n",
    "    Flux = flux_AMS02\n",
    "    Sigma = 2*error_AMS02\n",
    "    K, alpha1, alpha2, omega1, Eb1 = parameters\n",
    "    Phi_model = Phi_onebreak(E, K, 0.1 * 1e3, alpha1, alpha2, omega1, Eb1)\n",
    "    return sum( (Phi_model - Flux)**2 / Sigma**2 )"
   ]
  },
  {
   "cell_type": "code",
   "execution_count": 318,
   "id": "5a724f82",
   "metadata": {},
   "outputs": [],
   "source": [
    "def Chi_ATIC(parameters):\n",
    "    E = E_ATIC\n",
    "    Flux = flux_ATIC\n",
    "    Sigma = 2*error_ATIC\n",
    "    K, alpha1, alpha2, omega1, Eb1 = parameters\n",
    "    Phi_model = Phi_onebreak(E, K, 0.1 * 1e3, alpha1, alpha2, omega1, Eb1)\n",
    "    return sum( (Phi_model - Flux)**2 / Sigma**2 ) "
   ]
  },
  {
   "cell_type": "code",
   "execution_count": 319,
   "id": "6bc16045",
   "metadata": {},
   "outputs": [],
   "source": [
    "def Chi_CALET(parameters):\n",
    "    E = E_CALET\n",
    "    Flux = flux_CALET\n",
    "    Sigma = error_CALET_low + error_CALET_up\n",
    "    K, alpha1, alpha2, omega1, Eb1 = parameters\n",
    "    Phi_model = Phi_onebreak(E, K, 0.1 * 1e3, alpha1, alpha2, omega1, Eb1)\n",
    "    return sum( (Phi_model - Flux)**2 / Sigma**2 ) "
   ]
  },
  {
   "cell_type": "code",
   "execution_count": 320,
   "id": "47385e09",
   "metadata": {},
   "outputs": [],
   "source": [
    "def Chi_CREAM(parameters):\n",
    "    E = E_CREAM\n",
    "    Flux = flux_CREAM\n",
    "    Sigma = error_CREAM_low + error_CREAM_up\n",
    "    K, alpha2, alpha3, omega2, Eb2 = parameters\n",
    "    Phi_model = Phi_onebreak(E, K, 0.1 * 1e3, alpha2, alpha3, omega2, Eb2)\n",
    "    return sum( (Phi_model - Flux)**2 / Sigma**2 )"
   ]
  },
  {
   "cell_type": "code",
   "execution_count": 321,
   "id": "10a406d5",
   "metadata": {},
   "outputs": [],
   "source": [
    "def Chi_DAMPE(parameters):\n",
    "    E = E_DAMPE\n",
    "    Flux = flux_DAMPE\n",
    "    Sigma = 2*error_DAMPE\n",
    "    K, alpha1, alpha2, alpha3, omega1, omega2, Eb1, Eb2 = parameters\n",
    "    Phi_model = Phi_twobreaks(E, K, 0.1 * 1e3, alpha1, alpha2, alpha3, omega1, omega2, Eb1, Eb2)\n",
    "    return sum( (Phi_model - Flux)**2 / Sigma**2 ) "
   ]
  },
  {
   "cell_type": "code",
   "execution_count": 322,
   "id": "14a86925",
   "metadata": {},
   "outputs": [],
   "source": [
    "def Chi_NUCLEON(parameters):\n",
    "    E = E_NUCLEON\n",
    "    Flux = flux_NUCLEON\n",
    "    Sigma = 2*error_NUCLEON\n",
    "    K, alpha2, alpha3, omega2, Eb2 = parameters\n",
    "    Phi_model = Phi_onebreak(E, K, 0.1 * 1e3, alpha2, alpha3, omega2, Eb2)\n",
    "    return sum( (Phi_model - Flux)**2 / Sigma**2 ) "
   ]
  },
  {
   "cell_type": "code",
   "execution_count": 351,
   "id": "e1536e61",
   "metadata": {},
   "outputs": [
    {
     "data": {
      "text/plain": [
       "'\\ndef Chi(parameters):\\n    K, alpha1, alpha2, alpha3, omega1, omega2, Eb1, Eb2 = parameters\\n    # One break\\n    parameters_PAMELA = K, alpha1, alpha2, omega1, Eb1\\n    parameters_AMS02 = K, alpha1, alpha2, omega1, Eb1\\n    parameters_ATIC = K, alpha1, alpha2, omega1, Eb1\\n    parameters_CALET = K, alpha1, alpha2, omega1, Eb1\\n    parameters_CREAM = K, alpha2, alpha3, omega2, Eb2\\n    parameters_NUCLEON = K, alpha2, alpha3, omega2, Eb2\\n    # Two breaks\\n    parameters_DAMPE = K, alpha1, alpha2, alpha3, omega1, omega2, Eb1, Eb2\\n    # Chi^2\\n    chi_PAMELA = Chi_PAMELA(parameters_PAMELA)\\n    chi_AMS02 = Chi_AMS02(parameters_AMS02)\\n    chi_ATIC = Chi_ATIC(parameters_ATIC)\\n    chi_CALET = Chi_CALET(parameters_CALET)\\n    chi_CREAM = Chi_CREAM(parameters_CREAM)\\n    chi_NUCLEON = Chi_NUCLEON(parameters_NUCLEON)\\n    chi_DAMPE = Chi_DAMPE(parameters_DAMPE)\\n    return chi_PAMELA + chi_AMS02 + chi_ATIC + chi_CALET + chi_CALET + chi_DAMPE #+ chi_NUCLEON\\n'"
      ]
     },
     "execution_count": 351,
     "metadata": {},
     "output_type": "execute_result"
    }
   ],
   "source": [
    "# Joint chi^2\n",
    "\"\"\"\n",
    "def Chi(parameters):\n",
    "    K, alpha1, alpha2, alpha3, omega1, omega2, Eb1, Eb2 = parameters\n",
    "    # One break\n",
    "    parameters_PAMELA = K, alpha1, alpha2, omega1, Eb1\n",
    "    parameters_AMS02 = K, alpha1, alpha2, omega1, Eb1\n",
    "    parameters_ATIC = K, alpha1, alpha2, omega1, Eb1\n",
    "    parameters_CALET = K, alpha1, alpha2, omega1, Eb1\n",
    "    parameters_CREAM = K, alpha2, alpha3, omega2, Eb2\n",
    "    parameters_NUCLEON = K, alpha2, alpha3, omega2, Eb2\n",
    "    # Two breaks\n",
    "    parameters_DAMPE = K, alpha1, alpha2, alpha3, omega1, omega2, Eb1, Eb2\n",
    "    # Chi^2\n",
    "    chi_PAMELA = Chi_PAMELA(parameters_PAMELA)\n",
    "    chi_AMS02 = Chi_AMS02(parameters_AMS02)\n",
    "    chi_ATIC = Chi_ATIC(parameters_ATIC)\n",
    "    chi_CALET = Chi_CALET(parameters_CALET)\n",
    "    chi_CREAM = Chi_CREAM(parameters_CREAM)\n",
    "    chi_NUCLEON = Chi_NUCLEON(parameters_NUCLEON)\n",
    "    chi_DAMPE = Chi_DAMPE(parameters_DAMPE)\n",
    "    return chi_PAMELA + chi_AMS02 + chi_ATIC + chi_CALET + chi_CALET + chi_DAMPE #+ chi_NUCLEON\n",
    "\"\"\""
   ]
  },
  {
   "cell_type": "code",
   "execution_count": 352,
   "id": "0de2619d",
   "metadata": {},
   "outputs": [],
   "source": [
    "# Joint chi^2\n",
    "def Chi(parameters):\n",
    "    K, alpha1, alpha2, alpha3, omega1, omega2, Eb1, Eb2 = parameters\n",
    "    \n",
    "    E = np.append( np.append( np.append( np.append( np.append(E_PAMELA, E_AMS02), E_ATIC ), E_CREAM), E_CALET), E_DAMPE)\n",
    "    Flux = np.append( np.append( np.append( np.append( np.append(flux_PAMELA, flux_AMS02), flux_ATIC ), flux_CREAM), flux_CALET), flux_DAMPE)\n",
    "    Sigma = np.append( np.append( np.append( np.append( np.append(2*error_PAMELA, 2*error_AMS02), 2*error_ATIC ), error_CREAM_low+error_CREAM_up), error_CALET_low+error_CALET_up), 2*error_DAMPE)\n",
    "    \n",
    "    Phi_model = Phi_twobreaks(E, K, 0.1 * 1e3, alpha1, alpha2, alpha3, omega1, omega2, Eb1, Eb2)\n",
    "    \n",
    "    return sum( (Phi_model - Flux)**2 / Sigma**2 ) "
   ]
  },
  {
   "cell_type": "code",
   "execution_count": 353,
   "id": "a31aac95",
   "metadata": {},
   "outputs": [
    {
     "name": "stdout",
     "output_type": "stream",
     "text": [
      "Min chi^2 from Lipari & Vernetto: 46.5\n",
      "Computed chi^2: 20.691843450748344\n"
     ]
    }
   ],
   "source": [
    "# Check of chi^2 with reported value\n",
    "alpha1_bestfit = 2.80\n",
    "alpha2_bestfit = 2.57\n",
    "alpha3_bestfit = 2.87\n",
    "Eb1_bestfit = 0.67 * 1e3 #GeV\n",
    "Eb2_bestfit = 16 * 1e3 #GeV\n",
    "omega1_bestfit = 0.27\n",
    "omega2_bestfit = 0.35\n",
    "K_bestfit = 4.40 * 10**(-2) #(GeV m2 s sr)-1\n",
    "\n",
    "parameters_bestfit = K_bestfit, alpha1_bestfit, alpha2_bestfit, alpha3_bestfit, omega1_bestfit, omega2_bestfit, Eb1_bestfit, Eb2_bestfit\n",
    "print('Min chi^2 from Lipari & Vernetto:', 46.5)\n",
    "print('Computed chi^2:', Chi(parameters_bestfit) )"
   ]
  },
  {
   "cell_type": "code",
   "execution_count": 354,
   "id": "6df0cace",
   "metadata": {},
   "outputs": [
    {
     "name": "stdout",
     "output_type": "stream",
     "text": [
      "LIPARI & VERNETTO BEST FIT VALUES:\n",
      "K: 0.044\n",
      "alpha_1: 2.8\n",
      "alpha_2: 2.57\n",
      "alpha_3: 2.87\n",
      "omega: 0.27\n",
      "omega_primed: 0.35\n",
      "E_b: 670.0 GeV\n",
      "E_b_primed: 16000.0 GeV\n",
      "\n",
      "MY BEST FIT VALUES:\n",
      "K: 0.0445929\n",
      "alpha_1: 2.807\n",
      "alpha_2: 2.588\n",
      "alpha_3: 2.82\n",
      "omega: 0.343\n",
      "omega_primed: 0.016\n",
      "E_b: 670.001 GeV\n",
      "E_b_primed: 16000.0 GeV\n",
      "\n",
      "chi^2_min: 14.2873055\n"
     ]
    },
    {
     "name": "stderr",
     "output_type": "stream",
     "text": [
      "/var/folders/j4/1fvnmc755y74k9kgn5w7_s400000gn/T/ipykernel_20712/3009060029.py:4: RuntimeWarning: overflow encountered in power\n",
      "  return K * (E/E0)**(-alpha1) * (1 + (E/Eb1)**(1/omega1))**(-delta1 * omega1) * (1 + (E/Eb2)**(1/omega2))**(-delta2 * omega2)\n"
     ]
    }
   ],
   "source": [
    "print('LIPARI & VERNETTO BEST FIT VALUES:')\n",
    "print('K:', round(K_bestfit,3)); \n",
    "print('alpha_1:', round(alpha1_bestfit,3)); print('alpha_2:', round(alpha2_bestfit,3)); print('alpha_3:', round(alpha3_bestfit,3))\n",
    "print('omega:', round(omega1_bestfit,3)); print('omega_primed:', round(omega2_bestfit,3))\n",
    "print('E_b:', round(Eb1_bestfit,3), 'GeV'); print('E_b_primed:', round(Eb2_bestfit,3), 'GeV')\n",
    "print('')\n",
    "\n",
    "# Minimization of chi^2\n",
    "#bounds_range = ((4e-2,5e-2),(2,3),(2,3),(2,3),(0.0001,1),(0.0001,1),(1e2,1e3),(1e4,1e5))\n",
    "output = minimize(Chi, (K_bestfit, alpha1_bestfit, alpha2_bestfit, alpha3_bestfit, omega1_bestfit, omega2_bestfit, Eb1_bestfit, Eb2_bestfit), method='L-BFGS-B')\n",
    "best_fit_values = output['x']\n",
    "\n",
    "# Best fit values\n",
    "print('MY BEST FIT VALUES:')\n",
    "print('K:', round(best_fit_values[0],7)); \n",
    "print('alpha_1:', round(best_fit_values[1],3)); print('alpha_2:', round(best_fit_values[2],3)); print('alpha_3:', round(best_fit_values[3],3))\n",
    "print('omega:', round(best_fit_values[4],3)); print('omega_primed:', round(best_fit_values[5],3)); \n",
    "print('E_b:', round(best_fit_values[6],3), 'GeV'); print('E_b_primed:', round(best_fit_values[7],3), 'GeV')\n",
    "print('')\n",
    "\n",
    "min_chi = Chi(best_fit_values)\n",
    "print('chi^2_min:', round(min_chi,7))"
   ]
  },
  {
   "cell_type": "code",
   "execution_count": 355,
   "id": "aed33e0a",
   "metadata": {},
   "outputs": [
    {
     "name": "stdout",
     "output_type": "stream",
     "text": [
      "K\n",
      "Lower error: 0.0007625943898101201\n",
      "Upper error: 0.0007626048801777294\n",
      "alpha1\n",
      "Lower error: 0.02198644713686626\n",
      "Upper error: 0.02880139699319839\n",
      "alpha2\n",
      "Lower error: 0.03805981466764896\n",
      "Upper error: 0.05801508097254393\n",
      "alpha3\n",
      "Lower error: 0.2523495587810678\n",
      "Upper error: 0.40442897408981526\n"
     ]
    },
    {
     "name": "stderr",
     "output_type": "stream",
     "text": [
      "/var/folders/j4/1fvnmc755y74k9kgn5w7_s400000gn/T/ipykernel_20712/3009060029.py:4: RuntimeWarning: overflow encountered in power\n",
      "  return K * (E/E0)**(-alpha1) * (1 + (E/Eb1)**(1/omega1))**(-delta1 * omega1) * (1 + (E/Eb2)**(1/omega2))**(-delta2 * omega2)\n"
     ]
    }
   ],
   "source": [
    "def Errors(n):\n",
    "    \n",
    "    alpha1 = 2.80\n",
    "    alpha2 = 2.57\n",
    "    alpha3 = 2.87\n",
    "    Eb1 = 0.67 * 1e3 #GeV\n",
    "    Eb2 = 16 * 1e3 #GeV\n",
    "    omega1 = 0.27\n",
    "    omega2 = 0.35\n",
    "    K = 4.40 * 10**(-2) #(GeV m2 s sr)-1\n",
    "    output = minimize(Chi, (K, alpha1, alpha2, alpha3, omega1, omega2, Eb1, Eb2), method='L-BFGS-B')\n",
    "    best_fit_values = output['x']\n",
    "    \n",
    "    scan = np.zeros(50)\n",
    "    fit = best_fit_values[n]\n",
    "    for i in range(0, 25):\n",
    "        scan[i] = fit - (fit / 100)*i\n",
    "    for j in range(25, 50):\n",
    "        scan[j] = fit + (fit / 100)*j\n",
    "    scan = np.sort(scan)\n",
    "    \n",
    "    true_best_fit = Chi(best_fit_values)\n",
    "    chi_sqrd = np.zeros(50)\n",
    "    for k in range(0, 50):\n",
    "        best_fit_values[n] = scan[k]\n",
    "        scan_chi = Chi(best_fit_values)\n",
    "        chi_sqrd[k] = np.abs(true_best_fit - scan_chi)\n",
    "    return scan, fit, chi_sqrd\n",
    "\n",
    "# Find value for which chi^2 is equal to one\n",
    "yToFind = 9.30\n",
    "\n",
    "# Error of normilization\n",
    "scan, fit, chi_sqrd = Errors(0)\n",
    "yreduced = np.array(chi_sqrd) - yToFind\n",
    "freduced = interpolate.UnivariateSpline(scan, yreduced, s=0)\n",
    "scan_interval = freduced.roots()\n",
    "print('K'); print('Lower error:', fit - scan_interval[0]); print('Upper error:', scan_interval[1] - fit)\n",
    "\n",
    "# Error of first index\n",
    "scan, fit, chi_sqrd = Errors(1)\n",
    "yreduced = np.array(chi_sqrd) - yToFind\n",
    "freduced = interpolate.UnivariateSpline(scan, yreduced, s=0)\n",
    "scan_interval = freduced.roots()\n",
    "print('alpha1'); print('Lower error:', fit - scan_interval[0]); print('Upper error:', scan_interval[1] - fit)\n",
    "\n",
    "#Error of second index\n",
    "scan, fit, chi_sqrd = Errors(2)\n",
    "yreduced = np.array(chi_sqrd) - yToFind\n",
    "freduced = interpolate.UnivariateSpline(scan, yreduced, s=0)\n",
    "scan_interval = freduced.roots()\n",
    "print('alpha2'); print('Lower error:', fit - scan_interval[0]); print('Upper error:', scan_interval[1] - fit)\n",
    "\n",
    "#Error of third index\n",
    "scan, fit, chi_sqrd = Errors(3)\n",
    "yreduced = np.array(chi_sqrd) - yToFind\n",
    "freduced = interpolate.UnivariateSpline(scan, yreduced, s=0)\n",
    "scan_interval = freduced.roots()\n",
    "print('alpha3'); print('Lower error:', fit - scan_interval[0]); print('Upper error:', scan_interval[1] - fit)"
   ]
  },
  {
   "cell_type": "code",
   "execution_count": 356,
   "id": "7e0357ae",
   "metadata": {},
   "outputs": [
    {
     "name": "stdout",
     "output_type": "stream",
     "text": [
      "omega1\n",
      "Lower error: 0.3399443386760483\n",
      "Upper error: 0.2984624907088992\n"
     ]
    },
    {
     "name": "stderr",
     "output_type": "stream",
     "text": [
      "/var/folders/j4/1fvnmc755y74k9kgn5w7_s400000gn/T/ipykernel_20712/3009060029.py:4: RuntimeWarning: overflow encountered in power\n",
      "  return K * (E/E0)**(-alpha1) * (1 + (E/Eb1)**(1/omega1))**(-delta1 * omega1) * (1 + (E/Eb2)**(1/omega2))**(-delta2 * omega2)\n",
      "/var/folders/j4/1fvnmc755y74k9kgn5w7_s400000gn/T/ipykernel_20712/3009060029.py:4: RuntimeWarning: divide by zero encountered in scalar divide\n",
      "  return K * (E/E0)**(-alpha1) * (1 + (E/Eb1)**(1/omega1))**(-delta1 * omega1) * (1 + (E/Eb2)**(1/omega2))**(-delta2 * omega2)\n"
     ]
    }
   ],
   "source": [
    "def Errors_omega(n):\n",
    "    \n",
    "    alpha1 = 2.80\n",
    "    alpha2 = 2.57\n",
    "    alpha3 = 2.87\n",
    "    Eb1 = 0.67 * 1e3 #GeV\n",
    "    Eb2 = 16 * 1e3 #GeV\n",
    "    omega1 = 0.27\n",
    "    omega2 = 0.35\n",
    "    K = 4.40 * 10**(-2) #(GeV m2 s sr)-1\n",
    "    output = minimize(Chi, (K, alpha1, alpha2, alpha3, omega1, omega2, Eb1, Eb2), method='L-BFGS-B')\n",
    "    best_fit_values = output['x']\n",
    "    \n",
    "    scan = np.zeros(100)\n",
    "    fit = best_fit_values[n]\n",
    "    for i in range(0, 50):\n",
    "        scan[i] = fit - (fit / 10)*i\n",
    "    for j in range(50, 100):\n",
    "        scan[j] = fit + (fit / 10)*j\n",
    "    scan = np.sort(scan)\n",
    "    \n",
    "    true_best_fit = Chi(best_fit_values)\n",
    "    chi_sqrd = np.zeros(100)\n",
    "    for k in range(0, 100):\n",
    "        best_fit_values[n] = scan[k]\n",
    "        scan_chi = Chi(best_fit_values)\n",
    "        chi_sqrd[k] = np.abs(true_best_fit - scan_chi)\n",
    "    return scan, fit, chi_sqrd\n",
    "\n",
    "# Find value for which chi^2 is equal to one\n",
    "yToFind = 9.30\n",
    "\n",
    "#Error of first width\n",
    "scan, fit, chi_sqrd = Errors_omega(4)\n",
    "yreduced = np.array(chi_sqrd) - yToFind\n",
    "freduced = interpolate.UnivariateSpline(scan, yreduced, s=0)\n",
    "scan_interval = freduced.roots()\n",
    "print('omega1'); print('Lower error:', fit - scan_interval[0]); print('Upper error:', scan_interval[3] - fit)"
   ]
  },
  {
   "cell_type": "code",
   "execution_count": 357,
   "id": "3a3a78a0",
   "metadata": {},
   "outputs": [
    {
     "name": "stdout",
     "output_type": "stream",
     "text": [
      "omega2\n",
      "Upper error: 1.0821760456174503\n"
     ]
    },
    {
     "name": "stderr",
     "output_type": "stream",
     "text": [
      "/var/folders/j4/1fvnmc755y74k9kgn5w7_s400000gn/T/ipykernel_20712/3009060029.py:4: RuntimeWarning: overflow encountered in power\n",
      "  return K * (E/E0)**(-alpha1) * (1 + (E/Eb1)**(1/omega1))**(-delta1 * omega1) * (1 + (E/Eb2)**(1/omega2))**(-delta2 * omega2)\n"
     ]
    },
    {
     "data": {
      "text/plain": [
       "<matplotlib.lines.Line2D at 0x156143fd0>"
      ]
     },
     "execution_count": 357,
     "metadata": {},
     "output_type": "execute_result"
    },
    {
     "data": {
      "image/png": "[encoded data removed]",
      "text/plain": [
       "<Figure size 640x480 with 1 Axes>"
      ]
     },
     "metadata": {},
     "output_type": "display_data"
    }
   ],
   "source": [
    "def Errors_omega(n):\n",
    "    \n",
    "    alpha1 = 2.80\n",
    "    alpha2 = 2.57\n",
    "    alpha3 = 2.87\n",
    "    Eb1 = 0.67 * 1e3 #GeV\n",
    "    Eb2 = 16 * 1e3 #GeV\n",
    "    omega1 = 0.27\n",
    "    omega2 = 0.35\n",
    "    K = 4.40 * 10**(-2) #(GeV m2 s sr)-1\n",
    "    output = minimize(Chi, (K, alpha1, alpha2, alpha3, omega1, omega2, Eb1, Eb2), method='L-BFGS-B')\n",
    "    best_fit_values = output['x']\n",
    "    \n",
    "    scan = np.zeros(1000)\n",
    "    fit = best_fit_values[n]\n",
    "    for i in range(0, 50):\n",
    "        scan[i] = fit - (fit / 100)*i\n",
    "    for j in range(50, 1000):\n",
    "        scan[j] = fit + (fit / 10)*j\n",
    "    scan = np.sort(scan)\n",
    "    \n",
    "    true_best_fit = Chi(best_fit_values)\n",
    "    chi_sqrd = np.zeros(1000)\n",
    "    for k in range(0, 1000):\n",
    "        best_fit_values[n] = scan[k]\n",
    "        scan_chi = Chi(best_fit_values)\n",
    "        chi_sqrd[k] = np.abs(true_best_fit - scan_chi)\n",
    "    return scan, fit, chi_sqrd\n",
    "\n",
    "# Find value for which chi^2 is equal to one\n",
    "yToFind = 9.30\n",
    "\n",
    "#Error of third index\n",
    "scan, fit, chi_sqrd = Errors_omega(5)\n",
    "yreduced = np.array(chi_sqrd) - yToFind\n",
    "freduced = interpolate.UnivariateSpline(scan, yreduced, s=0)\n",
    "scan_interval = freduced.roots()\n",
    "print('omega2'); #print('Lower error:', fit - scan_interval[0]); \n",
    "print('Upper error:', scan_interval[0] - fit)\n",
    "\n",
    "# Check chi^2 - chi^2_min distribution\n",
    "plt.plot(scan, chi_sqrd)\n",
    "plt.xlabel(r'$\\omega$', fontsize=15)\n",
    "plt.ylabel(r'$\\chi^2 - \\chi^2_{min}$', fontsize=15)\n",
    "plt.axvline(x = fit, color='black')\n",
    "plt.axvline(x = scan_interval[0], linestyle='--', color='black')"
   ]
  },
  {
   "cell_type": "code",
   "execution_count": 358,
   "id": "37a2dd32",
   "metadata": {},
   "outputs": [
    {
     "name": "stderr",
     "output_type": "stream",
     "text": [
      "/var/folders/j4/1fvnmc755y74k9kgn5w7_s400000gn/T/ipykernel_20712/3009060029.py:4: RuntimeWarning: overflow encountered in power\n",
      "  return K * (E/E0)**(-alpha1) * (1 + (E/Eb1)**(1/omega1))**(-delta1 * omega1) * (1 + (E/Eb2)**(1/omega2))**(-delta2 * omega2)\n"
     ]
    },
    {
     "name": "stdout",
     "output_type": "stream",
     "text": [
      "Eb1\n",
      "Lower error: 167.22960840207372\n",
      "Upper error: 300.8244552460005\n",
      "Eb2\n",
      "Lower error: 10216.47473897521\n"
     ]
    }
   ],
   "source": [
    "def Errors_energy(n):\n",
    "    \n",
    "    alpha1 = 2.80\n",
    "    alpha2 = 2.57\n",
    "    alpha3 = 2.87\n",
    "    Eb1 = 0.67 * 1e3 #GeV\n",
    "    Eb2 = 16 * 1e3 #GeV\n",
    "    omega1 = 0.27\n",
    "    omega2 = 0.35\n",
    "    K = 4.40 * 10**(-2) #(GeV m2 s sr)-1\n",
    "    output = minimize(Chi, (K, alpha1, alpha2, alpha3, omega1, omega2, Eb1, Eb2), method='L-BFGS-B')\n",
    "    best_fit_values = output['x']\n",
    "    \n",
    "    scan = np.zeros(500)\n",
    "    fit = best_fit_values[n]\n",
    "    for i in range(0, 70):\n",
    "        scan[i] = fit - (fit / 90)*i\n",
    "    for j in range(70, 500):\n",
    "        scan[j] = fit + (fit / 90)*j\n",
    "    scan = np.sort(scan)\n",
    "    \n",
    "    true_best_fit = Chi(best_fit_values)\n",
    "    chi_sqrd = np.zeros(500)\n",
    "    for k in range(0, 500):\n",
    "        best_fit_values[n] = scan[k]\n",
    "        scan_chi = Chi(best_fit_values)\n",
    "        chi_sqrd[k] = np.abs(true_best_fit - scan_chi)\n",
    "    return scan, fit, chi_sqrd\n",
    "\n",
    "# Find value for which chi^2 is equal to one\n",
    "yToFind = 9.30\n",
    "\n",
    "#Error of first energy\n",
    "scan, fit, chi_sqrd = Errors_energy(6)\n",
    "yreduced = np.array(chi_sqrd) - yToFind\n",
    "freduced = interpolate.UnivariateSpline(scan, yreduced, s=0)\n",
    "scan_interval = freduced.roots()\n",
    "print('Eb1'); print('Lower error:', fit - scan_interval[0]); print('Upper error:', scan_interval[1] - fit)\n",
    "\n",
    "#Error of second energy\n",
    "scan, fit, chi_sqrd = Errors_energy(7)\n",
    "yreduced = np.array(chi_sqrd) - yToFind\n",
    "freduced = interpolate.UnivariateSpline(scan, yreduced, s=0)\n",
    "scan_interval = freduced.roots()\n",
    "print('Eb2'); print('Lower error:', fit - scan_interval[0])\n",
    "\n",
    "# Check chi^2 - chi^2_min distribution\n",
    "#plt.plot(scan, chi_sqrd)\n",
    "#plt.xlabel('E [GeV]', fontsize=15)\n",
    "#plt.ylabel(r'$\\chi^2 - \\chi^2_{min}$', fontsize=15)\n",
    "#plt.axvline(x = fit, color='black')\n",
    "#plt.axvline(x = scan_interval[0], linestyle='--', color='black')"
   ]
  },
  {
   "cell_type": "code",
   "execution_count": 359,
   "id": "ddb502b5",
   "metadata": {},
   "outputs": [
    {
     "data": {
      "image/png": "[encoded data removed]",
      "text/plain": [
       "<Figure size 1000x700 with 1 Axes>"
      ]
     },
     "metadata": {},
     "output_type": "display_data"
    }
   ],
   "source": [
    "logE = np.arange(0,6,0.1)\n",
    "E = 10**logE\n",
    "Phi_us = Phi_twobreaks(E, best_fit_values[0], 0.1 * 1e3, best_fit_values[1], best_fit_values[2], best_fit_values[3], best_fit_values[4], best_fit_values[5], best_fit_values[6], best_fit_values[7])\n",
    "Phi_all = Phi_twobreaks(E, K_bestfit, 0.1 * 1e3, alpha1_bestfit, alpha2_bestfit, alpha3_bestfit, omega1_bestfit, omega2_bestfit, Eb1_bestfit, Eb2_bestfit)\n",
    "\n",
    "plt.figure(figsize=(10, 7))\n",
    "plt.errorbar(E_PAMELA, flux_PAMELA * E_PAMELA**2.7, yerr=error_PAMELA * E_PAMELA**2.7, fmt='o', color='red', label='PAMELA')\n",
    "plt.errorbar(E_AMS02, flux_AMS02 * E_AMS02**2.7, yerr=error_AMS02 * E_AMS02**2.7, fmt='s', color='orange', label='AMS02')\n",
    "plt.errorbar(E_DAMPE, flux_DAMPE * E_DAMPE**2.7, yerr=error_DAMPE * E_DAMPE**2.7, fmt='^', color='gold', label='DAMPE')\n",
    "plt.errorbar(E_CALET, flux_CALET * E_CALET**2.7, yerr=(error_CALET_low, error_CALET_up) * E_CALET**2.7, fmt='v', color='green', label='CALET')\n",
    "plt.errorbar(E_CREAM, flux_CREAM * E_CREAM**2.7, yerr=(error_CREAM_low, error_CREAM_up) * E_CREAM**2.7, fmt='d', color='cyan', label='CREAM')\n",
    "plt.errorbar(E_ATIC, flux_ATIC * E_ATIC**2.7, yerr=error_ATIC * E_ATIC**2.7, fmt='*', color='blue', label='ATIC')\n",
    "#plt.errorbar(E_NUCLEON, flux_NUCLEON * E_NUCLEON**2.7, yerr=error_NUCLEON * E_NUCLEON**2.7, fmt='p', color='purple', label='NUCLEON')\n",
    "plt.plot(E, Phi_us * E**2.7, color='black', label='Best fit (Me)')\n",
    "plt.plot(E, Phi_all * E**2.7, '--', color='black', label='Best fit (Lipari & Vernetto)')\n",
    "plt.loglog()\n",
    "plt.xlim(5e1,5e5)\n",
    "plt.ylim(4e3,3e4)\n",
    "plt.xlabel('E [GeV]', fontsize=17)\n",
    "plt.ylabel(r'$E^{2.7}\\phi(E)$ [GeV$^{1.7}$ (m$^2$ s sr)$^{-1}$]', fontsize=17)\n",
    "plt.legend(ncol=3, fontsize=14)\n",
    "plt.title('All detectors', fontsize=17)\n",
    "plt.savefig('Fits/joint_fit.png')"
   ]
  },
  {
   "cell_type": "markdown",
   "id": "4fe3e411",
   "metadata": {},
   "source": [
    "# My best fit values (without considering NUCLEON):\n",
    "### $\\alpha_1 = 2.797^{+0.029}_{-0.022}$\n",
    "### $\\alpha_2 = 2.563^{+0.073}_{-0.049}$\n",
    "### $\\alpha_3 = 2.871^{+0.531}_{-0.310}$\n",
    "### $E_b = 0.67^{+0.33}_{-0.18}$ TeV\n",
    "### $E_b' = 16_{-12}$ TeV\n",
    "### $\\omega = 0.251^{+0.347}_{-0.249}$\n",
    "### $\\omega' = 0.145^{+1.411}_{-0.145}$\n",
    "### $K_{0.1\\,TeV}/10^{-2} = 4.42\\pm0.08$ (m$^2$ s sr GeV)$^{-1}$\n",
    "### $\\chi^2_{min} = 11.43$"
   ]
  },
  {
   "cell_type": "code",
   "execution_count": null,
   "id": "38d8bebb",
   "metadata": {},
   "outputs": [],
   "source": []
  },
  {
   "cell_type": "code",
   "execution_count": null,
   "id": "cbab285a",
   "metadata": {},
   "outputs": [],
   "source": []
  }
 ],
 "metadata": {
  "kernelspec": {
   "display_name": "Python 3 (ipykernel)",
   "language": "python",
   "name": "python3"
  },
  "language_info": {
   "codemirror_mode": {
    "name": "ipython",
    "version": 3
   },
   "file_extension": ".py",
   "mimetype": "text/x-python",
   "name": "python",
   "nbconvert_exporter": "python",
   "pygments_lexer": "ipython3",
   "version": "3.11.5"
  }
 },
 "nbformat": 4,
 "nbformat_minor": 5
}
