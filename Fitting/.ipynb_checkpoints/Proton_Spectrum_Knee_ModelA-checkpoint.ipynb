{
 "cells": [
  {
   "cell_type": "markdown",
   "id": "fb791836",
   "metadata": {},
   "source": [
    "# MODEL A\n",
    "## Four spectral breaks using HE data by IceTop (Sibyll 2.1) "
   ]
  },
  {
   "cell_type": "code",
   "execution_count": 242,
   "id": "d9cba9ad",
   "metadata": {},
   "outputs": [],
   "source": [
    "from pylab import *\n",
    "from scipy.optimize import minimize\n",
    "from scipy import interpolate"
   ]
  },
  {
   "cell_type": "code",
   "execution_count": 243,
   "id": "8e9ff5ab",
   "metadata": {},
   "outputs": [],
   "source": [
    "m_p = 0.938 # Proton mass\n",
    "Z = 1 # Proton charge\n",
    "n = 1 # Number of nucleons in H"
   ]
  },
  {
   "cell_type": "markdown",
   "id": "977eff19",
   "metadata": {},
   "source": [
    "## Load data"
   ]
  },
  {
   "cell_type": "code",
   "execution_count": 259,
   "id": "38f3fc6a",
   "metadata": {},
   "outputs": [
    {
     "name": "stdout",
     "output_type": "stream",
     "text": [
      "PAMELA\n",
      "Number of data points: 21\n"
     ]
    }
   ],
   "source": [
    "data_PAMELA_H = np.genfromtxt(\"Data/Proton/PAMELA_H_data.txt\")\n",
    "R_PAMELA = data_PAMELA_H[:,1]\n",
    "E_PAMELA = (R_PAMELA * Z) - m_p\n",
    "flux_R_PAMELA = data_PAMELA_H[:,3]\n",
    "flux_PAMELA = flux_R_PAMELA * (R_PAMELA / ((Z * R_PAMELA) - m_p)) # Normalize to Ek\n",
    "error_PAMELA_stat = data_PAMELA_H[:,4] * (R_PAMELA / ((Z * R_PAMELA) - m_p)) # Normalize to Ek\n",
    "error_PAMELA_syst = data_PAMELA_H[:,5] * (R_PAMELA / ((Z * R_PAMELA) - m_p)) # Normalize to Ek\n",
    "error_PAMELA = np.sqrt(error_PAMELA_stat**2 + error_PAMELA_syst**2) \n",
    "\n",
    "# Consider E > 50 GeV\n",
    "index_PAMELA = np.where(np.logical_and(E_PAMELA>=5e1, E_PAMELA<=1e5))\n",
    "E_PAMELA = E_PAMELA[index_PAMELA]; flux_PAMELA = flux_PAMELA[index_PAMELA]; error_PAMELA = error_PAMELA[index_PAMELA]\n",
    "print('PAMELA')\n",
    "print('Number of data points:', len(E_PAMELA))"
   ]
  },
  {
   "cell_type": "code",
   "execution_count": 260,
   "id": "40bfd586",
   "metadata": {},
   "outputs": [
    {
     "name": "stdout",
     "output_type": "stream",
     "text": [
      "AMS02\n",
      "Number of data points: 29\n"
     ]
    }
   ],
   "source": [
    "data_AMS02_H = np.genfromtxt(\"Data/Proton/AMS02_H_data.txt\")\n",
    "R_AMS02 = data_AMS02_H[:,1]\n",
    "E_AMS02 = (R_AMS02 * Z) - m_p\n",
    "flux_R_AMS02 = data_AMS02_H[:,3]\n",
    "flux_AMS02 = flux_R_AMS02 * (R_AMS02 / ((Z * R_AMS02) - m_p)) # Normalize to Ek\n",
    "error_AMS02_stat = data_AMS02_H[:,4] * (R_AMS02 / ((Z * R_AMS02) - m_p)) # Normalize to Ek\n",
    "error_AMS02_syst = data_AMS02_H[:,5] * (R_AMS02 / ((Z * R_AMS02) - m_p)) # Normalize to Ek\n",
    "error_AMS02 = np.sqrt(error_AMS02_stat**2 + error_AMS02_syst**2)\n",
    "\n",
    "# Consider E > 50 GeV\n",
    "index_AMS02 = np.where(np.logical_and(E_AMS02>=5e1, E_AMS02<=1e5))\n",
    "E_AMS02 = E_AMS02[index_AMS02]; flux_AMS02 = flux_AMS02[index_AMS02]; error_AMS02 = error_AMS02[index_AMS02]\n",
    "print('AMS02')\n",
    "print('Number of data points:', len(E_AMS02))"
   ]
  },
  {
   "cell_type": "code",
   "execution_count": 261,
   "id": "0eca81cd",
   "metadata": {},
   "outputs": [
    {
     "name": "stdout",
     "output_type": "stream",
     "text": [
      "DAMPE\n",
      "Number of data points: 16\n"
     ]
    }
   ],
   "source": [
    "data_DAMPE_H = np.genfromtxt(\"Data/Proton/DAMPE_H_data.txt\")\n",
    "E_DAMPE = data_DAMPE_H[:,1]\n",
    "flux_DAMPE = data_DAMPE_H[:,3]\n",
    "error_DAMPE_stat = data_DAMPE_H[:,4]\n",
    "error_DAMPE_syst = data_DAMPE_H[:,5]\n",
    "error_DAMPE = np.sqrt(error_DAMPE_stat**2 + error_DAMPE_syst**2)\n",
    "\n",
    "# Consider E > 50 GeV\n",
    "index_DAMPE = np.where(np.logical_and(E_DAMPE>=5e1, E_DAMPE<=1e5))\n",
    "E_DAMPE = E_DAMPE[index_DAMPE]; flux_DAMPE = flux_DAMPE[index_DAMPE]; error_DAMPE = error_DAMPE[index_DAMPE]\n",
    "print('DAMPE')\n",
    "print('Number of data points:', len(E_DAMPE))"
   ]
  },
  {
   "cell_type": "code",
   "execution_count": 262,
   "id": "f3d2c187",
   "metadata": {},
   "outputs": [
    {
     "name": "stdout",
     "output_type": "stream",
     "text": [
      "CALET\n",
      "Number of data points: 23\n"
     ]
    }
   ],
   "source": [
    "data_CALET_H = np.genfromtxt(\"Data/Proton/CALET_H_data.txt\")\n",
    "E_CALET = data_CALET_H[:,1]\n",
    "flux_CALET = data_CALET_H[:,3]\n",
    "error_CALET_stat = data_CALET_H[:,4]\n",
    "error_CALET_syst_low = data_CALET_H[:,5]\n",
    "error_CALET_syst_up = data_CALET_H[:,6]\n",
    "error_CALET_low = np.sqrt(error_CALET_stat**2 + error_CALET_syst_low**2)\n",
    "error_CALET_up = np.sqrt(error_CALET_stat**2 + error_CALET_syst_up**2)\n",
    "\n",
    "# Consider E > 50 GeV\n",
    "index_CALET = np.where(np.logical_and(E_CALET>=5e1, E_CALET<=1e5))\n",
    "E_CALET = E_CALET[index_CALET]; flux_CALET = flux_CALET[index_CALET]; error_CALET_low = error_CALET_low[index_CALET]; error_CALET_up = error_CALET_up[index_CALET]\n",
    "print('CALET')\n",
    "print('Number of data points:', len(E_CALET))"
   ]
  },
  {
   "cell_type": "code",
   "execution_count": 263,
   "id": "732e9232",
   "metadata": {},
   "outputs": [
    {
     "name": "stdout",
     "output_type": "stream",
     "text": [
      "CREAM\n",
      "Number of data points: 12\n"
     ]
    }
   ],
   "source": [
    "data_CREAM_H = np.genfromtxt(\"Data/Proton/CREAM_H_data.txt\")\n",
    "E_CREAM = data_CREAM_H[:,1] * n\n",
    "flux_CREAM = data_CREAM_H[:,3] / n\n",
    "error_CREAM_stat_low = data_CREAM_H[:,4] / n\n",
    "error_CREAM_stat_up = data_CREAM_H[:,5] / n\n",
    "error_CREAM_syst = data_CREAM_H[:,6] / n\n",
    "error_CREAM_low = np.sqrt(error_CREAM_stat_low**2 + error_CREAM_syst**2)\n",
    "error_CREAM_up = np.sqrt(error_CREAM_stat_up**2 + error_CREAM_syst**2)\n",
    "\n",
    "# Consider E > 50 GeV\n",
    "index_CREAM = np.where(np.logical_and(E_CREAM>=5e1, E_CREAM<=5e5))\n",
    "E_CREAM = E_CREAM[index_CREAM]; flux_CREAM = flux_CREAM[index_CREAM]; error_CREAM_low = error_CREAM_low[index_CREAM]; error_CREAM_up = error_CREAM_up[index_CREAM]\n",
    "print('CREAM')\n",
    "print('Number of data points:', len(E_CREAM))"
   ]
  },
  {
   "cell_type": "code",
   "execution_count": 264,
   "id": "763d3540",
   "metadata": {},
   "outputs": [
    {
     "name": "stdout",
     "output_type": "stream",
     "text": [
      "ATIC\n",
      "Number of data points: 14\n"
     ]
    }
   ],
   "source": [
    "data_ATIC_H = np.genfromtxt(\"Data/Proton/ATIC_H_data.txt\")\n",
    "E_ATIC = data_ATIC_H[:,1] - m_p\n",
    "flux_ATIC = data_ATIC_H[:,3] * (E_ATIC / (E_ATIC - m_p)) # Normalize to Ek\n",
    "error_ATIC_stat = data_ATIC_H[:,4] * (E_ATIC / (E_ATIC - m_p)) # Normalize to Ek\n",
    "error_ATIC_syst = data_ATIC_H[:,3]*0.2 * (E_ATIC / (E_ATIC - m_p)) # Estimated systemtaic error of 20%\n",
    "error_ATIC = np.sqrt(error_ATIC_stat**2 + error_ATIC_syst**2)\n",
    "\n",
    "# Consider E > 50 GeV\n",
    "index_ATIC = np.where(np.logical_and(E_ATIC>=5e1, E_ATIC<=1e5))\n",
    "E_ATIC = E_ATIC[index_ATIC]; flux_ATIC = flux_ATIC[index_ATIC]; error_ATIC = error_ATIC[index_ATIC]\n",
    "print('ATIC')\n",
    "print('Number of data points:', len(E_ATIC))"
   ]
  },
  {
   "cell_type": "code",
   "execution_count": 265,
   "id": "8d328995",
   "metadata": {},
   "outputs": [
    {
     "name": "stdout",
     "output_type": "stream",
     "text": [
      "GRAPES-3\n",
      "Number of data points: 8\n"
     ]
    }
   ],
   "source": [
    "data_GRAPES_H = np.genfromtxt(\"Data/Proton/GRAPES_H_data.txt\")\n",
    "E_GRAPES = data_GRAPES_H[:,0] - m_p\n",
    "flux_GRAPES = data_GRAPES_H[:,2] * (E_GRAPES / (E_GRAPES - m_p)) # Normalize to Ek\n",
    "error_GRAPES_stat = data_GRAPES_H[:,3] * (E_GRAPES / (E_GRAPES - m_p)) # Normalize to Ek\n",
    "error_GRAPES_syst_low = data_GRAPES_H[:,5] * (E_GRAPES / (E_GRAPES - m_p)) # Normalize to Ek\n",
    "error_GRAPES_syst_up = data_GRAPES_H[:,4] * (E_GRAPES / (E_GRAPES - m_p)) # Normalize to Ek\n",
    "error_GRAPES_low = np.sqrt(error_GRAPES_stat**2 + error_GRAPES_syst_low**2)\n",
    "error_GRAPES_up = np.sqrt(error_GRAPES_stat**2 + error_GRAPES_syst_up**2)\n",
    "\n",
    "# Consider E > 50 GeV\n",
    "index_GRAPES = np.where(np.logical_and(E_GRAPES>=5e1, E_GRAPES<=1e7))\n",
    "E_GRAPES = E_GRAPES[index_GRAPES]; flux_GRAPES = flux_GRAPES[index_GRAPES]; error_GRAPES_low = error_GRAPES_low[index_GRAPES]; error_GRAPES_up = error_GRAPES_up[index_GRAPES]\n",
    "print('GRAPES-3')\n",
    "print('Number of data points:', len(E_GRAPES))"
   ]
  },
  {
   "cell_type": "code",
   "execution_count": 266,
   "id": "9f6a4ef1",
   "metadata": {},
   "outputs": [
    {
     "name": "stdout",
     "output_type": "stream",
     "text": [
      "IceTop\n",
      "Number of data points: 20\n"
     ]
    }
   ],
   "source": [
    "data_ICECUBE_H = np.genfromtxt(\"Data/Proton/ICECUBE_H_data.txt\")\n",
    "E_ICECUBE = data_ICECUBE_H[:,1] - m_p\n",
    "flux_ICECUBE = data_ICECUBE_H[:,3] * (E_ICECUBE / (E_ICECUBE - m_p)) # Normalize to Ek\n",
    "error_ICECUBE_stat_low = data_ICECUBE_H[:,4] * (E_ICECUBE / (E_ICECUBE - m_p)) # Normalize to Ek\n",
    "error_ICECUBE_stat_up = data_ICECUBE_H[:,4] * (E_ICECUBE / (E_ICECUBE - m_p)) # Normalize to Ek\n",
    "error_ICECUBE_syst_low = data_ICECUBE_H[:,4] * (E_ICECUBE / (E_ICECUBE - m_p)) # Normalize to Ek\n",
    "error_ICECUBE_syst_up = data_ICECUBE_H[:,4] * (E_ICECUBE / (E_ICECUBE - m_p)) # Normalize to Ek\n",
    "error_ICECUBE_low = np.sqrt(error_ICECUBE_stat_low**2 + error_ICECUBE_syst_low**2)\n",
    "error_ICECUBE_up = np.sqrt(error_ICECUBE_stat_up**2 + error_ICECUBE_syst_up**2)\n",
    "\n",
    "# Consider E > 50 GeV\n",
    "index_ICECUBE = np.where(np.logical_and(E_ICECUBE>=5e1, E_ICECUBE<=1e9))\n",
    "E_ICECUBE = E_ICECUBE[index_ICECUBE]; flux_ICECUBE = flux_ICECUBE[index_ICECUBE]; error_ICECUBE_low = error_ICECUBE_low[index_ICECUBE]; error_ICECUBE_up = error_ICECUBE_up[index_ICECUBE]\n",
    "print('IceTop')\n",
    "print('Number of data points:', len(E_ICECUBE))"
   ]
  },
  {
   "cell_type": "code",
   "execution_count": 267,
   "id": "66992441",
   "metadata": {},
   "outputs": [],
   "source": [
    "data_KASCADE_H_2005GQS = np.genfromtxt(\"Data/Proton/KASCADE_H_data_QGSJet01.txt\")\n",
    "E_KASCADE_2005GQS = data_KASCADE_H_2005GQS[:,1] - m_p\n",
    "flux_KASCADE_2005GQS = data_KASCADE_H_2005GQS[:,3] * (E_KASCADE_2005GQS / (E_KASCADE_2005GQS - m_p)) # Normalize to Ek\n",
    "error_KASCADE_2005GQS = data_KASCADE_H_2005GQS[:,4]  * (E_KASCADE_2005GQS / (E_KASCADE_2005GQS - m_p)) # Normalize to Ek"
   ]
  },
  {
   "cell_type": "code",
   "execution_count": 268,
   "id": "0ef41a63",
   "metadata": {},
   "outputs": [],
   "source": [
    "data_KASCADE_H_2005Sibyll = np.genfromtxt(\"Data/Proton/KASCADE_H_data_Sibyll2.1.txt\")\n",
    "E_KASCADE_2005Sibyll = data_KASCADE_H_2005Sibyll[:,1] - m_p\n",
    "flux_KASCADE_2005Sibyll = data_KASCADE_H_2005Sibyll[:,3] * (E_KASCADE_2005Sibyll / (E_KASCADE_2005Sibyll - m_p)) # Normalize to Ek\n",
    "error_KASCADE_2005Sibyll_low = data_KASCADE_H_2005Sibyll[:,4] * (E_KASCADE_2005Sibyll / (E_KASCADE_2005Sibyll - m_p)) # Normalize to Ek\n",
    "error_KASCADE_2005Sibyll_up = data_KASCADE_H_2005Sibyll[:,5] * (E_KASCADE_2005Sibyll / (E_KASCADE_2005Sibyll - m_p)) # Normalize to Ek"
   ]
  },
  {
   "cell_type": "code",
   "execution_count": 269,
   "id": "720ede1f",
   "metadata": {},
   "outputs": [
    {
     "name": "stdout",
     "output_type": "stream",
     "text": [
      "KASCADE\n",
      "Number of data points: 20\n"
     ]
    }
   ],
   "source": [
    "data_KASCADE_H_2011GQS = np.genfromtxt(\"Data/Proton/KASCADE_H_data_QGSJet2.txt\")\n",
    "E_KASCADE_2011GQS = (data_KASCADE_H_2011GQS[:,0] / 1e9) - m_p\n",
    "flux_KASCADE_2011GQS = (data_KASCADE_H_2011GQS[:,1] * 1e9) * (E_KASCADE_2011GQS / (E_KASCADE_2011GQS - m_p)) # Normalize to Ek\n",
    "error_KASCADE_2011GQS_low = (data_KASCADE_H_2011GQS[:,2] * 1e9) * (E_KASCADE_2011GQS / (E_KASCADE_2011GQS - m_p)) # Normalize to Ek\n",
    "error_KASCADE_2011GQS_up = (data_KASCADE_H_2011GQS[:,3]* 1e9) * (E_KASCADE_2011GQS / (E_KASCADE_2011GQS - m_p)) # Normalize to Ek\n",
    "\n",
    "# Consider E > 50 GeV\n",
    "index_KASCADE_2011GQS = np.where(np.logical_and(E_KASCADE_2011GQS>=5e1, E_KASCADE_2011GQS<=1e9))\n",
    "E_KASCADE_2011GQS = E_KASCADE_2011GQS[index_KASCADE_2011GQS]; flux_KASCADE_2011GQS = flux_KASCADE_2011GQS[index_KASCADE_2011GQS]\n",
    "error_KASCADE_2011GQS_low = error_KASCADE_2011GQS_low[index_KASCADE_2011GQS]; error_KASCADE_2011GQS_up = error_KASCADE_2011GQS_up[index_KASCADE_2011GQS]\n",
    "print('KASCADE')\n",
    "print('Number of data points:', len(E_KASCADE_2011GQS))"
   ]
  },
  {
   "cell_type": "markdown",
   "id": "b5233cdb",
   "metadata": {},
   "source": [
    "## Model"
   ]
  },
  {
   "cell_type": "code",
   "execution_count": 270,
   "id": "e30dd682",
   "metadata": {},
   "outputs": [],
   "source": [
    "def Phi_A(E, K, E0, alpha1, alpha2, alpha3, alpha4, alpha5, omega1, omega2, omega3, omega4, Eb1, Eb2, Eb3, Eb4):\n",
    "    delta1 = alpha2 - alpha1\n",
    "    delta2 = alpha3 - alpha2\n",
    "    delta3 = alpha4 - alpha3\n",
    "    delta4 = alpha5 - alpha4\n",
    "    return K * (E / E0)**(-alpha3) * (1 + (E / Eb1)**(1 / omega1))**(-delta1 * omega1) * (1 + (E / Eb2)**(1 / omega2))**(-delta2 * omega2) * (1 + ((E/1e6) / Eb3)**(1 / omega3))**(-delta3 * omega3) * (1 + ((E/1e6) / Eb4)**(1 / omega4))**(-delta4 * omega4)"
   ]
  },
  {
   "cell_type": "markdown",
   "id": "bcc1f748",
   "metadata": {},
   "source": [
    "## Fitting using IceTop data"
   ]
  },
  {
   "cell_type": "code",
   "execution_count": 271,
   "id": "d68f1371",
   "metadata": {},
   "outputs": [],
   "source": [
    "# Joint chi^2\n",
    "def Chi_A(parameters):\n",
    "    K, alpha3, alpha4, alpha5, omega3, omega4, Eb3, Eb4 = parameters\n",
    "    \n",
    "    E = np.append( np.append( np.append( np.append( np.append( np.append( np.append(E_PAMELA, E_AMS02), E_ATIC ), E_CREAM), E_CALET), E_DAMPE), E_GRAPES), E_ICECUBE)\n",
    "    Flux = np.append( np.append( np.append( np.append( np.append( np.append( np.append(flux_PAMELA, flux_AMS02), flux_ATIC ), flux_CREAM), flux_CALET), flux_DAMPE), flux_GRAPES), flux_ICECUBE)\n",
    "    Sigma = np.append( np.append( np.append( np.append( np.append( np.append( np.append(2*error_PAMELA, 2*error_AMS02), 2*error_ATIC ), error_CREAM_low+error_CREAM_up), error_CALET_low+error_CALET_up), 2*error_DAMPE), error_GRAPES_low+error_GRAPES_up), error_ICECUBE_low+error_ICECUBE_up)\n",
    "    \n",
    "    E0 = 0.1 * 1e3 #GeV\n",
    "    alpha1 = 2.805\n",
    "    alpha2 = 2.56\n",
    "    omega1 = 0.28\n",
    "    omega2 = 0.163\n",
    "    Eb1 = 0.670 * 1e3 #GeV\n",
    "    Eb2 = 16 * 1e3 #GeV\n",
    "    \n",
    "    Phi_model = Phi_A(E, K, E0, alpha1, alpha2, alpha3, alpha4, alpha5, omega1, omega2, omega3, omega4, Eb1, Eb2, Eb3, Eb4)\n",
    "    \n",
    "    return sum( (Phi_model - Flux)**2 / Sigma**2 ) "
   ]
  },
  {
   "cell_type": "code",
   "execution_count": 272,
   "id": "1c2e7fe5",
   "metadata": {},
   "outputs": [
    {
     "name": "stdout",
     "output_type": "stream",
     "text": [
      "Success: True\n"
     ]
    }
   ],
   "source": [
    "# Initial guesses\n",
    "K_bestfit = 4.46 * 10**(-2) #(GeV m2 s sr)-1\n",
    "alpha3_bestfit = 2.874\n",
    "alpha4_bestfit = 2.7\n",
    "alpha5_bestfit = 3.1\n",
    "omega3_bestfit = 0.1\n",
    "omega4_bestfit = 0.1\n",
    "Eb3_bestfit = 0.2  #TeV\n",
    "Eb4_bestfit = 3 #PeV\n",
    "\n",
    "# Minimization of chi^2\n",
    "output = minimize(Chi_A, (K_bestfit, alpha3_bestfit, alpha4_bestfit, alpha5_bestfit, omega3_bestfit, omega4_bestfit, Eb3_bestfit, Eb4_bestfit), method='L-BFGS-B')\n",
    "best_fit_values = output['x']\n",
    "print('Success:', output['success'])"
   ]
  },
  {
   "cell_type": "code",
   "execution_count": 285,
   "id": "25448d89",
   "metadata": {},
   "outputs": [
    {
     "name": "stdout",
     "output_type": "stream",
     "text": [
      "MY BEST FIT VALUES:\n",
      "K: 0.0447834\n",
      "alpha_3: 2.805\n",
      "alpha_4: 0.647\n",
      "alpha_5: 4.363\n",
      "omega3: 0.976\n",
      "omega4: 1.449\n",
      "E3: 0.687 PeV\n",
      "E4: 3.874 PeV\n",
      "\n",
      "chi^2_min: 22.6693428\n",
      "N_dof: 143\n",
      "Reduced chi^2_min: 0.1585269\n"
     ]
    }
   ],
   "source": [
    "# Best fit values\n",
    "print('MY BEST FIT VALUES:')\n",
    "# Normalization\n",
    "print('K:', round(best_fit_values[0],7)); \n",
    "# Spectral indices\n",
    "print('alpha_3:', round(best_fit_values[1],3)); print('alpha_4:', round(best_fit_values[2],3));\n",
    "print('alpha_5:', round(best_fit_values[3],3))\n",
    "# Widths\n",
    "print('omega3:', round(best_fit_values[4],3)); print('omega4:', round(best_fit_values[5],3)); \n",
    "# Energies\n",
    "print('E3:', round(best_fit_values[6],3), 'PeV'); print('E4:', round(best_fit_values[7],3), 'PeV')\n",
    "\n",
    "print('')\n",
    "\n",
    "min_chi = Chi_A(best_fit_values)\n",
    "n_dof = len(E_PAMELA) + len(E_AMS02) + len(E_ATIC) + len(E_CREAM) + len(E_CALET) + len(E_DAMPE) + len(E_GRAPES) + len(E_ICECUBE)\n",
    "print('chi^2_min:', round(min_chi,7))\n",
    "print('N_dof:', n_dof)\n",
    "print('Reduced chi^2_min:', round(min_chi / n_dof,7))"
   ]
  },
  {
   "cell_type": "code",
   "execution_count": 286,
   "id": "f44c305a",
   "metadata": {},
   "outputs": [
    {
     "name": "stdout",
     "output_type": "stream",
     "text": [
      "K\n",
      "Lower error: 0.000763150267908054\n",
      "Upper error: 0.0007551244382504527\n"
     ]
    },
    {
     "name": "stderr",
     "output_type": "stream",
     "text": [
      "/var/folders/j4/1fvnmc755y74k9kgn5w7_s400000gn/T/ipykernel_20156/2512049160.py:6: RuntimeWarning: overflow encountered in power\n",
      "  return K * (E / E0)**(-alpha3) * (1 + (E / Eb1)**(1 / omega1))**(-delta1 * omega1) * (1 + (E / Eb2)**(1 / omega2))**(-delta2 * omega2) * (1 + ((E/1e6) / Eb3)**(1 / omega3))**(-delta3 * omega3) * (1 + ((E/1e6) / Eb4)**(1 / omega4))**(-delta4 * omega4)\n"
     ]
    }
   ],
   "source": [
    "def Errors_A_K(n):\n",
    "    \n",
    "    K_bestfit = 4.46 * 10**(-2) #(GeV m2 s sr)-1\n",
    "    alpha3_bestfit = 2.874\n",
    "    alpha4_bestfit = 2.7\n",
    "    alpha5_bestfit = 3.1\n",
    "    omega3_bestfit = 0.1\n",
    "    omega4_bestfit = 0.1\n",
    "    Eb3_bestfit = 0.2  #PeV\n",
    "    Eb4_bestfit = 3 #PeV\n",
    "\n",
    "    output = minimize(Chi_A, (K_bestfit, alpha3_bestfit, alpha4_bestfit, alpha5_bestfit, omega3_bestfit, omega4_bestfit, Eb3_bestfit, Eb4_bestfit), method='Nelder-Mead')\n",
    "    best_fit_values = output['x']\n",
    "    \n",
    "    scan = np.zeros(50)\n",
    "    fit = best_fit_values[n]\n",
    "    for i in range(0, 25):\n",
    "        scan[i] = fit - (fit / 100)*i\n",
    "    for j in range(25, 50):\n",
    "        scan[j] = fit + (fit / 100)*j\n",
    "    scan = np.sort(scan)\n",
    "    \n",
    "    true_best_fit = Chi_A(best_fit_values)\n",
    "    chi_sqrd = np.zeros(50)\n",
    "    for k in range(0, 50):\n",
    "        best_fit_values[n] = scan[k]\n",
    "        scan_chi = Chi_A(best_fit_values)\n",
    "        chi_sqrd[k] = np.abs(true_best_fit - scan_chi)\n",
    "    return scan, fit, chi_sqrd\n",
    "\n",
    "# Find value for which chi^2 is equal to one\n",
    "yToFind = 9.30\n",
    "\n",
    "# Error of normilization\n",
    "scan, fit, chi_sqrd = Errors_A_K(0)\n",
    "yreduced = np.array(chi_sqrd) - yToFind\n",
    "freduced = interpolate.UnivariateSpline(scan, yreduced, s=0)\n",
    "scan_interval = freduced.roots()\n",
    "print('K'); print('Lower error:', fit - scan_interval[0]); print('Upper error:', scan_interval[1] - fit)"
   ]
  },
  {
   "cell_type": "code",
   "execution_count": 287,
   "id": "ca290901",
   "metadata": {},
   "outputs": [
    {
     "name": "stderr",
     "output_type": "stream",
     "text": [
      "/var/folders/j4/1fvnmc755y74k9kgn5w7_s400000gn/T/ipykernel_20156/2512049160.py:6: RuntimeWarning: overflow encountered in power\n",
      "  return K * (E / E0)**(-alpha3) * (1 + (E / Eb1)**(1 / omega1))**(-delta1 * omega1) * (1 + (E / Eb2)**(1 / omega2))**(-delta2 * omega2) * (1 + ((E/1e6) / Eb3)**(1 / omega3))**(-delta3 * omega3) * (1 + ((E/1e6) / Eb4)**(1 / omega4))**(-delta4 * omega4)\n"
     ]
    },
    {
     "name": "stdout",
     "output_type": "stream",
     "text": [
      "alpha3\n",
      "Lower error: 0.007690010391497637\n",
      "Upper error: 0.041308999455691\n",
      "alpha4\n",
      "Lower error: 0.10615868966644681\n",
      "Upper error: 0.1896495595783123\n",
      "alpha5\n",
      "Lower error: 0.32414860110367494\n",
      "Upper error: 0.9672848194957897\n"
     ]
    }
   ],
   "source": [
    "def Errors_A_alpha(n):\n",
    "    \n",
    "    K_bestfit = 4.46 * 10**(-2) #(GeV m2 s sr)-1\n",
    "    alpha3_bestfit = 2.874\n",
    "    alpha4_bestfit = 2.7\n",
    "    alpha5_bestfit = 3.1\n",
    "    omega3_bestfit = 0.1\n",
    "    omega4_bestfit = 0.1\n",
    "    Eb3_bestfit = 0.2  #PeV\n",
    "    Eb4_bestfit = 3 #PeV\n",
    "\n",
    "    output = minimize(Chi_A, (K_bestfit, alpha3_bestfit, alpha4_bestfit, alpha5_bestfit, omega3_bestfit, omega4_bestfit, Eb3_bestfit, Eb4_bestfit), method='Nelder-Mead')\n",
    "    best_fit_values = output['x']\n",
    "    \n",
    "    scan = np.zeros(30)\n",
    "    fit = best_fit_values[n]\n",
    "    for i in range(0, 20):\n",
    "        scan[i] = fit - (fit / 100)*i\n",
    "    for j in range(20, 30):\n",
    "        scan[j] = fit + (fit / 100)*j\n",
    "    scan = np.sort(scan)\n",
    "    \n",
    "    true_best_fit = Chi_A(best_fit_values)\n",
    "    chi_sqrd = np.zeros(30)\n",
    "    for k in range(0, 30):\n",
    "        best_fit_values[n] = scan[k]\n",
    "        scan_chi = Chi_A(best_fit_values)\n",
    "        chi_sqrd[k] = np.abs(true_best_fit - scan_chi)\n",
    "    return scan, fit, chi_sqrd\n",
    "\n",
    "# Find value for which chi^2 is equal to one\n",
    "yToFind = 9.30\n",
    "\n",
    "# Error of third index\n",
    "scan, fit, chi_sqrd = Errors_A_alpha(1)\n",
    "yreduced = np.array(chi_sqrd) - yToFind\n",
    "freduced = interpolate.UnivariateSpline(scan, yreduced, s=0)\n",
    "scan_interval = freduced.roots()\n",
    "print('alpha3'); print('Lower error:', fit - scan_interval[0]); print('Upper error:', scan_interval[1] - fit)\n",
    "\n",
    "#Error of fourth index\n",
    "scan, fit, chi_sqrd = Errors_A_alpha(2)\n",
    "yreduced = np.array(chi_sqrd) - yToFind\n",
    "freduced = interpolate.UnivariateSpline(scan, yreduced, s=0)\n",
    "scan_interval = freduced.roots()\n",
    "print('alpha4'); print('Lower error:', fit - scan_interval[0]); print('Upper error:', scan_interval[1] - fit)\n",
    "\n",
    "#print(chi_sqrd)\n",
    "\n",
    "# Check chi^2 - chi^2_min distribution\n",
    "#plt.plot(scan, scan_chi_all)\n",
    "#plt.plot(scan, chi_sqrd)\n",
    "#plt.axvline(x = fit, color='black')\n",
    "#plt.axvline(x = scan_interval[0], linestyle='--', color='black')\n",
    "\n",
    "#Error of fifth index\n",
    "scan, fit, chi_sqrd = Errors_A_alpha(3)\n",
    "yreduced = np.array(chi_sqrd) - yToFind\n",
    "freduced = interpolate.UnivariateSpline(scan, yreduced, s=0)\n",
    "scan_interval = freduced.roots()\n",
    "print('alpha5'); print('Lower error:', fit - scan_interval[0]); print('Upper error:', scan_interval[1] - fit)\n",
    "\n",
    "#print(chi_sqrd)\n",
    "\n",
    "# Check chi^2 - chi^2_min distribution\n",
    "#plt.plot(scan, scan_chi_all)\n",
    "#plt.plot(scan, chi_sqrd)\n",
    "#plt.axvline(x = fit, color='black')\n",
    "#plt.axvline(x = scan_interval[0], linestyle='--', color='black')"
   ]
  },
  {
   "cell_type": "code",
   "execution_count": 288,
   "id": "c24e13ad",
   "metadata": {},
   "outputs": [
    {
     "name": "stdout",
     "output_type": "stream",
     "text": [
      "omega3\n",
      "Upper error: 1.512218744525216\n"
     ]
    },
    {
     "name": "stderr",
     "output_type": "stream",
     "text": [
      "/var/folders/j4/1fvnmc755y74k9kgn5w7_s400000gn/T/ipykernel_20156/2512049160.py:6: RuntimeWarning: overflow encountered in power\n",
      "  return K * (E / E0)**(-alpha3) * (1 + (E / Eb1)**(1 / omega1))**(-delta1 * omega1) * (1 + (E / Eb2)**(1 / omega2))**(-delta2 * omega2) * (1 + ((E/1e6) / Eb3)**(1 / omega3))**(-delta3 * omega3) * (1 + ((E/1e6) / Eb4)**(1 / omega4))**(-delta4 * omega4)\n"
     ]
    },
    {
     "name": "stdout",
     "output_type": "stream",
     "text": [
      "omega4\n",
      "Lower error: 0.004204233044163116\n",
      "Upper error: 0.00452491317084984\n"
     ]
    }
   ],
   "source": [
    "def Errors_A_width(n,m):\n",
    "    \n",
    "    K_bestfit = 4.46 * 10**(-2) #(GeV m2 s sr)-1\n",
    "    alpha3_bestfit = 2.874\n",
    "    alpha4_bestfit = 2.7\n",
    "    alpha5_bestfit = 3.1\n",
    "    omega3_bestfit = 0.1\n",
    "    omega4_bestfit = 0.1\n",
    "    Eb3_bestfit = 0.2  #PeV\n",
    "    Eb4_bestfit = 3 #PeV\n",
    "\n",
    "    output = minimize(Chi_A, (K_bestfit, alpha3_bestfit, alpha4_bestfit, alpha5_bestfit, omega3_bestfit, omega4_bestfit, Eb3_bestfit, Eb4_bestfit), method='Nelder-Mead')\n",
    "    best_fit_values = output['x']\n",
    "    \n",
    "    scan = np.zeros(500)\n",
    "    scan_chi_all = np.zeros(500)\n",
    "    fit = best_fit_values[n]\n",
    "    for i in range(0, m):\n",
    "        scan[i] = fit - (fit / 20)*i\n",
    "    for j in range(m, 500):\n",
    "        scan[j] = fit + (fit / 10)*j\n",
    "    scan = np.sort(scan)\n",
    "    \n",
    "    true_best_fit = Chi_A(best_fit_values)\n",
    "    chi_sqrd = np.zeros(500)\n",
    "    for k in range(0, 500):\n",
    "        best_fit_values[n] = scan[k]\n",
    "        scan_chi = Chi_A(best_fit_values)\n",
    "        chi_sqrd[k] = np.abs(true_best_fit - scan_chi)\n",
    "        scan_chi_all[k] = Chi_A(best_fit_values)\n",
    "    return scan, fit, chi_sqrd, scan_chi_all\n",
    "\n",
    "# Find value for which chi^2 is equal to one\n",
    "yToFind = 9.30\n",
    "\n",
    "#Error of third width\n",
    "scan, fit, chi_sqrd, scan_chi_all = Errors_A_width(4,10)\n",
    "yreduced = np.array(chi_sqrd) - yToFind\n",
    "freduced = interpolate.UnivariateSpline(scan, yreduced, s=0)\n",
    "scan_interval = freduced.roots()\n",
    "print('omega3'); #print('Lower error:', fit - scan_interval[0]); \n",
    "print('Upper error:', scan_interval[0] - fit)\n",
    "\n",
    "#print(chi_sqrd)\n",
    "\n",
    "# Check chi^2 - chi^2_min distribution\n",
    "#plt.plot(scan, scan_chi_all)\n",
    "#plt.plot(scan, chi_sqrd)\n",
    "#plt.axvline(x = fit, color='black')\n",
    "#plt.axvline(x = scan_interval[0], linestyle='--', color='black')\n",
    "\n",
    "#Error of fourth width\n",
    "scan, fit, chi_sqrd, scan_chi = Errors_A_width(5,20)\n",
    "yreduced = np.array(chi_sqrd) - yToFind\n",
    "freduced = interpolate.UnivariateSpline(scan, yreduced, s=0)\n",
    "scan_interval = freduced.roots()\n",
    "print('omega4'); print('Lower error:', fit - scan_interval[0]); print('Upper error:', scan_interval[1] - fit)\n",
    "\n",
    "#print(chi_sqrd)\n",
    "\n",
    "# Check chi^2 - chi^2_min distribution\n",
    "#plt.plot(scan, scan_chi_all)\n",
    "#plt.plot(scan, chi_sqrd)\n",
    "#plt.axvline(x = fit, color='black')\n",
    "#plt.axvline(x = scan_interval[0], linestyle='--', color='black')"
   ]
  },
  {
   "cell_type": "code",
   "execution_count": 289,
   "id": "2b9b21d4",
   "metadata": {},
   "outputs": [
    {
     "name": "stdout",
     "output_type": "stream",
     "text": [
      "E3\n",
      "Lower error: 0.2034361517651131\n",
      "Upper error: 4.607353222074775\n"
     ]
    },
    {
     "name": "stderr",
     "output_type": "stream",
     "text": [
      "/var/folders/j4/1fvnmc755y74k9kgn5w7_s400000gn/T/ipykernel_20156/2512049160.py:6: RuntimeWarning: overflow encountered in power\n",
      "  return K * (E / E0)**(-alpha3) * (1 + (E / Eb1)**(1 / omega1))**(-delta1 * omega1) * (1 + (E / Eb2)**(1 / omega2))**(-delta2 * omega2) * (1 + ((E/1e6) / Eb3)**(1 / omega3))**(-delta3 * omega3) * (1 + ((E/1e6) / Eb4)**(1 / omega4))**(-delta4 * omega4)\n"
     ]
    },
    {
     "name": "stdout",
     "output_type": "stream",
     "text": [
      "E4\n",
      "Lower error: 4.608385107302395\n",
      "Upper error: 1.598903274874381\n"
     ]
    }
   ],
   "source": [
    "def Errors_A_E(n):\n",
    "    \n",
    "    K_bestfit = 4.46 * 10**(-2) #(GeV m2 s sr)-1\n",
    "    alpha3_bestfit = 2.874\n",
    "    alpha4_bestfit = 2.7\n",
    "    alpha5_bestfit = 3.1\n",
    "    omega3_bestfit = 0.1\n",
    "    omega4_bestfit = 0.1\n",
    "    Eb3_bestfit = 0.2  #PeV\n",
    "    Eb4_bestfit = 3 #PeV\n",
    "\n",
    "    output = minimize(Chi_A, (K_bestfit, alpha3_bestfit, alpha4_bestfit, alpha5_bestfit, omega3_bestfit, omega4_bestfit, Eb3_bestfit, Eb4_bestfit), method='Nelder-Mead')\n",
    "    best_fit_values = output['x']\n",
    "    \n",
    "    scan = np.zeros(1000)\n",
    "    scan_chi_all = np.zeros(1000)\n",
    "    fit = best_fit_values[n]\n",
    "    for i in range(0, 50):\n",
    "        scan[i] = fit - (fit / 50)*i\n",
    "    for j in range(50, 1000):\n",
    "        scan[j] = fit + (fit / 50)*j\n",
    "    scan = np.sort(scan)\n",
    "    \n",
    "    true_best_fit = Chi_A(best_fit_values)\n",
    "    chi_sqrd = np.zeros(1000)\n",
    "    for k in range(0, 1000):\n",
    "        best_fit_values[n] = scan[k]\n",
    "        scan_chi = Chi_A(best_fit_values)\n",
    "        chi_sqrd[k] = np.abs(true_best_fit - scan_chi)\n",
    "        scan_chi_all[k] = Chi_A(best_fit_values)\n",
    "    return scan, fit, chi_sqrd, scan_chi_all\n",
    "\n",
    "# Find value for which chi^2 is equal to one\n",
    "yToFind = 9.30\n",
    "\n",
    "#Error of third energy\n",
    "scan, fit, chi_sqrd, scan_chi_all = Errors_A_E(6)\n",
    "yreduced = np.array(chi_sqrd) - yToFind\n",
    "freduced = interpolate.UnivariateSpline(scan, yreduced, s=0)\n",
    "scan_interval = freduced.roots()\n",
    "print('E3'); print('Lower error:', fit - scan_interval[0]); print('Upper error:', scan_interval[1] - fit)\n",
    "\n",
    "#print(chi_sqrd)\n",
    "\n",
    "# Check chi^2 - chi^2_min distribution\n",
    "#plt.plot(scan, scan_chi_all)\n",
    "#plt.plot(scan, chi_sqrd)\n",
    "#plt.axvline(x = fit, color='black')\n",
    "#plt.axvline(x = scan_interval[0], linestyle='--', color='black')\n",
    "\n",
    "#Error of third energy\n",
    "scan, fit, chi_sqrd, scan_chi_all = Errors_A_E(7)\n",
    "yreduced = np.array(chi_sqrd) - yToFind\n",
    "freduced = interpolate.UnivariateSpline(scan, yreduced, s=0)\n",
    "scan_interval = freduced.roots()\n",
    "print('E4'); print('Lower error:', fit - scan_interval[0]); print('Upper error:', scan_interval[1] - fit)"
   ]
  },
  {
   "cell_type": "markdown",
   "id": "6057f9e7",
   "metadata": {},
   "source": [
    "## Fitting using KASCADE data"
   ]
  },
  {
   "cell_type": "code",
   "execution_count": 290,
   "id": "7305483d",
   "metadata": {},
   "outputs": [],
   "source": [
    "# Joint chi^2\n",
    "def Chi_A2(parameters):\n",
    "    K, alpha3, alpha4, alpha5, omega3, omega4, Eb3, Eb4 = parameters\n",
    "    \n",
    "    E = np.append( np.append( np.append( np.append( np.append( np.append( np.append(E_PAMELA, E_AMS02), E_ATIC ), E_CREAM), E_CALET), E_DAMPE), E_GRAPES), E_KASCADE_2011GQS)\n",
    "    Flux = np.append( np.append( np.append( np.append( np.append( np.append( np.append(flux_PAMELA, flux_AMS02), flux_ATIC ), flux_CREAM), flux_CALET), flux_DAMPE), flux_GRAPES), flux_KASCADE_2011GQS)\n",
    "    Sigma = np.append( np.append( np.append( np.append( np.append( np.append( np.append(2*error_PAMELA, 2*error_AMS02), 2*error_ATIC ), error_CREAM_low+error_CREAM_up), error_CALET_low+error_CALET_up), 2*error_DAMPE), error_GRAPES_low+error_GRAPES_up), error_KASCADE_2011GQS_low+error_KASCADE_2011GQS_up)\n",
    "    \n",
    "    E0 = 0.1 * 1e3 #GeV\n",
    "    alpha1 = 2.805\n",
    "    alpha2 = 2.56\n",
    "    omega1 = 0.28\n",
    "    omega2 = 0.163\n",
    "    Eb1 = 0.670 * 1e3 #GeV\n",
    "    Eb2 = 16 * 1e3 #GeV\n",
    "    \n",
    "    Phi_model = Phi_A(E, K, 0.1 * 1e3, alpha1, alpha2, alpha3, alpha4, alpha5, omega1, omega2, omega3, omega4, Eb1, Eb2, Eb3, Eb4)\n",
    "    \n",
    "    return sum( (Phi_model - Flux)**2 / Sigma**2 ) "
   ]
  },
  {
   "cell_type": "code",
   "execution_count": 291,
   "id": "e1c275a6",
   "metadata": {},
   "outputs": [
    {
     "name": "stdout",
     "output_type": "stream",
     "text": [
      "Success: True\n"
     ]
    },
    {
     "name": "stderr",
     "output_type": "stream",
     "text": [
      "/var/folders/j4/1fvnmc755y74k9kgn5w7_s400000gn/T/ipykernel_20156/2512049160.py:6: RuntimeWarning: overflow encountered in power\n",
      "  return K * (E / E0)**(-alpha3) * (1 + (E / Eb1)**(1 / omega1))**(-delta1 * omega1) * (1 + (E / Eb2)**(1 / omega2))**(-delta2 * omega2) * (1 + ((E/1e6) / Eb3)**(1 / omega3))**(-delta3 * omega3) * (1 + ((E/1e6) / Eb4)**(1 / omega4))**(-delta4 * omega4)\n"
     ]
    }
   ],
   "source": [
    "# Initial guesses\n",
    "K_bestfit = 4.46 * 10**(-2) #(GeV m2 s sr)-1\n",
    "alpha3_bestfit = 2.874\n",
    "alpha4_bestfit = 2.7\n",
    "alpha5_bestfit = 3.1\n",
    "omega3_bestfit = 0.1\n",
    "omega4_bestfit = 0.1\n",
    "Eb3_bestfit = 0.2 #GeV\n",
    "Eb4_bestfit = 3 #GeV\n",
    "\n",
    "# Minimization of chi^2\n",
    "output2 = minimize(Chi_A2, (K_bestfit, alpha3_bestfit, alpha4_bestfit, alpha5_bestfit, omega3_bestfit, omega4_bestfit, Eb3_bestfit, Eb4_bestfit), method='L-BFGS-B')\n",
    "best_fit_values2 = output2['x']\n",
    "print('Success:', output2['success'])"
   ]
  },
  {
   "cell_type": "code",
   "execution_count": 292,
   "id": "7673ad26",
   "metadata": {},
   "outputs": [
    {
     "name": "stdout",
     "output_type": "stream",
     "text": [
      "MY BEST FIT VALUES:\n",
      "K: 0.0447011\n",
      "alpha_3: 2.815\n",
      "alpha_4: 3.0\n",
      "alpha_5: 3.849\n",
      "omega3: 0.039\n",
      "omega4: 0.324\n",
      "E3: 0.72 PeV\n",
      "E4: 3.003 PeV\n",
      "\n",
      "chi^2_min: 27.245527\n",
      "N_dof: 143\n",
      "Reduced chi^2_min: 0.1905282\n"
     ]
    }
   ],
   "source": [
    "# Best fit values\n",
    "print('MY BEST FIT VALUES:')\n",
    "# Normalization\n",
    "print('K:', round(best_fit_values2[0],7)); \n",
    "# Spectral indices\n",
    "print('alpha_3:', round(best_fit_values2[1],3)); print('alpha_4:', round(best_fit_values2[2],3));\n",
    "print('alpha_5:', round(best_fit_values2[3],3))\n",
    "# Widths\n",
    "print('omega3:', round(best_fit_values2[4],3)); print('omega4:', round(best_fit_values2[5],3)); \n",
    "# Energies\n",
    "print('E3:', round(best_fit_values2[6],3), 'PeV'); print('E4:', round(best_fit_values2[7],3), 'PeV')\n",
    "\n",
    "print('')\n",
    "\n",
    "min_chi2 = Chi_A2(best_fit_values2)\n",
    "n_dof2 = len(E_PAMELA) + len(E_AMS02) + len(E_ATIC) + len(E_CREAM) + len(E_CALET) + len(E_DAMPE) + len(E_GRAPES) + len(E_KASCADE_2011GQS)\n",
    "print('chi^2_min:', round(min_chi2,7))\n",
    "print('N_dof:', n_dof2)\n",
    "print('Reduced chi^2_min:', round(min_chi2 / n_dof2,7))"
   ]
  },
  {
   "cell_type": "code",
   "execution_count": 293,
   "id": "6774272d",
   "metadata": {},
   "outputs": [
    {
     "name": "stderr",
     "output_type": "stream",
     "text": [
      "/var/folders/j4/1fvnmc755y74k9kgn5w7_s400000gn/T/ipykernel_20156/2512049160.py:6: RuntimeWarning: overflow encountered in power\n",
      "  return K * (E / E0)**(-alpha3) * (1 + (E / Eb1)**(1 / omega1))**(-delta1 * omega1) * (1 + (E / Eb2)**(1 / omega2))**(-delta2 * omega2) * (1 + ((E/1e6) / Eb3)**(1 / omega3))**(-delta3 * omega3) * (1 + ((E/1e6) / Eb4)**(1 / omega4))**(-delta4 * omega4)\n"
     ]
    },
    {
     "name": "stdout",
     "output_type": "stream",
     "text": [
      "K\n",
      "Lower error: 0.000735789982139301\n",
      "Upper error: 0.0007388412211571799\n",
      "alpha3\n",
      "Lower error: 0.0018499958889250934\n",
      "Upper error: 0.11922770872961408\n",
      "alpha4\n",
      "Lower error: 0.03477828692108442\n",
      "Upper error: 0.050538803652419695\n",
      "alpha5\n",
      "Lower error: 0.22054823756806652\n",
      "Upper error: 0.26002529460615964\n"
     ]
    }
   ],
   "source": [
    "def Errors_A2(n):\n",
    "    \n",
    "    K_bestfit = 4.46 * 10**(-2) #(GeV m2 s sr)-1\n",
    "    alpha3_bestfit = 2.874\n",
    "    alpha4_bestfit = 2.7\n",
    "    alpha5_bestfit = 3.1\n",
    "    omega3_bestfit = 0.1\n",
    "    omega4_bestfit = 0.1\n",
    "    Eb3_bestfit = 0.2  #PeV\n",
    "    Eb4_bestfit = 3 #PeV\n",
    "\n",
    "    output = minimize(Chi_A2, (K_bestfit, alpha3_bestfit, alpha4_bestfit, alpha5_bestfit, omega3_bestfit, omega4_bestfit, Eb3_bestfit, Eb4_bestfit), method='Nelder-Mead')\n",
    "    best_fit_values = output['x']\n",
    "    \n",
    "    scan = np.zeros(50)\n",
    "    fit = best_fit_values[n]\n",
    "    for i in range(0, 25):\n",
    "        scan[i] = fit - (fit / 100)*i\n",
    "    for j in range(25, 50):\n",
    "        scan[j] = fit + (fit / 100)*j\n",
    "    scan = np.sort(scan)\n",
    "    \n",
    "    true_best_fit = Chi_A2(best_fit_values)\n",
    "    chi_sqrd = np.zeros(50)\n",
    "    for k in range(0, 50):\n",
    "        best_fit_values[n] = scan[k]\n",
    "        scan_chi = Chi_A2(best_fit_values)\n",
    "        chi_sqrd[k] = np.abs(true_best_fit - scan_chi)\n",
    "    return scan, fit, chi_sqrd\n",
    "\n",
    "# Find value for which chi^2 is equal to one\n",
    "yToFind = 9.30\n",
    "\n",
    "# Error of normilization\n",
    "scan, fit, chi_sqrd = Errors_A2(0)\n",
    "yreduced = np.array(chi_sqrd) - yToFind\n",
    "freduced = interpolate.UnivariateSpline(scan, yreduced, s=0)\n",
    "scan_interval = freduced.roots()\n",
    "print('K'); print('Lower error:', fit - scan_interval[0]); print('Upper error:', scan_interval[1] - fit)\n",
    "\n",
    "# Error of third index\n",
    "scan, fit, chi_sqrd = Errors_A2(1)\n",
    "yreduced = np.array(chi_sqrd) - yToFind\n",
    "freduced = interpolate.UnivariateSpline(scan, yreduced, s=0)\n",
    "scan_interval = freduced.roots()\n",
    "print('alpha3'); print('Lower error:', fit - scan_interval[0]); print('Upper error:', scan_interval[1] - fit)\n",
    "\n",
    "#Error of fourth index\n",
    "scan, fit, chi_sqrd = Errors_A2(2)\n",
    "yreduced = np.array(chi_sqrd) - yToFind\n",
    "freduced = interpolate.UnivariateSpline(scan, yreduced, s=0)\n",
    "scan_interval = freduced.roots()\n",
    "print('alpha4'); print('Lower error:', fit - scan_interval[0]); print('Upper error:', scan_interval[1] - fit)\n",
    "\n",
    "#Error of fifth index\n",
    "scan, fit, chi_sqrd = Errors_A2(3)\n",
    "yreduced = np.array(chi_sqrd) - yToFind\n",
    "freduced = interpolate.UnivariateSpline(scan, yreduced, s=0)\n",
    "scan_interval = freduced.roots()\n",
    "print('alpha5'); print('Lower error:', fit - scan_interval[0]); print('Upper error:', scan_interval[1] - fit)"
   ]
  },
  {
   "cell_type": "code",
   "execution_count": 294,
   "id": "f27b7d2a",
   "metadata": {},
   "outputs": [
    {
     "name": "stderr",
     "output_type": "stream",
     "text": [
      "/var/folders/j4/1fvnmc755y74k9kgn5w7_s400000gn/T/ipykernel_20156/2512049160.py:6: RuntimeWarning: overflow encountered in power\n",
      "  return K * (E / E0)**(-alpha3) * (1 + (E / Eb1)**(1 / omega1))**(-delta1 * omega1) * (1 + (E / Eb2)**(1 / omega2))**(-delta2 * omega2) * (1 + ((E/1e6) / Eb3)**(1 / omega3))**(-delta3 * omega3) * (1 + ((E/1e6) / Eb4)**(1 / omega4))**(-delta4 * omega4)\n"
     ]
    },
    {
     "name": "stdout",
     "output_type": "stream",
     "text": [
      "omega3\n",
      "Upper error: 1.8966380953792736\n",
      "omega4\n",
      "Lower error: 0.07006475365541054\n",
      "Upper error: 0.09328156230616336\n"
     ]
    }
   ],
   "source": [
    "def Errors_A_width2(n):\n",
    "    \n",
    "    K_bestfit = 4.46 * 10**(-2) #(GeV m2 s sr)-1\n",
    "    alpha3_bestfit = 2.874\n",
    "    alpha4_bestfit = 2.7\n",
    "    alpha5_bestfit = 3.1\n",
    "    omega3_bestfit = 0.1\n",
    "    omega4_bestfit = 0.1\n",
    "    Eb3_bestfit = 0.2  #PeV\n",
    "    Eb4_bestfit = 3 #PeV\n",
    "\n",
    "    output = minimize(Chi_A2, (K_bestfit, alpha3_bestfit, alpha4_bestfit, alpha5_bestfit, omega3_bestfit, omega4_bestfit, Eb3_bestfit, Eb4_bestfit), method='Nelder-Mead')\n",
    "    best_fit_values = output['x']\n",
    "    \n",
    "    scan = np.zeros(500)\n",
    "    scan_chi_all = np.zeros(500)\n",
    "    fit = best_fit_values[n]\n",
    "    for i in range(0, 10):\n",
    "        scan[i] = fit - (fit / 10)*i\n",
    "    for j in range(10, 500):\n",
    "        scan[j] = fit + (fit / 1)*j\n",
    "    scan = np.sort(scan)\n",
    "    \n",
    "    true_best_fit = Chi_A2(best_fit_values)\n",
    "    chi_sqrd = np.zeros(500)\n",
    "    for k in range(0, 500):\n",
    "        best_fit_values[n] = scan[k]\n",
    "        scan_chi = Chi_A2(best_fit_values)\n",
    "        chi_sqrd[k] = np.abs(true_best_fit - scan_chi)\n",
    "        scan_chi_all[k] = Chi_A2(best_fit_values)\n",
    "    return scan, fit, chi_sqrd, scan_chi_all\n",
    "\n",
    "# Find value for which chi^2 is equal to one\n",
    "yToFind = 9.30\n",
    "\n",
    "#Error of third width\n",
    "scan, fit, chi_sqrd, scan_chi_all = Errors_A_width2(4)\n",
    "yreduced = np.array(chi_sqrd[9::]) - yToFind\n",
    "freduced = interpolate.UnivariateSpline(scan[9::], yreduced, s=0)\n",
    "scan_interval = freduced.roots()\n",
    "print('omega3'); #print('Lower error:', fit - scan_interval[0]); \n",
    "print('Upper error:', scan_interval[0] - fit)\n",
    "\n",
    "#print(chi_sqrd)\n",
    "\n",
    "# Check chi^2 - chi^2_min distribution\n",
    "#plt.plot(scan, scan_chi_all)\n",
    "#plt.plot(scan, chi_sqrd)\n",
    "#plt.axvline(x = fit, color='black')\n",
    "#plt.axvline(x = scan_interval[4], linestyle='--', color='black')\n",
    "#plt.axvline(x = scan_interval[5], linestyle='--', color='black')\n",
    "\n",
    "#Error of fourth width\n",
    "scan, fit, chi_sqrd, scan_chi = Errors_A_width2(5)\n",
    "yreduced = np.array(chi_sqrd) - yToFind\n",
    "freduced = interpolate.UnivariateSpline(scan, yreduced, s=0)\n",
    "scan_interval = freduced.roots()\n",
    "print('omega4'); print('Lower error:', fit - scan_interval[0]); print('Upper error:', scan_interval[1] - fit)\n",
    "\n",
    "#print(scan_interval)\n",
    "\n",
    "# Check chi^2 - chi^2_min distribution\n",
    "#plt.plot(scan, scan_chi_all)\n",
    "#plt.plot(scan, chi_sqrd)\n",
    "#plt.axvline(x = fit, color='black')\n",
    "#plt.axvline(x = scan_interval[4], linestyle='--', color='black')\n",
    "#plt.axvline(x = scan_interval[5], linestyle='--', color='black')"
   ]
  },
  {
   "cell_type": "code",
   "execution_count": 295,
   "id": "5c000fb7",
   "metadata": {},
   "outputs": [
    {
     "name": "stderr",
     "output_type": "stream",
     "text": [
      "/var/folders/j4/1fvnmc755y74k9kgn5w7_s400000gn/T/ipykernel_20156/2512049160.py:6: RuntimeWarning: overflow encountered in power\n",
      "  return K * (E / E0)**(-alpha3) * (1 + (E / Eb1)**(1 / omega1))**(-delta1 * omega1) * (1 + (E / Eb2)**(1 / omega2))**(-delta2 * omega2) * (1 + ((E/1e6) / Eb3)**(1 / omega3))**(-delta3 * omega3) * (1 + ((E/1e6) / Eb4)**(1 / omega4))**(-delta4 * omega4)\n"
     ]
    },
    {
     "name": "stdout",
     "output_type": "stream",
     "text": [
      "E3\n",
      "Upper error: 0.2704878402187582\n",
      "E4\n",
      "Lower error: 0.5830896244982475\n",
      "Upper error: 0.7327083210133178\n"
     ]
    }
   ],
   "source": [
    "def Errors_A_E_2(n):\n",
    "    \n",
    "    K_bestfit = 4.46 * 10**(-2) #(GeV m2 s sr)-1\n",
    "    alpha3_bestfit = 2.874\n",
    "    alpha4_bestfit = 2.7\n",
    "    alpha5_bestfit = 3.1\n",
    "    omega3_bestfit = 0.1\n",
    "    omega4_bestfit = 0.1\n",
    "    Eb3_bestfit = 0.2  #PeV\n",
    "    Eb4_bestfit = 3 #PeV\n",
    "\n",
    "    output = minimize(Chi_A2, (K_bestfit, alpha3_bestfit, alpha4_bestfit, alpha5_bestfit, omega3_bestfit, omega4_bestfit, Eb3_bestfit, Eb4_bestfit), method='Nelder-Mead')\n",
    "    best_fit_values = output['x']\n",
    "    \n",
    "    scan = np.zeros(1000)\n",
    "    scan_chi_all = np.zeros(1000)\n",
    "    fit = best_fit_values[n]\n",
    "    for i in range(0, 30):\n",
    "        scan[i] = fit - (fit / 100)*i\n",
    "    for j in range(30, 1000):\n",
    "        scan[j] = fit + (fit / 50)*j\n",
    "    scan = np.sort(scan)\n",
    "    \n",
    "    true_best_fit = Chi_A2(best_fit_values)\n",
    "    chi_sqrd = np.zeros(1000)\n",
    "    for k in range(0, 1000):\n",
    "        best_fit_values[n] = scan[k]\n",
    "        scan_chi = Chi_A2(best_fit_values)\n",
    "        chi_sqrd[k] = np.abs(true_best_fit - scan_chi)\n",
    "        scan_chi_all[k] = Chi_A2(best_fit_values)\n",
    "    return scan, fit, chi_sqrd, scan_chi_all\n",
    "\n",
    "# Find value for which chi^2 is equal to one\n",
    "yToFind = 9.30\n",
    "\n",
    "#Error of fourth energy\n",
    "scan, fit, chi_sqrd, scan_chi_all = Errors_A_E_2(6)\n",
    "yreduced = np.array(chi_sqrd) - yToFind\n",
    "freduced = interpolate.UnivariateSpline(scan, yreduced, s=0)\n",
    "scan_interval = freduced.roots()\n",
    "print('E3'); #print('Lower error:', fit - scan_interval[0]); \n",
    "print('Upper error:', scan_interval[0] - fit)\n",
    "\n",
    "#print(chi_sqrd)\n",
    "\n",
    "# Check chi^2 - chi^2_min distribution\n",
    "#plt.plot(scan, scan_chi_all)\n",
    "#plt.plot(scan, chi_sqrd)\n",
    "#plt.axvline(x = fit, color='black')\n",
    "#plt.axvline(x = scan_interval[4], linestyle='--', color='black')\n",
    "#plt.axvline(x = scan_interval[5], linestyle='--', color='black')\n",
    "\n",
    "#Error of fourth energy\n",
    "scan, fit, chi_sqrd, scan_chi_all = Errors_A_E_2(7)\n",
    "yreduced = np.array(chi_sqrd) - yToFind\n",
    "freduced = interpolate.UnivariateSpline(scan, yreduced, s=0)\n",
    "scan_interval = freduced.roots()\n",
    "print('E4'); print('Lower error:', fit - scan_interval[0]); print('Upper error:', scan_interval[1] - fit)"
   ]
  },
  {
   "cell_type": "code",
   "execution_count": 296,
   "id": "fe2ae5e0",
   "metadata": {},
   "outputs": [
    {
     "data": {
      "image/png": "[encoded data removed]",
      "text/plain": [
       "<Figure size 1500x700 with 1 Axes>"
      ]
     },
     "metadata": {},
     "output_type": "display_data"
    }
   ],
   "source": [
    "logE = np.arange(0,9,0.1)\n",
    "E = 10**logE\n",
    "Phi_model = Phi_A(E, best_fit_values[0], 0.1 * 1e3, 2.805, 2.56, best_fit_values[1], best_fit_values[2], best_fit_values[3], 0.28, 0.163, best_fit_values[4], best_fit_values[5], 0.670 * 1e3, 16 * 1e3, best_fit_values[6], best_fit_values[7])\n",
    "Phi_model2 = Phi_A(E, best_fit_values2[0], 0.1 * 1e3, 2.805, 2.56, best_fit_values2[1], best_fit_values2[2], best_fit_values2[3], 0.28, 0.163, best_fit_values2[4], best_fit_values2[5], 0.670 * 1e3, 16 * 1e3, best_fit_values2[6], best_fit_values2[7])\n",
    "plt.figure(figsize=(15, 7))\n",
    "# Model\n",
    "plt.plot(E, Phi_model * E**2.7, color='black', label=r'Best fit ($\\chi^2 / n_{dof} = 0.16$)')\n",
    "plt.plot(E, Phi_model2 * E**2.7, linestyle='--', color='black', label=r'Best fit ($\\chi^2 / n_{dof} = 0.20$)')\n",
    "# Low energy\n",
    "plt.errorbar(E_PAMELA, flux_PAMELA * E_PAMELA**2.7, yerr=error_PAMELA * E_PAMELA**2.7, fmt='o', color='red', label='PAMELA')\n",
    "plt.errorbar(E_AMS02, flux_AMS02 * E_AMS02**2.7, yerr=error_AMS02 * E_AMS02**2.7, fmt='s', color='orange', label='AMS02')\n",
    "plt.errorbar(E_DAMPE, flux_DAMPE * E_DAMPE**2.7, yerr=error_DAMPE * E_DAMPE**2.7, fmt='^', color='gold', label='DAMPE')\n",
    "plt.errorbar(E_CALET, flux_CALET * E_CALET**2.7, yerr=(error_CALET_low, error_CALET_low) * E_CALET**2.7, fmt='v', color='green', label='CALET')\n",
    "plt.errorbar(E_CREAM, flux_CREAM * E_CREAM**2.7, yerr=(error_CREAM_low, error_CREAM_low) * E_CREAM**2.7, fmt='d', color='cyan', label='CREAM')\n",
    "plt.errorbar(E_ATIC, flux_ATIC * E_ATIC**2.7, yerr=error_ATIC * E_ATIC**2.7, fmt='*', color='blue', label='ATIC')\n",
    "# High energy\n",
    "plt.errorbar(E_GRAPES, flux_GRAPES * E_GRAPES**2.7, yerr=(error_GRAPES_low, error_GRAPES_up) * E_GRAPES**2.7, fmt='p', color='purple', label='GRAPES-3')\n",
    "plt.errorbar(E_ICECUBE, flux_ICECUBE * E_ICECUBE**2.7, yerr=(error_ICECUBE_low, error_ICECUBE_up) * E_ICECUBE**2.7, fmt='p', color='pink', label='IceTop (Sibyll 2.1)')\n",
    "plt.errorbar(E_KASCADE_2005GQS, flux_KASCADE_2005GQS * E_KASCADE_2005GQS**2.7, yerr=error_KASCADE_2005GQS * E_KASCADE_2005GQS**2.7, fmt='h', color='brown', label='KASCADE (QGSJet-01)')\n",
    "plt.errorbar(E_KASCADE_2005Sibyll, flux_KASCADE_2005Sibyll * E_KASCADE_2005Sibyll**2.7, yerr=(error_KASCADE_2005Sibyll_low, error_KASCADE_2005Sibyll_up) * E_KASCADE_2005Sibyll**2.7, fmt='h', color='gray', label='KASCADE (Sibyll 2.1)')\n",
    "plt.errorbar(E_KASCADE_2011GQS, flux_KASCADE_2011GQS * E_KASCADE_2011GQS**2.7, yerr=(error_KASCADE_2011GQS_low, error_KASCADE_2011GQS_up)  * E_KASCADE_2011GQS**2.7, fmt='h', color='black', label='KASCADE-Grande (QGSJet-II-2)')\n",
    "plt.loglog()\n",
    "plt.xlim(5e1,5e8)\n",
    "plt.ylim(2e2,5e5)\n",
    "plt.xlabel('E [GeV]', fontsize=17)\n",
    "plt.ylabel(r'$E^{2.7}\\phi(E)$ [GeV$^{1.7}$ (m$^2$ s sr)$^{-1}$]', fontsize=17)\n",
    "plt.legend(ncol=3, fontsize=17, loc='upper left')\n",
    "plt.title('Model A', fontsize=17)\n",
    "plt.savefig('/Users/luisenriqueespinosacastro/Documents/PhD/Research/Cosmic ray spectrum/Cosmic_Ray_Spectrum_Models/Plots/knee_modelA_fit.png')"
   ]
  },
  {
   "cell_type": "code",
   "execution_count": null,
   "id": "f755d0ea",
   "metadata": {},
   "outputs": [],
   "source": []
  }
 ],
 "metadata": {
  "kernelspec": {
   "display_name": "Python 3 (ipykernel)",
   "language": "python",
   "name": "python3"
  },
  "language_info": {
   "codemirror_mode": {
    "name": "ipython",
    "version": 3
   },
   "file_extension": ".py",
   "mimetype": "text/x-python",
   "name": "python",
   "nbconvert_exporter": "python",
   "pygments_lexer": "ipython3",
   "version": "3.11.5"
  }
 },
 "nbformat": 4,
 "nbformat_minor": 5
}
